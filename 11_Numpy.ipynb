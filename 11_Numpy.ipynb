{
  "nbformat": 4,
  "nbformat_minor": 0,
  "metadata": {
    "colab": {
      "name": "11_Numpy.ipynb",
      "provenance": [],
      "collapsed_sections": []
    },
    "kernelspec": {
      "name": "python3",
      "display_name": "Python 3"
    },
    "language_info": {
      "name": "python"
    }
  },
  "cells": [
    {
      "cell_type": "markdown",
      "metadata": {
        "id": "NxLB3Wzb8wDf"
      },
      "source": [
        "# Numpy"
      ]
    },
    {
      "cell_type": "code",
      "metadata": {
        "id": "gM04KEWZrmIf"
      },
      "source": [
        "import numpy as np"
      ],
      "execution_count": 1,
      "outputs": []
    },
    {
      "cell_type": "markdown",
      "metadata": {
        "id": "7LAMV4eJ8_CQ"
      },
      "source": [
        "### N Dimensional Array"
      ]
    },
    {
      "cell_type": "code",
      "metadata": {
        "colab": {
          "base_uri": "https://localhost:8080/"
        },
        "id": "qQTq0AaN818e",
        "outputId": "a6416784-f6cd-41bc-cd73-bce895acd8e0"
      },
      "source": [
        "a = np.array([1,4,5,8], float)\n",
        "a"
      ],
      "execution_count": 2,
      "outputs": [
        {
          "output_type": "execute_result",
          "data": {
            "text/plain": [
              "array([1., 4., 5., 8.])"
            ]
          },
          "metadata": {},
          "execution_count": 2
        }
      ]
    },
    {
      "cell_type": "code",
      "metadata": {
        "colab": {
          "base_uri": "https://localhost:8080/"
        },
        "id": "LS6WIe_u9MwV",
        "outputId": "55bc4bb7-50af-4c6d-b0c8-df426d4f2f6e"
      },
      "source": [
        "type(a)"
      ],
      "execution_count": 3,
      "outputs": [
        {
          "output_type": "execute_result",
          "data": {
            "text/plain": [
              "numpy.ndarray"
            ]
          },
          "metadata": {},
          "execution_count": 3
        }
      ]
    },
    {
      "cell_type": "code",
      "metadata": {
        "colab": {
          "base_uri": "https://localhost:8080/"
        },
        "id": "lKFZ3AzB9Qxt",
        "outputId": "f4395d6d-269a-48cb-c15f-b3a74b025e27"
      },
      "source": [
        "a.dtype"
      ],
      "execution_count": 4,
      "outputs": [
        {
          "output_type": "execute_result",
          "data": {
            "text/plain": [
              "dtype('float64')"
            ]
          },
          "metadata": {},
          "execution_count": 4
        }
      ]
    },
    {
      "cell_type": "code",
      "metadata": {
        "colab": {
          "base_uri": "https://localhost:8080/"
        },
        "id": "68Iz_ywr9VO8",
        "outputId": "28e40d3c-d17c-4421-bfab-ec0c37edf715"
      },
      "source": [
        "a.shape"
      ],
      "execution_count": 5,
      "outputs": [
        {
          "output_type": "execute_result",
          "data": {
            "text/plain": [
              "(4,)"
            ]
          },
          "metadata": {},
          "execution_count": 5
        }
      ]
    },
    {
      "cell_type": "code",
      "metadata": {
        "colab": {
          "base_uri": "https://localhost:8080/"
        },
        "id": "nf0Xzvb89cRU",
        "outputId": "398ffd06-b450-4d39-d287-35b10fc2a63e"
      },
      "source": [
        "a[2]"
      ],
      "execution_count": 6,
      "outputs": [
        {
          "output_type": "execute_result",
          "data": {
            "text/plain": [
              "5.0"
            ]
          },
          "metadata": {},
          "execution_count": 6
        }
      ]
    },
    {
      "cell_type": "code",
      "metadata": {
        "colab": {
          "base_uri": "https://localhost:8080/"
        },
        "id": "vNBUzXD192_1",
        "outputId": "232bf93e-0915-47ce-c7d1-e45782402c05"
      },
      "source": [
        "tensor = [[[1,2,5,8], [2,3,4,9], [4,5,6,7]],\n",
        "            [[1,2,5,8], [2,3,4,9], [4,5,6,7]],\n",
        "            [[1,2,5,8], [2,3,4,9], [4,5,6,7]],\n",
        "            [[1,2,5,8], [2,3,4,9], [4,5,6,7]]]\n",
        "b = np.array(tensor)\n",
        "b.shape"
      ],
      "execution_count": 8,
      "outputs": [
        {
          "output_type": "execute_result",
          "data": {
            "text/plain": [
              "(4, 3, 4)"
            ]
          },
          "metadata": {},
          "execution_count": 8
        }
      ]
    },
    {
      "cell_type": "code",
      "metadata": {
        "colab": {
          "base_uri": "https://localhost:8080/"
        },
        "id": "OxSPWyLK-WZS",
        "outputId": "f623a568-d52c-4cac-c844-4fc4065274c6"
      },
      "source": [
        "b"
      ],
      "execution_count": 9,
      "outputs": [
        {
          "output_type": "execute_result",
          "data": {
            "text/plain": [
              "array([[[1, 2, 5, 8],\n",
              "        [2, 3, 4, 9],\n",
              "        [4, 5, 6, 7]],\n",
              "\n",
              "       [[1, 2, 5, 8],\n",
              "        [2, 3, 4, 9],\n",
              "        [4, 5, 6, 7]],\n",
              "\n",
              "       [[1, 2, 5, 8],\n",
              "        [2, 3, 4, 9],\n",
              "        [4, 5, 6, 7]],\n",
              "\n",
              "       [[1, 2, 5, 8],\n",
              "        [2, 3, 4, 9],\n",
              "        [4, 5, 6, 7]]])"
            ]
          },
          "metadata": {},
          "execution_count": 9
        }
      ]
    },
    {
      "cell_type": "code",
      "metadata": {
        "colab": {
          "base_uri": "https://localhost:8080/"
        },
        "id": "QFS6K6kp-p-Q",
        "outputId": "3b5791a1-315d-486c-eed4-d47b55c95692"
      },
      "source": [
        "b.ndim"
      ],
      "execution_count": 10,
      "outputs": [
        {
          "output_type": "execute_result",
          "data": {
            "text/plain": [
              "3"
            ]
          },
          "metadata": {},
          "execution_count": 10
        }
      ]
    },
    {
      "cell_type": "code",
      "metadata": {
        "colab": {
          "base_uri": "https://localhost:8080/"
        },
        "id": "9vErTMLc-wEL",
        "outputId": "fab05f31-c05f-44ae-8ed2-a57686b1cb80"
      },
      "source": [
        "b.size"
      ],
      "execution_count": 11,
      "outputs": [
        {
          "output_type": "execute_result",
          "data": {
            "text/plain": [
              "48"
            ]
          },
          "metadata": {},
          "execution_count": 11
        }
      ]
    },
    {
      "cell_type": "code",
      "metadata": {
        "colab": {
          "base_uri": "https://localhost:8080/"
        },
        "id": "0aDi0Y6H-x4Z",
        "outputId": "ba5bd6a2-5658-4d0c-a711-b32cbbe22dc0"
      },
      "source": [
        "np.array([[1,2,3],[4.5,'5','6']], dtype=np.float32)"
      ],
      "execution_count": 12,
      "outputs": [
        {
          "output_type": "execute_result",
          "data": {
            "text/plain": [
              "array([[1. , 2. , 3. ],\n",
              "       [4.5, 5. , 6. ]], dtype=float32)"
            ]
          },
          "metadata": {},
          "execution_count": 12
        }
      ]
    },
    {
      "cell_type": "code",
      "metadata": {
        "colab": {
          "base_uri": "https://localhost:8080/"
        },
        "id": "ft-HIHXC_M03",
        "outputId": "08377413-30ec-41b2-f159-8f1d640c1476"
      },
      "source": [
        "b.reshape(6,8)"
      ],
      "execution_count": 13,
      "outputs": [
        {
          "output_type": "execute_result",
          "data": {
            "text/plain": [
              "array([[1, 2, 5, 8, 2, 3, 4, 9],\n",
              "       [4, 5, 6, 7, 1, 2, 5, 8],\n",
              "       [2, 3, 4, 9, 4, 5, 6, 7],\n",
              "       [1, 2, 5, 8, 2, 3, 4, 9],\n",
              "       [4, 5, 6, 7, 1, 2, 5, 8],\n",
              "       [2, 3, 4, 9, 4, 5, 6, 7]])"
            ]
          },
          "metadata": {},
          "execution_count": 13
        }
      ]
    },
    {
      "cell_type": "code",
      "metadata": {
        "colab": {
          "base_uri": "https://localhost:8080/"
        },
        "id": "UBxqSjGn_c38",
        "outputId": "4176b9c6-1f20-4ea5-e5d7-80140405fa6f"
      },
      "source": [
        "b.reshape(6, -1)"
      ],
      "execution_count": 14,
      "outputs": [
        {
          "output_type": "execute_result",
          "data": {
            "text/plain": [
              "array([[1, 2, 5, 8, 2, 3, 4, 9],\n",
              "       [4, 5, 6, 7, 1, 2, 5, 8],\n",
              "       [2, 3, 4, 9, 4, 5, 6, 7],\n",
              "       [1, 2, 5, 8, 2, 3, 4, 9],\n",
              "       [4, 5, 6, 7, 1, 2, 5, 8],\n",
              "       [2, 3, 4, 9, 4, 5, 6, 7]])"
            ]
          },
          "metadata": {},
          "execution_count": 14
        }
      ]
    },
    {
      "cell_type": "code",
      "metadata": {
        "colab": {
          "base_uri": "https://localhost:8080/"
        },
        "id": "6eNTpdPT_3no",
        "outputId": "f312f93d-7a1b-48d8-d17f-56e64c1e1ce5"
      },
      "source": [
        "c = np.array([[1,2,3,4], [5,6,7,8]])\n",
        "c.reshape(8,)"
      ],
      "execution_count": 15,
      "outputs": [
        {
          "output_type": "execute_result",
          "data": {
            "text/plain": [
              "array([1, 2, 3, 4, 5, 6, 7, 8])"
            ]
          },
          "metadata": {},
          "execution_count": 15
        }
      ]
    },
    {
      "cell_type": "code",
      "metadata": {
        "colab": {
          "base_uri": "https://localhost:8080/"
        },
        "id": "btgrgn7fAON6",
        "outputId": "946f885d-6a86-4ca7-ad9d-b13cf0295c48"
      },
      "source": [
        "c.flatten()"
      ],
      "execution_count": 17,
      "outputs": [
        {
          "output_type": "execute_result",
          "data": {
            "text/plain": [
              "array([1, 2, 3, 4, 5, 6, 7, 8])"
            ]
          },
          "metadata": {},
          "execution_count": 17
        }
      ]
    },
    {
      "cell_type": "code",
      "metadata": {
        "colab": {
          "base_uri": "https://localhost:8080/"
        },
        "id": "Sm4eqfMpAVnH",
        "outputId": "03a37581-753c-43d0-b74d-1b49210f1d04"
      },
      "source": [
        "c.view(np.float32)"
      ],
      "execution_count": 20,
      "outputs": [
        {
          "output_type": "execute_result",
          "data": {
            "text/plain": [
              "array([[1.4e-45, 0.0e+00, 2.8e-45, 0.0e+00, 4.2e-45, 0.0e+00, 5.6e-45,\n",
              "        0.0e+00],\n",
              "       [7.0e-45, 0.0e+00, 8.4e-45, 0.0e+00, 9.8e-45, 0.0e+00, 1.1e-44,\n",
              "        0.0e+00]], dtype=float32)"
            ]
          },
          "metadata": {},
          "execution_count": 20
        }
      ]
    },
    {
      "cell_type": "markdown",
      "metadata": {
        "id": "rXg71JCCA7dE"
      },
      "source": [
        "### Indexing & Slicing"
      ]
    },
    {
      "cell_type": "code",
      "metadata": {
        "colab": {
          "base_uri": "https://localhost:8080/"
        },
        "id": "ZXLiOy3eAgk7",
        "outputId": "f2add548-194d-41d9-a974-f32354a20bf1"
      },
      "source": [
        "c"
      ],
      "execution_count": 21,
      "outputs": [
        {
          "output_type": "execute_result",
          "data": {
            "text/plain": [
              "array([[1, 2, 3, 4],\n",
              "       [5, 6, 7, 8]])"
            ]
          },
          "metadata": {},
          "execution_count": 21
        }
      ]
    },
    {
      "cell_type": "code",
      "metadata": {
        "colab": {
          "base_uri": "https://localhost:8080/"
        },
        "id": "yQeP1JcYBA37",
        "outputId": "1159cb23-0238-4d95-ffde-58ac55f409c0"
      },
      "source": [
        "c[1][1]             # numpy array나 list에서 사용"
      ],
      "execution_count": 22,
      "outputs": [
        {
          "output_type": "execute_result",
          "data": {
            "text/plain": [
              "6"
            ]
          },
          "metadata": {},
          "execution_count": 22
        }
      ]
    },
    {
      "cell_type": "code",
      "metadata": {
        "colab": {
          "base_uri": "https://localhost:8080/"
        },
        "id": "NP4UtLlOBG_6",
        "outputId": "7222141f-8a97-4030-8423-8f336e0469c2"
      },
      "source": [
        "c[1,1]              # numpy array에서만 허용"
      ],
      "execution_count": 23,
      "outputs": [
        {
          "output_type": "execute_result",
          "data": {
            "text/plain": [
              "6"
            ]
          },
          "metadata": {},
          "execution_count": 23
        }
      ]
    },
    {
      "cell_type": "code",
      "metadata": {
        "id": "5LiPP33ABKsl"
      },
      "source": [
        "c[1,1] = 9"
      ],
      "execution_count": 24,
      "outputs": []
    },
    {
      "cell_type": "code",
      "metadata": {
        "colab": {
          "base_uri": "https://localhost:8080/"
        },
        "id": "dW0yLAp2Bher",
        "outputId": "16003452-47c3-43c1-87f2-195d6050aaa6"
      },
      "source": [
        "c[:, :2]"
      ],
      "execution_count": 25,
      "outputs": [
        {
          "output_type": "execute_result",
          "data": {
            "text/plain": [
              "array([[1, 2],\n",
              "       [5, 9]])"
            ]
          },
          "metadata": {},
          "execution_count": 25
        }
      ]
    },
    {
      "cell_type": "code",
      "metadata": {
        "colab": {
          "base_uri": "https://localhost:8080/"
        },
        "id": "fTVrQYguB9Im",
        "outputId": "afb526e7-97f1-4f56-f6a5-2fe59ef3586c"
      },
      "source": [
        "c[0, 1:3]"
      ],
      "execution_count": 26,
      "outputs": [
        {
          "output_type": "execute_result",
          "data": {
            "text/plain": [
              "array([2, 3])"
            ]
          },
          "metadata": {},
          "execution_count": 26
        }
      ]
    },
    {
      "cell_type": "code",
      "metadata": {
        "colab": {
          "base_uri": "https://localhost:8080/"
        },
        "id": "59M3sdqiCLDd",
        "outputId": "ddebf784-c072-489e-c365-d001200235c8"
      },
      "source": [
        "c[:, ::2]"
      ],
      "execution_count": 27,
      "outputs": [
        {
          "output_type": "execute_result",
          "data": {
            "text/plain": [
              "array([[1, 3],\n",
              "       [5, 7]])"
            ]
          },
          "metadata": {},
          "execution_count": 27
        }
      ]
    },
    {
      "cell_type": "code",
      "metadata": {
        "colab": {
          "base_uri": "https://localhost:8080/"
        },
        "id": "w2iQA1R9CVRW",
        "outputId": "4924f106-be44-41fc-bcdb-69553a0f5a3e"
      },
      "source": [
        "c[:, ::-1]"
      ],
      "execution_count": 28,
      "outputs": [
        {
          "output_type": "execute_result",
          "data": {
            "text/plain": [
              "array([[4, 3, 2, 1],\n",
              "       [8, 7, 9, 5]])"
            ]
          },
          "metadata": {},
          "execution_count": 28
        }
      ]
    },
    {
      "cell_type": "code",
      "metadata": {
        "id": "6pPjn0S0Cght"
      },
      "source": [
        "X = c[:, :-1]\n",
        "y = c[:, -1]"
      ],
      "execution_count": 29,
      "outputs": []
    },
    {
      "cell_type": "markdown",
      "metadata": {
        "id": "LwkrQ0vsG9qQ"
      },
      "source": [
        "### Creation"
      ]
    },
    {
      "cell_type": "code",
      "metadata": {
        "colab": {
          "base_uri": "https://localhost:8080/"
        },
        "id": "r0dxQ70pC-Gx",
        "outputId": "127b6c94-db78-497c-db4f-3efe690801d7"
      },
      "source": [
        "np.arange(5)"
      ],
      "execution_count": 30,
      "outputs": [
        {
          "output_type": "execute_result",
          "data": {
            "text/plain": [
              "array([0, 1, 2, 3, 4])"
            ]
          },
          "metadata": {},
          "execution_count": 30
        }
      ]
    },
    {
      "cell_type": "code",
      "metadata": {
        "colab": {
          "base_uri": "https://localhost:8080/"
        },
        "id": "EEkT9ymTHJk5",
        "outputId": "c3aa9026-9b6f-4df6-abe6-727a60ef0a7c"
      },
      "source": [
        "np.arange(5, dtype=np.float32)"
      ],
      "execution_count": 31,
      "outputs": [
        {
          "output_type": "execute_result",
          "data": {
            "text/plain": [
              "array([0., 1., 2., 3., 4.], dtype=float32)"
            ]
          },
          "metadata": {},
          "execution_count": 31
        }
      ]
    },
    {
      "cell_type": "code",
      "metadata": {
        "colab": {
          "base_uri": "https://localhost:8080/"
        },
        "id": "JScGgONrHScp",
        "outputId": "d333dc6e-9727-4310-9b80-b5bf01afb3d4"
      },
      "source": [
        "np.arange(1, 5.1, 0.5)"
      ],
      "execution_count": 32,
      "outputs": [
        {
          "output_type": "execute_result",
          "data": {
            "text/plain": [
              "array([1. , 1.5, 2. , 2.5, 3. , 3.5, 4. , 4.5, 5. ])"
            ]
          },
          "metadata": {},
          "execution_count": 32
        }
      ]
    },
    {
      "cell_type": "code",
      "metadata": {
        "colab": {
          "base_uri": "https://localhost:8080/",
          "height": 172
        },
        "id": "LWkYeXpcHhmy",
        "outputId": "100ef7f7-1781-42d8-c6c8-88c14290642f"
      },
      "source": [
        "range(1, 5.1, 0.5)"
      ],
      "execution_count": 33,
      "outputs": [
        {
          "output_type": "error",
          "ename": "TypeError",
          "evalue": "ignored",
          "traceback": [
            "\u001b[0;31m---------------------------------------------------------------------------\u001b[0m",
            "\u001b[0;31mTypeError\u001b[0m                                 Traceback (most recent call last)",
            "\u001b[0;32m<ipython-input-33-81080da45b43>\u001b[0m in \u001b[0;36m<module>\u001b[0;34m()\u001b[0m\n\u001b[0;32m----> 1\u001b[0;31m \u001b[0mrange\u001b[0m\u001b[0;34m(\u001b[0m\u001b[0;36m1\u001b[0m\u001b[0;34m,\u001b[0m \u001b[0;36m5.1\u001b[0m\u001b[0;34m,\u001b[0m \u001b[0;36m0.5\u001b[0m\u001b[0;34m)\u001b[0m\u001b[0;34m\u001b[0m\u001b[0;34m\u001b[0m\u001b[0m\n\u001b[0m",
            "\u001b[0;31mTypeError\u001b[0m: 'float' object cannot be interpreted as an integer"
          ]
        }
      ]
    },
    {
      "cell_type": "code",
      "metadata": {
        "colab": {
          "base_uri": "https://localhost:8080/"
        },
        "id": "UUFkbej7Hp_s",
        "outputId": "63b1da1d-5e4f-4a0f-ae18-341d3cd1d467"
      },
      "source": [
        "np.arange(1, 5.1, 0.5).tolist()"
      ],
      "execution_count": 34,
      "outputs": [
        {
          "output_type": "execute_result",
          "data": {
            "text/plain": [
              "[1.0, 1.5, 2.0, 2.5, 3.0, 3.5, 4.0, 4.5, 5.0]"
            ]
          },
          "metadata": {},
          "execution_count": 34
        }
      ]
    },
    {
      "cell_type": "code",
      "metadata": {
        "colab": {
          "base_uri": "https://localhost:8080/"
        },
        "id": "XzYHCzPxHw_w",
        "outputId": "f5ebabcd-a557-49fa-bcbf-d3f3ba8bc493"
      },
      "source": [
        "np.arange(12).reshape(3,4)"
      ],
      "execution_count": 35,
      "outputs": [
        {
          "output_type": "execute_result",
          "data": {
            "text/plain": [
              "array([[ 0,  1,  2,  3],\n",
              "       [ 4,  5,  6,  7],\n",
              "       [ 8,  9, 10, 11]])"
            ]
          },
          "metadata": {},
          "execution_count": 35
        }
      ]
    },
    {
      "cell_type": "code",
      "metadata": {
        "colab": {
          "base_uri": "https://localhost:8080/",
          "height": 265
        },
        "id": "Hiv9oirVH9rm",
        "outputId": "e35b7573-4b9c-49c8-f5fa-69de76c611e3"
      },
      "source": [
        "import matplotlib.pyplot as plt\n",
        "plt.plot([0,1,2,3], [0,1,4,9], marker='o', ms=5)\n",
        "plt.grid()\n",
        "plt.show()"
      ],
      "execution_count": 37,
      "outputs": [
        {
          "output_type": "display_data",
          "data": {
            "image/png": "[encoded data removed]",
            "text/plain": [
              "<Figure size 432x288 with 1 Axes>"
            ]
          },
          "metadata": {
            "needs_background": "light"
          }
        }
      ]
    },
    {
      "cell_type": "code",
      "metadata": {
        "colab": {
          "base_uri": "https://localhost:8080/",
          "height": 265
        },
        "id": "d-7xIi_FIVY-",
        "outputId": "d3e0ffb1-cc7d-4388-d5b4-050dc07b505e"
      },
      "source": [
        "xs = np.arange(0,3.01,0.01)\n",
        "ys = xs * xs\n",
        "plt.plot(xs, ys)\n",
        "plt.grid()\n",
        "plt.show()"
      ],
      "execution_count": 38,
      "outputs": [
        {
          "output_type": "display_data",
          "data": {
            "image/png": "[encoded data removed]",
            "text/plain": [
              "<Figure size 432x288 with 1 Axes>"
            ]
          },
          "metadata": {
            "needs_background": "light"
          }
        }
      ]
    },
    {
      "cell_type": "markdown",
      "metadata": {
        "id": "4qwQA4TGJIBJ"
      },
      "source": [
        "- linspace"
      ]
    },
    {
      "cell_type": "code",
      "metadata": {
        "colab": {
          "base_uri": "https://localhost:8080/",
          "height": 265
        },
        "id": "8UCe3jM9I4w3",
        "outputId": "2101a773-acae-4ce6-e868-1681a1c545cc"
      },
      "source": [
        "xs = np.linspace(0,3,301)\n",
        "ys = xs * xs\n",
        "plt.plot(xs, ys)\n",
        "plt.grid()\n",
        "plt.show()"
      ],
      "execution_count": 39,
      "outputs": [
        {
          "output_type": "display_data",
          "data": {
            "image/png": "[encoded data removed]",
            "text/plain": [
              "<Figure size 432x288 with 1 Axes>"
            ]
          },
          "metadata": {
            "needs_background": "light"
          }
        }
      ]
    },
    {
      "cell_type": "markdown",
      "metadata": {
        "id": "-P16n_4eJZMj"
      },
      "source": [
        "- ones, zeros, empty"
      ]
    },
    {
      "cell_type": "code",
      "metadata": {
        "colab": {
          "base_uri": "https://localhost:8080/"
        },
        "id": "EMnwuzBfJTpa",
        "outputId": "7313c6bc-2593-416d-b4b1-2de57e8c5cef"
      },
      "source": [
        "np.ones(5)"
      ],
      "execution_count": 40,
      "outputs": [
        {
          "output_type": "execute_result",
          "data": {
            "text/plain": [
              "array([1., 1., 1., 1., 1.])"
            ]
          },
          "metadata": {},
          "execution_count": 40
        }
      ]
    },
    {
      "cell_type": "code",
      "metadata": {
        "colab": {
          "base_uri": "https://localhost:8080/"
        },
        "id": "2WGsiiATJhJC",
        "outputId": "7e99256c-04f3-4730-d70e-1bcc543463ae"
      },
      "source": [
        "np.zeros(5, dtype=np.int8)"
      ],
      "execution_count": 41,
      "outputs": [
        {
          "output_type": "execute_result",
          "data": {
            "text/plain": [
              "array([0, 0, 0, 0, 0], dtype=int8)"
            ]
          },
          "metadata": {},
          "execution_count": 41
        }
      ]
    },
    {
      "cell_type": "code",
      "metadata": {
        "colab": {
          "base_uri": "https://localhost:8080/"
        },
        "id": "GnXK9xziJrjB",
        "outputId": "c2e11eee-2ba5-4e2c-cb7a-2352d58800e0"
      },
      "source": [
        "np.empty(5)"
      ],
      "execution_count": 42,
      "outputs": [
        {
          "output_type": "execute_result",
          "data": {
            "text/plain": [
              "array([1., 1., 1., 1., 1.])"
            ]
          },
          "metadata": {},
          "execution_count": 42
        }
      ]
    },
    {
      "cell_type": "markdown",
      "metadata": {
        "id": "We9jG6YpKDbp"
      },
      "source": [
        "- identity(단위 행렬)"
      ]
    },
    {
      "cell_type": "code",
      "metadata": {
        "colab": {
          "base_uri": "https://localhost:8080/"
        },
        "id": "-zBGdzziJzK7",
        "outputId": "a4971981-8fdd-46d8-c05d-3550a7a5bab9"
      },
      "source": [
        "np.identity(3, dtype=np.int8)"
      ],
      "execution_count": 43,
      "outputs": [
        {
          "output_type": "execute_result",
          "data": {
            "text/plain": [
              "array([[1, 0, 0],\n",
              "       [0, 1, 0],\n",
              "       [0, 0, 1]], dtype=int8)"
            ]
          },
          "metadata": {},
          "execution_count": 43
        }
      ]
    },
    {
      "cell_type": "markdown",
      "metadata": {
        "id": "VbTM1gPGKpn1"
      },
      "source": [
        "- eye"
      ]
    },
    {
      "cell_type": "code",
      "metadata": {
        "colab": {
          "base_uri": "https://localhost:8080/"
        },
        "id": "pzGenGGJKfau",
        "outputId": "1649413f-314e-48f2-f6a8-ff9ba2afc74c"
      },
      "source": [
        "np.eye(3, 5)"
      ],
      "execution_count": 44,
      "outputs": [
        {
          "output_type": "execute_result",
          "data": {
            "text/plain": [
              "array([[1., 0., 0., 0., 0.],\n",
              "       [0., 1., 0., 0., 0.],\n",
              "       [0., 0., 1., 0., 0.]])"
            ]
          },
          "metadata": {},
          "execution_count": 44
        }
      ]
    },
    {
      "cell_type": "code",
      "metadata": {
        "colab": {
          "base_uri": "https://localhost:8080/"
        },
        "id": "3W7n-G3TKyLi",
        "outputId": "b75d9876-4b9d-4f91-c4dc-f4810d845b44"
      },
      "source": [
        "np.eye(3, 5, k=1)"
      ],
      "execution_count": 45,
      "outputs": [
        {
          "output_type": "execute_result",
          "data": {
            "text/plain": [
              "array([[0., 1., 0., 0., 0.],\n",
              "       [0., 0., 1., 0., 0.],\n",
              "       [0., 0., 0., 1., 0.]])"
            ]
          },
          "metadata": {},
          "execution_count": 45
        }
      ]
    },
    {
      "cell_type": "code",
      "metadata": {
        "colab": {
          "base_uri": "https://localhost:8080/"
        },
        "id": "2M_wrDVxK4s2",
        "outputId": "9bad9737-1b26-4b50-867b-17db0f64db84"
      },
      "source": [
        "np.eye(M=5, k=-1, dtype=np.int8, N=3)"
      ],
      "execution_count": 47,
      "outputs": [
        {
          "output_type": "execute_result",
          "data": {
            "text/plain": [
              "array([[0, 0, 0, 0, 0],\n",
              "       [1, 0, 0, 0, 0],\n",
              "       [0, 1, 0, 0, 0]], dtype=int8)"
            ]
          },
          "metadata": {},
          "execution_count": 47
        }
      ]
    },
    {
      "cell_type": "markdown",
      "metadata": {
        "id": "_Mo7yGNILZTw"
      },
      "source": [
        "- random"
      ]
    },
    {
      "cell_type": "code",
      "metadata": {
        "colab": {
          "base_uri": "https://localhost:8080/"
        },
        "id": "dLMtBtUJLGDN",
        "outputId": "599bf4d7-2cc8-4c72-9cc2-d5a68e9663e9"
      },
      "source": [
        "np.random.seed(2021)\n",
        "np.random.uniform(0, 1, 10)"
      ],
      "execution_count": 48,
      "outputs": [
        {
          "output_type": "execute_result",
          "data": {
            "text/plain": [
              "array([0.60597828, 0.73336936, 0.13894716, 0.31267308, 0.99724328,\n",
              "       0.12816238, 0.17899311, 0.75292543, 0.66216051, 0.78431013])"
            ]
          },
          "metadata": {},
          "execution_count": 48
        }
      ]
    },
    {
      "cell_type": "code",
      "metadata": {
        "colab": {
          "base_uri": "https://localhost:8080/"
        },
        "id": "WrgForcxLm27",
        "outputId": "73351b38-cf00-4b04-c93c-5a332a29f790"
      },
      "source": [
        "np.random.seed(2021)\n",
        "np.random.rand(10)"
      ],
      "execution_count": 49,
      "outputs": [
        {
          "output_type": "execute_result",
          "data": {
            "text/plain": [
              "array([0.60597828, 0.73336936, 0.13894716, 0.31267308, 0.99724328,\n",
              "       0.12816238, 0.17899311, 0.75292543, 0.66216051, 0.78431013])"
            ]
          },
          "metadata": {},
          "execution_count": 49
        }
      ]
    },
    {
      "cell_type": "code",
      "metadata": {
        "colab": {
          "base_uri": "https://localhost:8080/"
        },
        "id": "Sp0hyxa9Lq4E",
        "outputId": "6237e527-5737-41d6-e83b-cb714ca00518"
      },
      "source": [
        "np.random.seed(2021)\n",
        "np.random.normal(0, 1, 10)"
      ],
      "execution_count": 50,
      "outputs": [
        {
          "output_type": "execute_result",
          "data": {
            "text/plain": [
              "array([ 1.48860905,  0.67601087, -0.41845137, -0.80652081,  0.55587583,\n",
              "       -0.70550429,  1.13085826,  0.64500184,  0.10641374,  0.42215483])"
            ]
          },
          "metadata": {},
          "execution_count": 50
        }
      ]
    },
    {
      "cell_type": "code",
      "metadata": {
        "colab": {
          "base_uri": "https://localhost:8080/"
        },
        "id": "noY_5Nm1MErP",
        "outputId": "45d2965a-9d7b-44cf-db3a-980e08c9838b"
      },
      "source": [
        "np.random.seed(2021)\n",
        "np.random.randn(10)"
      ],
      "execution_count": 51,
      "outputs": [
        {
          "output_type": "execute_result",
          "data": {
            "text/plain": [
              "array([ 1.48860905,  0.67601087, -0.41845137, -0.80652081,  0.55587583,\n",
              "       -0.70550429,  1.13085826,  0.64500184,  0.10641374,  0.42215483])"
            ]
          },
          "metadata": {},
          "execution_count": 51
        }
      ]
    },
    {
      "cell_type": "markdown",
      "metadata": {
        "id": "vd_rIuBaMfW4"
      },
      "source": [
        "### Operation"
      ]
    },
    {
      "cell_type": "code",
      "metadata": {
        "colab": {
          "base_uri": "https://localhost:8080/"
        },
        "id": "KKwJzWYJMMEt",
        "outputId": "5393eb5f-fc31-4752-9cda-c8e588fb855b"
      },
      "source": [
        "xs = np.arange(0, 3.01, 0.01)\n",
        "xs.sum()"
      ],
      "execution_count": 52,
      "outputs": [
        {
          "output_type": "execute_result",
          "data": {
            "text/plain": [
              "451.5"
            ]
          },
          "metadata": {},
          "execution_count": 52
        }
      ]
    },
    {
      "cell_type": "code",
      "metadata": {
        "colab": {
          "base_uri": "https://localhost:8080/"
        },
        "id": "spmEJBBhMvbv",
        "outputId": "8de3c22f-c6f8-4d4b-e769-93cd4882411b"
      },
      "source": [
        "np.sum(xs)"
      ],
      "execution_count": 53,
      "outputs": [
        {
          "output_type": "execute_result",
          "data": {
            "text/plain": [
              "451.5"
            ]
          },
          "metadata": {},
          "execution_count": 53
        }
      ]
    },
    {
      "cell_type": "code",
      "metadata": {
        "colab": {
          "base_uri": "https://localhost:8080/"
        },
        "id": "9tVXeNA6M03h",
        "outputId": "29054615-9869-4c9a-e1e5-7ff7be3b3f6c"
      },
      "source": [
        "a = np.arange(1,13).reshape(3,4)\n",
        "a"
      ],
      "execution_count": 54,
      "outputs": [
        {
          "output_type": "execute_result",
          "data": {
            "text/plain": [
              "array([[ 1,  2,  3,  4],\n",
              "       [ 5,  6,  7,  8],\n",
              "       [ 9, 10, 11, 12]])"
            ]
          },
          "metadata": {},
          "execution_count": 54
        }
      ]
    },
    {
      "cell_type": "code",
      "metadata": {
        "colab": {
          "base_uri": "https://localhost:8080/"
        },
        "id": "gSG4NZjYNAXQ",
        "outputId": "a6cefaac-2805-43d0-aa24-ad13ddde144b"
      },
      "source": [
        "a.sum()"
      ],
      "execution_count": 55,
      "outputs": [
        {
          "output_type": "execute_result",
          "data": {
            "text/plain": [
              "78"
            ]
          },
          "metadata": {},
          "execution_count": 55
        }
      ]
    },
    {
      "cell_type": "code",
      "metadata": {
        "colab": {
          "base_uri": "https://localhost:8080/"
        },
        "id": "HEmaQP1iNFCX",
        "outputId": "20776291-e6d9-407b-dd26-0186c3b4eef9"
      },
      "source": [
        "a.sum(axis=0)"
      ],
      "execution_count": 56,
      "outputs": [
        {
          "output_type": "execute_result",
          "data": {
            "text/plain": [
              "array([15, 18, 21, 24])"
            ]
          },
          "metadata": {},
          "execution_count": 56
        }
      ]
    },
    {
      "cell_type": "code",
      "metadata": {
        "colab": {
          "base_uri": "https://localhost:8080/"
        },
        "id": "8ydph_8JNMnO",
        "outputId": "c9f16737-1a0c-4e24-882f-7ce3ceadf497"
      },
      "source": [
        "a.sum(axis=1)"
      ],
      "execution_count": 57,
      "outputs": [
        {
          "output_type": "execute_result",
          "data": {
            "text/plain": [
              "array([10, 26, 42])"
            ]
          },
          "metadata": {},
          "execution_count": 57
        }
      ]
    },
    {
      "cell_type": "code",
      "metadata": {
        "colab": {
          "base_uri": "https://localhost:8080/"
        },
        "id": "qt0K-T69NaVe",
        "outputId": "723c7d3a-6043-4f44-e783-ff56ef3ce3a2"
      },
      "source": [
        "a.mean(axis=0)"
      ],
      "execution_count": 58,
      "outputs": [
        {
          "output_type": "execute_result",
          "data": {
            "text/plain": [
              "array([5., 6., 7., 8.])"
            ]
          },
          "metadata": {},
          "execution_count": 58
        }
      ]
    },
    {
      "cell_type": "code",
      "metadata": {
        "colab": {
          "base_uri": "https://localhost:8080/"
        },
        "id": "8a0rWPUhNtYm",
        "outputId": "fa9dcd66-389f-4a2f-b6c1-c2ac4f9a5882"
      },
      "source": [
        "a.mean(axis=1)"
      ],
      "execution_count": 59,
      "outputs": [
        {
          "output_type": "execute_result",
          "data": {
            "text/plain": [
              "array([ 2.5,  6.5, 10.5])"
            ]
          },
          "metadata": {},
          "execution_count": 59
        }
      ]
    },
    {
      "cell_type": "markdown",
      "metadata": {
        "id": "GyyTq_NwN9Mz"
      },
      "source": [
        "- sort"
      ]
    },
    {
      "cell_type": "code",
      "metadata": {
        "colab": {
          "base_uri": "https://localhost:8080/"
        },
        "id": "BdpHjFcSNzxq",
        "outputId": "4f275f41-c349-4396-8269-500b1b262d99"
      },
      "source": [
        "b = np.array([[4,3,5,7],[1,12,11,9],[2,5,1,14]])\n",
        "b"
      ],
      "execution_count": 60,
      "outputs": [
        {
          "output_type": "execute_result",
          "data": {
            "text/plain": [
              "array([[ 4,  3,  5,  7],\n",
              "       [ 1, 12, 11,  9],\n",
              "       [ 2,  5,  1, 14]])"
            ]
          },
          "metadata": {},
          "execution_count": 60
        }
      ]
    },
    {
      "cell_type": "code",
      "metadata": {
        "colab": {
          "base_uri": "https://localhost:8080/"
        },
        "id": "EjSTNFnJOCiu",
        "outputId": "8b760564-1e66-46a4-a899-3cc476be4ae4"
      },
      "source": [
        "np.sort(b)          # axis=1 이 디폴트"
      ],
      "execution_count": 61,
      "outputs": [
        {
          "output_type": "execute_result",
          "data": {
            "text/plain": [
              "array([[ 3,  4,  5,  7],\n",
              "       [ 1,  9, 11, 12],\n",
              "       [ 1,  2,  5, 14]])"
            ]
          },
          "metadata": {},
          "execution_count": 61
        }
      ]
    },
    {
      "cell_type": "code",
      "metadata": {
        "colab": {
          "base_uri": "https://localhost:8080/"
        },
        "id": "0RwOHyWAOG4e",
        "outputId": "b564ac36-487b-4553-8bab-6c1901a75f30"
      },
      "source": [
        "np.sort(b, axis=0)"
      ],
      "execution_count": 62,
      "outputs": [
        {
          "output_type": "execute_result",
          "data": {
            "text/plain": [
              "array([[ 1,  3,  1,  7],\n",
              "       [ 2,  5,  5,  9],\n",
              "       [ 4, 12, 11, 14]])"
            ]
          },
          "metadata": {},
          "execution_count": 62
        }
      ]
    },
    {
      "cell_type": "code",
      "metadata": {
        "colab": {
          "base_uri": "https://localhost:8080/"
        },
        "id": "5Nf8RwIKOTgu",
        "outputId": "2caad647-e754-4027-af15-5920fe306ac2"
      },
      "source": [
        "b.sort()            # b 의 내용을 변경해줌(in-place mode)\n",
        "b"
      ],
      "execution_count": 63,
      "outputs": [
        {
          "output_type": "execute_result",
          "data": {
            "text/plain": [
              "array([[ 3,  4,  5,  7],\n",
              "       [ 1,  9, 11, 12],\n",
              "       [ 1,  2,  5, 14]])"
            ]
          },
          "metadata": {},
          "execution_count": 63
        }
      ]
    },
    {
      "cell_type": "code",
      "metadata": {
        "colab": {
          "base_uri": "https://localhost:8080/"
        },
        "id": "E9RHprj_OgSA",
        "outputId": "35e40823-dbcb-41c2-ff07-14c66407cb2a"
      },
      "source": [
        "# 내림차순 정렬\n",
        "a = np.array([42,38,12,25])\n",
        "np.sort(a)[::-1]"
      ],
      "execution_count": 65,
      "outputs": [
        {
          "output_type": "execute_result",
          "data": {
            "text/plain": [
              "array([42, 38, 25, 12])"
            ]
          },
          "metadata": {},
          "execution_count": 65
        }
      ]
    },
    {
      "cell_type": "code",
      "metadata": {
        "colab": {
          "base_uri": "https://localhost:8080/"
        },
        "id": "84y5vUmDO2Gp",
        "outputId": "743ed3ca-144e-4448-f931-88a9d46b83a6"
      },
      "source": [
        "np.argsort(a)"
      ],
      "execution_count": 66,
      "outputs": [
        {
          "output_type": "execute_result",
          "data": {
            "text/plain": [
              "array([2, 3, 1, 0])"
            ]
          },
          "metadata": {},
          "execution_count": 66
        }
      ]
    },
    {
      "cell_type": "markdown",
      "metadata": {
        "id": "gL8rBmjKPe-K"
      },
      "source": [
        "- concatenate"
      ]
    },
    {
      "cell_type": "code",
      "metadata": {
        "colab": {
          "base_uri": "https://localhost:8080/"
        },
        "id": "N4kB8sUbPIUw",
        "outputId": "9c27d2fc-06f8-4f2b-c02d-11d351f6958a"
      },
      "source": [
        "a = np.array([[1, 2], [3, 4]])\n",
        "b = np.array([[5, 6]])\n",
        "np.vstack((a,b))"
      ],
      "execution_count": 67,
      "outputs": [
        {
          "output_type": "execute_result",
          "data": {
            "text/plain": [
              "array([[1, 2],\n",
              "       [3, 4],\n",
              "       [5, 6]])"
            ]
          },
          "metadata": {},
          "execution_count": 67
        }
      ]
    },
    {
      "cell_type": "code",
      "metadata": {
        "colab": {
          "base_uri": "https://localhost:8080/"
        },
        "id": "NEFJb8GkPpxy",
        "outputId": "e62248ab-43da-4253-ee95-ebf03865c7dc"
      },
      "source": [
        "np.hstack((a,b.T))"
      ],
      "execution_count": 68,
      "outputs": [
        {
          "output_type": "execute_result",
          "data": {
            "text/plain": [
              "array([[1, 2, 5],\n",
              "       [3, 4, 6]])"
            ]
          },
          "metadata": {},
          "execution_count": 68
        }
      ]
    },
    {
      "cell_type": "markdown",
      "metadata": {
        "id": "Qjg_lnUnQGzC"
      },
      "source": [
        "### Array operation"
      ]
    },
    {
      "cell_type": "code",
      "metadata": {
        "colab": {
          "base_uri": "https://localhost:8080/"
        },
        "id": "udbn9z_yP3XV",
        "outputId": "c2b74b6b-7099-481e-d7ce-28795450bf48"
      },
      "source": [
        "a"
      ],
      "execution_count": 69,
      "outputs": [
        {
          "output_type": "execute_result",
          "data": {
            "text/plain": [
              "array([[1, 2],\n",
              "       [3, 4]])"
            ]
          },
          "metadata": {},
          "execution_count": 69
        }
      ]
    },
    {
      "cell_type": "code",
      "metadata": {
        "colab": {
          "base_uri": "https://localhost:8080/"
        },
        "id": "2Cx60dYbQLiD",
        "outputId": "88a46af9-7b24-4837-d8b8-da8acc6dbcd1"
      },
      "source": [
        "a + a"
      ],
      "execution_count": 70,
      "outputs": [
        {
          "output_type": "execute_result",
          "data": {
            "text/plain": [
              "array([[2, 4],\n",
              "       [6, 8]])"
            ]
          },
          "metadata": {},
          "execution_count": 70
        }
      ]
    },
    {
      "cell_type": "code",
      "metadata": {
        "colab": {
          "base_uri": "https://localhost:8080/"
        },
        "id": "6L10QTauQN9_",
        "outputId": "63478a47-7527-4f5e-8af8-c1bd67e72630"
      },
      "source": [
        "a - a"
      ],
      "execution_count": 71,
      "outputs": [
        {
          "output_type": "execute_result",
          "data": {
            "text/plain": [
              "array([[0, 0],\n",
              "       [0, 0]])"
            ]
          },
          "metadata": {},
          "execution_count": 71
        }
      ]
    },
    {
      "cell_type": "code",
      "metadata": {
        "colab": {
          "base_uri": "https://localhost:8080/"
        },
        "id": "QRfappRFQSsz",
        "outputId": "34651845-8822-4e11-8f3e-a505f18e6af1"
      },
      "source": [
        "a * a"
      ],
      "execution_count": 72,
      "outputs": [
        {
          "output_type": "execute_result",
          "data": {
            "text/plain": [
              "array([[ 1,  4],\n",
              "       [ 9, 16]])"
            ]
          },
          "metadata": {},
          "execution_count": 72
        }
      ]
    },
    {
      "cell_type": "markdown",
      "metadata": {
        "id": "wg3TuhnvT3Ur"
      },
      "source": [
        "- dot product"
      ]
    },
    {
      "cell_type": "code",
      "metadata": {
        "colab": {
          "base_uri": "https://localhost:8080/"
        },
        "id": "IJ8zmgWcQVWZ",
        "outputId": "b5d4e3f3-e882-471c-8d4c-63906e461bda"
      },
      "source": [
        "a = np.arange(1,7).reshape(2,3)\n",
        "b = np.arange(1,7).reshape(3,2)\n",
        "np.dot(a, b)"
      ],
      "execution_count": 74,
      "outputs": [
        {
          "output_type": "execute_result",
          "data": {
            "text/plain": [
              "array([[22, 28],\n",
              "       [49, 64]])"
            ]
          },
          "metadata": {},
          "execution_count": 74
        }
      ]
    },
    {
      "cell_type": "markdown",
      "metadata": {
        "id": "M0B-n1iTVo-y"
      },
      "source": [
        "- broadcasting"
      ]
    },
    {
      "cell_type": "code",
      "metadata": {
        "colab": {
          "base_uri": "https://localhost:8080/"
        },
        "id": "m3DRJSmmU1S4",
        "outputId": "f255febb-2b0f-4910-cb3c-a98a631e455b"
      },
      "source": [
        "a"
      ],
      "execution_count": 75,
      "outputs": [
        {
          "output_type": "execute_result",
          "data": {
            "text/plain": [
              "array([[1, 2, 3],\n",
              "       [4, 5, 6]])"
            ]
          },
          "metadata": {},
          "execution_count": 75
        }
      ]
    },
    {
      "cell_type": "code",
      "metadata": {
        "colab": {
          "base_uri": "https://localhost:8080/"
        },
        "id": "pUY8kb9tVhEG",
        "outputId": "94b210d6-a9af-4bec-9355-7eadf1070281"
      },
      "source": [
        "a + 3"
      ],
      "execution_count": 76,
      "outputs": [
        {
          "output_type": "execute_result",
          "data": {
            "text/plain": [
              "array([[4, 5, 6],\n",
              "       [7, 8, 9]])"
            ]
          },
          "metadata": {},
          "execution_count": 76
        }
      ]
    },
    {
      "cell_type": "markdown",
      "metadata": {
        "id": "L03tD0wMVuo1"
      },
      "source": [
        "### Comparison"
      ]
    },
    {
      "cell_type": "code",
      "metadata": {
        "colab": {
          "base_uri": "https://localhost:8080/"
        },
        "id": "JQdgMLRbVmoB",
        "outputId": "616d17f4-367a-469b-92ee-0847d6afc8df"
      },
      "source": [
        "a = np.arange(1,10,2)\n",
        "a"
      ],
      "execution_count": 77,
      "outputs": [
        {
          "output_type": "execute_result",
          "data": {
            "text/plain": [
              "array([1, 3, 5, 7, 9])"
            ]
          },
          "metadata": {},
          "execution_count": 77
        }
      ]
    },
    {
      "cell_type": "code",
      "metadata": {
        "colab": {
          "base_uri": "https://localhost:8080/"
        },
        "id": "_y-4Gd6CV2SY",
        "outputId": "deae9da7-d1aa-4789-8d6b-0cc2d8b0cd2d"
      },
      "source": [
        "a > 5"
      ],
      "execution_count": 79,
      "outputs": [
        {
          "output_type": "execute_result",
          "data": {
            "text/plain": [
              "array([False, False, False,  True,  True])"
            ]
          },
          "metadata": {},
          "execution_count": 79
        }
      ]
    },
    {
      "cell_type": "code",
      "metadata": {
        "colab": {
          "base_uri": "https://localhost:8080/"
        },
        "id": "dLoFgOI4V5aM",
        "outputId": "ecad9367-d60a-4a37-dc49-ad8aa66ff1e5"
      },
      "source": [
        "np.any(a > 5)"
      ],
      "execution_count": 80,
      "outputs": [
        {
          "output_type": "execute_result",
          "data": {
            "text/plain": [
              "True"
            ]
          },
          "metadata": {},
          "execution_count": 80
        }
      ]
    },
    {
      "cell_type": "code",
      "metadata": {
        "colab": {
          "base_uri": "https://localhost:8080/"
        },
        "id": "Zaw9MkXtWCK_",
        "outputId": "c108ac7a-7773-49b7-cd17-042e83c53454"
      },
      "source": [
        "np.all(a > 5)"
      ],
      "execution_count": 81,
      "outputs": [
        {
          "output_type": "execute_result",
          "data": {
            "text/plain": [
              "False"
            ]
          },
          "metadata": {},
          "execution_count": 81
        }
      ]
    },
    {
      "cell_type": "code",
      "metadata": {
        "colab": {
          "base_uri": "https://localhost:8080/"
        },
        "id": "-oO-sVznWEIu",
        "outputId": "5441972c-6aea-438e-8474-e2d15d299b78"
      },
      "source": [
        "b = np.logical_and(a > 1, a < 7)\n",
        "b"
      ],
      "execution_count": 82,
      "outputs": [
        {
          "output_type": "execute_result",
          "data": {
            "text/plain": [
              "array([False,  True,  True, False, False])"
            ]
          },
          "metadata": {},
          "execution_count": 82
        }
      ]
    },
    {
      "cell_type": "code",
      "metadata": {
        "colab": {
          "base_uri": "https://localhost:8080/"
        },
        "id": "ntTRvgaRWU-Y",
        "outputId": "1a361f28-bd85-45fe-bc1b-0782eb820697"
      },
      "source": [
        "b = np.logical_or(a < 3, a > 7)\n",
        "b"
      ],
      "execution_count": 84,
      "outputs": [
        {
          "output_type": "execute_result",
          "data": {
            "text/plain": [
              "array([ True, False, False, False,  True])"
            ]
          },
          "metadata": {},
          "execution_count": 84
        }
      ]
    },
    {
      "cell_type": "markdown",
      "metadata": {
        "id": "jcA2dJkUWnks"
      },
      "source": [
        "- argmax, argmin"
      ]
    },
    {
      "cell_type": "code",
      "metadata": {
        "colab": {
          "base_uri": "https://localhost:8080/"
        },
        "id": "TdGuiD7hWglK",
        "outputId": "38a0b26a-8e68-4f79-fc8c-8eda44c6ed1c"
      },
      "source": [
        "a = np.array([1,2,4,5,8,78,23,3])\n",
        "a.max(), a.min()"
      ],
      "execution_count": 85,
      "outputs": [
        {
          "output_type": "execute_result",
          "data": {
            "text/plain": [
              "(78, 1)"
            ]
          },
          "metadata": {},
          "execution_count": 85
        }
      ]
    },
    {
      "cell_type": "code",
      "metadata": {
        "colab": {
          "base_uri": "https://localhost:8080/"
        },
        "id": "dnk4CtO4W4ms",
        "outputId": "d75232a6-5f47-4c34-ced4-086358026dbf"
      },
      "source": [
        "a.argmax(), a.argmin()"
      ],
      "execution_count": 86,
      "outputs": [
        {
          "output_type": "execute_result",
          "data": {
            "text/plain": [
              "(5, 0)"
            ]
          },
          "metadata": {},
          "execution_count": 86
        }
      ]
    },
    {
      "cell_type": "markdown",
      "metadata": {
        "id": "K4jsK-vbXKD5"
      },
      "source": [
        "### Boolean & Fancy Index"
      ]
    },
    {
      "cell_type": "code",
      "metadata": {
        "colab": {
          "base_uri": "https://localhost:8080/"
        },
        "id": "d660P_LaW_O5",
        "outputId": "e287d4a2-7e5f-4315-c580-2106828b86fc"
      },
      "source": [
        "a =  np.array([1,4,0,2,3,8,9,7])\n",
        "a > 3"
      ],
      "execution_count": 87,
      "outputs": [
        {
          "output_type": "execute_result",
          "data": {
            "text/plain": [
              "array([False,  True, False, False, False,  True,  True,  True])"
            ]
          },
          "metadata": {},
          "execution_count": 87
        }
      ]
    },
    {
      "cell_type": "code",
      "metadata": {
        "colab": {
          "base_uri": "https://localhost:8080/"
        },
        "id": "GvVEFJEEXXfK",
        "outputId": "b537fecf-abef-4623-823b-3a17811302ff"
      },
      "source": [
        "# filtering\n",
        "a[a > 3]"
      ],
      "execution_count": 88,
      "outputs": [
        {
          "output_type": "execute_result",
          "data": {
            "text/plain": [
              "array([4, 8, 9, 7])"
            ]
          },
          "metadata": {},
          "execution_count": 88
        }
      ]
    },
    {
      "cell_type": "code",
      "metadata": {
        "colab": {
          "base_uri": "https://localhost:8080/"
        },
        "id": "lNobibzvXd0y",
        "outputId": "4e6b39ad-4826-4e95-f3d5-3095fda436dd"
      },
      "source": [
        "b = np.array([1, 3, 5])\n",
        "a[b]"
      ],
      "execution_count": 89,
      "outputs": [
        {
          "output_type": "execute_result",
          "data": {
            "text/plain": [
              "array([4, 2, 8])"
            ]
          },
          "metadata": {},
          "execution_count": 89
        }
      ]
    },
    {
      "cell_type": "code",
      "metadata": {
        "id": "rkgs0liDXxAV"
      },
      "source": [
        ""
      ],
      "execution_count": null,
      "outputs": []
    }
  ]
}