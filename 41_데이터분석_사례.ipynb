{
  "nbformat": 4,
  "nbformat_minor": 0,
  "metadata": {
    "colab": {
      "name": "41_데이터분석_사례.ipynb",
      "provenance": [],
      "collapsed_sections": []
    },
    "kernelspec": {
      "name": "python3",
      "display_name": "Python 3"
    },
    "language_info": {
      "name": "python"
    }
  },
  "cells": [
    {
      "cell_type": "markdown",
      "metadata": {
        "id": "ht5Zt0jRmhLM"
      },
      "source": [
        "# 서울시 구별 CCTV 현황 분석\n",
        "- 서울시 CCTV 설치현황 데이터\n",
        "- 서울시 구별 주민등록인구 통계 데이터"
      ]
    },
    {
      "cell_type": "code",
      "metadata": {
        "id": "7vRrintGmdFx"
      },
      "source": [
        "!apt-get install -y fonts-nanum > /dev/null\n",
        "!fc-cache -fv > /dev/null\n",
        "!rm -rf ~/.cache/matplotlib > /dev/null\n",
        "# 런타임 다시 시작"
      ],
      "execution_count": 1,
      "outputs": []
    },
    {
      "cell_type": "code",
      "metadata": {
        "id": "v44tTmRwmlep"
      },
      "source": [
        "import numpy as np\n",
        "import pandas as pd\n",
        "import seaborn as sns\n",
        "\n",
        "import matplotlib as mpl\n",
        "import matplotlib.pyplot as plt\n",
        "mpl.rcParams['axes.unicode_minus'] = False\n",
        "plt.rc('font', family='NanumBarunGothic')"
      ],
      "execution_count": 1,
      "outputs": []
    },
    {
      "cell_type": "markdown",
      "metadata": {
        "id": "INFZANf2mpSH"
      },
      "source": [
        "## 1. CCTV 데이터 파악하고 정리하기"
      ]
    },
    {
      "cell_type": "code",
      "metadata": {
        "colab": {
          "resources": {
            "http://localhost:8080/nbextensions/google.colab/files.js": {
              "data": "Ly8gQ29weXJpZ2h0IDIwMTcgR29vZ2xlIExMQwovLwovLyBMaWNlbnNlZCB1bmRlciB0aGUgQXBhY2hlIExpY2Vuc2UsIFZlcnNpb24gMi4wICh0aGUgIkxpY2Vuc2UiKTsKLy8geW91IG1heSBub3QgdXNlIHRoaXMgZmlsZSBleGNlcHQgaW4gY29tcGxpYW5jZSB3aXRoIHRoZSBMaWNlbnNlLgovLyBZb3UgbWF5IG9idGFpbiBhIGNvcHkgb2YgdGhlIExpY2Vuc2UgYXQKLy8KLy8gICAgICBodHRwOi8vd3d3LmFwYWNoZS5vcmcvbGljZW5zZXMvTElDRU5TRS0yLjAKLy8KLy8gVW5sZXNzIHJlcXVpcmVkIGJ5IGFwcGxpY2FibGUgbGF3IG9yIGFncmVlZCB0byBpbiB3cml0aW5nLCBzb2Z0d2FyZQovLyBkaXN0cmlidXRlZCB1bmRlciB0aGUgTGljZW5zZSBpcyBkaXN0cmlidXRlZCBvbiBhbiAiQVMgSVMiIEJBU0lTLAovLyBXSVRIT1VUIFdBUlJBTlRJRVMgT1IgQ09ORElUSU9OUyBPRiBBTlkgS0lORCwgZWl0aGVyIGV4cHJlc3Mgb3IgaW1wbGllZC4KLy8gU2VlIHRoZSBMaWNlbnNlIGZvciB0aGUgc3BlY2lmaWMgbGFuZ3VhZ2UgZ292ZXJuaW5nIHBlcm1pc3Npb25zIGFuZAovLyBsaW1pdGF0aW9ucyB1bmRlciB0aGUgTGljZW5zZS4KCi8qKgogKiBAZmlsZW92ZXJ2aWV3IEhlbHBlcnMgZm9yIGdvb2dsZS5jb2xhYiBQeXRob24gbW9kdWxlLgogKi8KKGZ1bmN0aW9uKHNjb3BlKSB7CmZ1bmN0aW9uIHNwYW4odGV4dCwgc3R5bGVBdHRyaWJ1dGVzID0ge30pIHsKICBjb25zdCBlbGVtZW50ID0gZG9jdW1lbnQuY3JlYXRlRWxlbWVudCgnc3BhbicpOwogIGVsZW1lbnQudGV4dENvbnRlbnQgPSB0ZXh0OwogIGZvciAoY29uc3Qga2V5IG9mIE9iamVjdC5rZXlzKHN0eWxlQXR0cmlidXRlcykpIHsKICAgIGVsZW1lbnQuc3R5bGVba2V5XSA9IHN0eWxlQXR0cmlidXRlc1trZXldOwogIH0KICByZXR1cm4gZWxlbWVudDsKfQoKLy8gTWF4IG51bWJlciBvZiBieXRlcyB3aGljaCB3aWxsIGJlIHVwbG9hZGVkIGF0IGEgdGltZS4KY29uc3QgTUFYX1BBWUxPQURfU0laRSA9IDEwMCAqIDEwMjQ7CgpmdW5jdGlvbiBfdXBsb2FkRmlsZXMoaW5wdXRJZCwgb3V0cHV0SWQpIHsKICBjb25zdCBzdGVwcyA9IHVwbG9hZEZpbGVzU3RlcChpbnB1dElkLCBvdXRwdXRJZCk7CiAgY29uc3Qgb3V0cHV0RWxlbWVudCA9IGRvY3VtZW50LmdldEVsZW1lbnRCeUlkKG91dHB1dElkKTsKICAvLyBDYWNoZSBzdGVwcyBvbiB0aGUgb3V0cHV0RWxlbWVudCB0byBtYWtlIGl0IGF2YWlsYWJsZSBmb3IgdGhlIG5leHQgY2FsbAogIC8vIHRvIHVwbG9hZEZpbGVzQ29udGludWUgZnJvbSBQeXRob24uCiAgb3V0cHV0RWxlbWVudC5zdGVwcyA9IHN0ZXBzOwoKICByZXR1cm4gX3VwbG9hZEZpbGVzQ29udGludWUob3V0cHV0SWQpOwp9CgovLyBUaGlzIGlzIHJvdWdobHkgYW4gYXN5bmMgZ2VuZXJhdG9yIChub3Qgc3VwcG9ydGVkIGluIHRoZSBicm93c2VyIHlldCksCi8vIHdoZXJlIHRoZXJlIGFyZSBtdWx0aXBsZSBhc3luY2hyb25vdXMgc3RlcHMgYW5kIHRoZSBQeXRob24gc2lkZSBpcyBnb2luZwovLyB0byBwb2xsIGZvciBjb21wbGV0aW9uIG9mIGVhY2ggc3RlcC4KLy8gVGhpcyB1c2VzIGEgUHJvbWlzZSB0byBibG9jayB0aGUgcHl0aG9uIHNpZGUgb24gY29tcGxldGlvbiBvZiBlYWNoIHN0ZXAsCi8vIHRoZW4gcGFzc2VzIHRoZSByZXN1bHQgb2YgdGhlIHByZXZpb3VzIHN0ZXAgYXMgdGhlIGlucHV0IHRvIHRoZSBuZXh0IHN0ZXAuCmZ1bmN0aW9uIF91cGxvYWRGaWxlc0NvbnRpbnVlKG91dHB1dElkKSB7CiAgY29uc3Qgb3V0cHV0RWxlbWVudCA9IGRvY3VtZW50LmdldEVsZW1lbnRCeUlkKG91dHB1dElkKTsKICBjb25zdCBzdGVwcyA9IG91dHB1dEVsZW1lbnQuc3RlcHM7CgogIGNvbnN0IG5leHQgPSBzdGVwcy5uZXh0KG91dHB1dEVsZW1lbnQubGFzdFByb21pc2VWYWx1ZSk7CiAgcmV0dXJuIFByb21pc2UucmVzb2x2ZShuZXh0LnZhbHVlLnByb21pc2UpLnRoZW4oKHZhbHVlKSA9PiB7CiAgICAvLyBDYWNoZSB0aGUgbGFzdCBwcm9taXNlIHZhbHVlIHRvIG1ha2UgaXQgYXZhaWxhYmxlIHRvIHRoZSBuZXh0CiAgICAvLyBzdGVwIG9mIHRoZSBnZW5lcmF0b3IuCiAgICBvdXRwdXRFbGVtZW50Lmxhc3RQcm9taXNlVmFsdWUgPSB2YWx1ZTsKICAgIHJldHVybiBuZXh0LnZhbHVlLnJlc3BvbnNlOwogIH0pOwp9CgovKioKICogR2VuZXJhdG9yIGZ1bmN0aW9uIHdoaWNoIGlzIGNhbGxlZCBiZXR3ZWVuIGVhY2ggYXN5bmMgc3RlcCBvZiB0aGUgdXBsb2FkCiAqIHByb2Nlc3MuCiAqIEBwYXJhbSB7c3RyaW5nfSBpbnB1dElkIEVsZW1lbnQgSUQgb2YgdGhlIGlucHV0IGZpbGUgcGlja2VyIGVsZW1lbnQuCiAqIEBwYXJhbSB7c3RyaW5nfSBvdXRwdXRJZCBFbGVtZW50IElEIG9mIHRoZSBvdXRwdXQgZGlzcGxheS4KICogQHJldHVybiB7IUl0ZXJhYmxlPCFPYmplY3Q+fSBJdGVyYWJsZSBvZiBuZXh0IHN0ZXBzLgogKi8KZnVuY3Rpb24qIHVwbG9hZEZpbGVzU3RlcChpbnB1dElkLCBvdXRwdXRJZCkgewogIGNvbnN0IGlucHV0RWxlbWVudCA9IGRvY3VtZW50LmdldEVsZW1lbnRCeUlkKGlucHV0SWQpOwogIGlucHV0RWxlbWVudC5kaXNhYmxlZCA9IGZhbHNlOwoKICBjb25zdCBvdXRwdXRFbGVtZW50ID0gZG9jdW1lbnQuZ2V0RWxlbWVudEJ5SWQob3V0cHV0SWQpOwogIG91dHB1dEVsZW1lbnQuaW5uZXJIVE1MID0gJyc7CgogIGNvbnN0IHBpY2tlZFByb21pc2UgPSBuZXcgUHJvbWlzZSgocmVzb2x2ZSkgPT4gewogICAgaW5wdXRFbGVtZW50LmFkZEV2ZW50TGlzdGVuZXIoJ2NoYW5nZScsIChlKSA9PiB7CiAgICAgIHJlc29sdmUoZS50YXJnZXQuZmlsZXMpOwogICAgfSk7CiAgfSk7CgogIGNvbnN0IGNhbmNlbCA9IGRvY3VtZW50LmNyZWF0ZUVsZW1lbnQoJ2J1dHRvbicpOwogIGlucHV0RWxlbWVudC5wYXJlbnRFbGVtZW50LmFwcGVuZENoaWxkKGNhbmNlbCk7CiAgY2FuY2VsLnRleHRDb250ZW50ID0gJ0NhbmNlbCB1cGxvYWQnOwogIGNvbnN0IGNhbmNlbFByb21pc2UgPSBuZXcgUHJvbWlzZSgocmVzb2x2ZSkgPT4gewogICAgY2FuY2VsLm9uY2xpY2sgPSAoKSA9PiB7CiAgICAgIHJlc29sdmUobnVsbCk7CiAgICB9OwogIH0pOwoKICAvLyBXYWl0IGZvciB0aGUgdXNlciB0byBwaWNrIHRoZSBmaWxlcy4KICBjb25zdCBmaWxlcyA9IHlpZWxkIHsKICAgIHByb21pc2U6IFByb21pc2UucmFjZShbcGlja2VkUHJvbWlzZSwgY2FuY2VsUHJvbWlzZV0pLAogICAgcmVzcG9uc2U6IHsKICAgICAgYWN0aW9uOiAnc3RhcnRpbmcnLAogICAgfQogIH07CgogIGNhbmNlbC5yZW1vdmUoKTsKCiAgLy8gRGlzYWJsZSB0aGUgaW5wdXQgZWxlbWVudCBzaW5jZSBmdXJ0aGVyIHBpY2tzIGFyZSBub3QgYWxsb3dlZC4KICBpbnB1dEVsZW1lbnQuZGlzYWJsZWQgPSB0cnVlOwoKICBpZiAoIWZpbGVzKSB7CiAgICByZXR1cm4gewogICAgICByZXNwb25zZTogewogICAgICAgIGFjdGlvbjogJ2NvbXBsZXRlJywKICAgICAgfQogICAgfTsKICB9CgogIGZvciAoY29uc3QgZmlsZSBvZiBmaWxlcykgewogICAgY29uc3QgbGkgPSBkb2N1bWVudC5jcmVhdGVFbGVtZW50KCdsaScpOwogICAgbGkuYXBwZW5kKHNwYW4oZmlsZS5uYW1lLCB7Zm9udFdlaWdodDogJ2JvbGQnfSkpOwogICAgbGkuYXBwZW5kKHNwYW4oCiAgICAgICAgYCgke2ZpbGUudHlwZSB8fCAnbi9hJ30pIC0gJHtmaWxlLnNpemV9IGJ5dGVzLCBgICsKICAgICAgICBgbGFzdCBtb2RpZmllZDogJHsKICAgICAgICAgICAgZmlsZS5sYXN0TW9kaWZpZWREYXRlID8gZmlsZS5sYXN0TW9kaWZpZWREYXRlLnRvTG9jYWxlRGF0ZVN0cmluZygpIDoKICAgICAgICAgICAgICAgICAgICAgICAgICAgICAgICAgICAgJ24vYSd9IC0gYCkpOwogICAgY29uc3QgcGVyY2VudCA9IHNwYW4oJzAlIGRvbmUnKTsKICAgIGxpLmFwcGVuZENoaWxkKHBlcmNlbnQpOwoKICAgIG91dHB1dEVsZW1lbnQuYXBwZW5kQ2hpbGQobGkpOwoKICAgIGNvbnN0IGZpbGVEYXRhUHJvbWlzZSA9IG5ldyBQcm9taXNlKChyZXNvbHZlKSA9PiB7CiAgICAgIGNvbnN0IHJlYWRlciA9IG5ldyBGaWxlUmVhZGVyKCk7CiAgICAgIHJlYWRlci5vbmxvYWQgPSAoZSkgPT4gewogICAgICAgIHJlc29sdmUoZS50YXJnZXQucmVzdWx0KTsKICAgICAgfTsKICAgICAgcmVhZGVyLnJlYWRBc0FycmF5QnVmZmVyKGZpbGUpOwogICAgfSk7CiAgICAvLyBXYWl0IGZvciB0aGUgZGF0YSB0byBiZSByZWFkeS4KICAgIGxldCBmaWxlRGF0YSA9IHlpZWxkIHsKICAgICAgcHJvbWlzZTogZmlsZURhdGFQcm9taXNlLAogICAgICByZXNwb25zZTogewogICAgICAgIGFjdGlvbjogJ2NvbnRpbnVlJywKICAgICAgfQogICAgfTsKCiAgICAvLyBVc2UgYSBjaHVua2VkIHNlbmRpbmcgdG8gYXZvaWQgbWVzc2FnZSBzaXplIGxpbWl0cy4gU2VlIGIvNjIxMTU2NjAuCiAgICBsZXQgcG9zaXRpb24gPSAwOwogICAgZG8gewogICAgICBjb25zdCBsZW5ndGggPSBNYXRoLm1pbihmaWxlRGF0YS5ieXRlTGVuZ3RoIC0gcG9zaXRpb24sIE1BWF9QQVlMT0FEX1NJWkUpOwogICAgICBjb25zdCBjaHVuayA9IG5ldyBVaW50OEFycmF5KGZpbGVEYXRhLCBwb3NpdGlvbiwgbGVuZ3RoKTsKICAgICAgcG9zaXRpb24gKz0gbGVuZ3RoOwoKICAgICAgY29uc3QgYmFzZTY0ID0gYnRvYShTdHJpbmcuZnJvbUNoYXJDb2RlLmFwcGx5KG51bGwsIGNodW5rKSk7CiAgICAgIHlpZWxkIHsKICAgICAgICByZXNwb25zZTogewogICAgICAgICAgYWN0aW9uOiAnYXBwZW5kJywKICAgICAgICAgIGZpbGU6IGZpbGUubmFtZSwKICAgICAgICAgIGRhdGE6IGJhc2U2NCwKICAgICAgICB9LAogICAgICB9OwoKICAgICAgbGV0IHBlcmNlbnREb25lID0gZmlsZURhdGEuYnl0ZUxlbmd0aCA9PT0gMCA/CiAgICAgICAgICAxMDAgOgogICAgICAgICAgTWF0aC5yb3VuZCgocG9zaXRpb24gLyBmaWxlRGF0YS5ieXRlTGVuZ3RoKSAqIDEwMCk7CiAgICAgIHBlcmNlbnQudGV4dENvbnRlbnQgPSBgJHtwZXJjZW50RG9uZX0lIGRvbmVgOwoKICAgIH0gd2hpbGUgKHBvc2l0aW9uIDwgZmlsZURhdGEuYnl0ZUxlbmd0aCk7CiAgfQoKICAvLyBBbGwgZG9uZS4KICB5aWVsZCB7CiAgICByZXNwb25zZTogewogICAgICBhY3Rpb246ICdjb21wbGV0ZScsCiAgICB9CiAgfTsKfQoKc2NvcGUuZ29vZ2xlID0gc2NvcGUuZ29vZ2xlIHx8IHt9OwpzY29wZS5nb29nbGUuY29sYWIgPSBzY29wZS5nb29nbGUuY29sYWIgfHwge307CnNjb3BlLmdvb2dsZS5jb2xhYi5fZmlsZXMgPSB7CiAgX3VwbG9hZEZpbGVzLAogIF91cGxvYWRGaWxlc0NvbnRpbnVlLAp9Owp9KShzZWxmKTsK",
              "ok": true,
              "headers": [
                [
                  "content-type",
                  "application/javascript"
                ]
              ],
              "status": 200,
              "status_text": ""
            }
          },
          "base_uri": "https://localhost:8080/",
          "height": 76
        },
        "id": "o8PHAGXWmusD",
        "outputId": "2cfcab8c-5945-4f08-d40f-e98d7a2ea860"
      },
      "source": [
        "from google.colab import files\n",
        "uploaded = files.upload()\n",
        "filename = list(uploaded.keys())[0]"
      ],
      "execution_count": 2,
      "outputs": [
        {
          "output_type": "display_data",
          "data": {
            "text/html": [
              "\n",
              "     <input type=\"file\" id=\"files-322a888f-e71e-4dd5-9a8d-21c9e268a794\" name=\"files[]\" multiple disabled\n",
              "        style=\"border:none\" />\n",
              "     <output id=\"result-322a888f-e71e-4dd5-9a8d-21c9e268a794\">\n",
              "      Upload widget is only available when the cell has been executed in the\n",
              "      current browser session. Please rerun this cell to enable.\n",
              "      </output>\n",
              "      <script src=\"/nbextensions/google.colab/files.js\"></script> "
            ],
            "text/plain": [
              "<IPython.core.display.HTML object>"
            ]
          },
          "metadata": {}
        },
        {
          "output_type": "stream",
          "name": "stdout",
          "text": [
            "Saving 서울시CCTV설치운영현황(자치구)_년도별_210731기준.csv to 서울시CCTV설치운영현황(자치구)_년도별_210731기준.csv\n"
          ]
        }
      ]
    },
    {
      "cell_type": "code",
      "metadata": {
        "colab": {
          "base_uri": "https://localhost:8080/",
          "height": 204
        },
        "id": "ScAN_MPpokRc",
        "outputId": "fd41d4ca-05e3-4966-a0b3-ed2b64432570"
      },
      "source": [
        "cctv = pd.read_csv(filename, skiprows=1, encoding='euc-kr')\n",
        "cctv.head()"
      ],
      "execution_count": 3,
      "outputs": [
        {
          "output_type": "execute_result",
          "data": {
            "text/html": [
              "<div>\n",
              "<style scoped>\n",
              "    .dataframe tbody tr th:only-of-type {\n",
              "        vertical-align: middle;\n",
              "    }\n",
              "\n",
              "    .dataframe tbody tr th {\n",
              "        vertical-align: top;\n",
              "    }\n",
              "\n",
              "    .dataframe thead th {\n",
              "        text-align: right;\n",
              "    }\n",
              "</style>\n",
              "<table border=\"1\" class=\"dataframe\">\n",
              "  <thead>\n",
              "    <tr style=\"text-align: right;\">\n",
              "      <th></th>\n",
              "      <th>구분</th>\n",
              "      <th>총계</th>\n",
              "      <th>2012년 이전</th>\n",
              "      <th>2012년</th>\n",
              "      <th>2013년</th>\n",
              "      <th>2014년</th>\n",
              "      <th>2015년</th>\n",
              "      <th>2016년</th>\n",
              "      <th>2017년</th>\n",
              "      <th>2018년</th>\n",
              "      <th>2019년</th>\n",
              "      <th>2020년</th>\n",
              "      <th>2021년</th>\n",
              "    </tr>\n",
              "  </thead>\n",
              "  <tbody>\n",
              "    <tr>\n",
              "      <th>0</th>\n",
              "      <td>계</td>\n",
              "      <td>77,032</td>\n",
              "      <td>7,667</td>\n",
              "      <td>2,200</td>\n",
              "      <td>3,491</td>\n",
              "      <td>4,439</td>\n",
              "      <td>6,582</td>\n",
              "      <td>8,129</td>\n",
              "      <td>9,947</td>\n",
              "      <td>9,876</td>\n",
              "      <td>11,961</td>\n",
              "      <td>11,132</td>\n",
              "      <td>1,608</td>\n",
              "    </tr>\n",
              "    <tr>\n",
              "      <th>1</th>\n",
              "      <td>종로구</td>\n",
              "      <td>1,772</td>\n",
              "      <td>813</td>\n",
              "      <td>0</td>\n",
              "      <td>0</td>\n",
              "      <td>210</td>\n",
              "      <td>150</td>\n",
              "      <td>1</td>\n",
              "      <td>261</td>\n",
              "      <td>85</td>\n",
              "      <td>9</td>\n",
              "      <td>200</td>\n",
              "      <td>43</td>\n",
              "    </tr>\n",
              "    <tr>\n",
              "      <th>2</th>\n",
              "      <td>중 구</td>\n",
              "      <td>2,333</td>\n",
              "      <td>16</td>\n",
              "      <td>114</td>\n",
              "      <td>87</td>\n",
              "      <td>77</td>\n",
              "      <td>236</td>\n",
              "      <td>240</td>\n",
              "      <td>372</td>\n",
              "      <td>386</td>\n",
              "      <td>155</td>\n",
              "      <td>361</td>\n",
              "      <td>289</td>\n",
              "    </tr>\n",
              "    <tr>\n",
              "      <th>3</th>\n",
              "      <td>용산구</td>\n",
              "      <td>2,383</td>\n",
              "      <td>34</td>\n",
              "      <td>71</td>\n",
              "      <td>234</td>\n",
              "      <td>125</td>\n",
              "      <td>221</td>\n",
              "      <td>298</td>\n",
              "      <td>351</td>\n",
              "      <td>125</td>\n",
              "      <td>307</td>\n",
              "      <td>617</td>\n",
              "      <td>0</td>\n",
              "    </tr>\n",
              "    <tr>\n",
              "      <th>4</th>\n",
              "      <td>성동구</td>\n",
              "      <td>3,602</td>\n",
              "      <td>448</td>\n",
              "      <td>125</td>\n",
              "      <td>212</td>\n",
              "      <td>105</td>\n",
              "      <td>339</td>\n",
              "      <td>310</td>\n",
              "      <td>874</td>\n",
              "      <td>390</td>\n",
              "      <td>262</td>\n",
              "      <td>461</td>\n",
              "      <td>76</td>\n",
              "    </tr>\n",
              "  </tbody>\n",
              "</table>\n",
              "</div>"
            ],
            "text/plain": [
              "    구분      총계 2012년 이전  2012년  2013년  ...  2017년  2018년   2019년   2020년  2021년\n",
              "0    계  77,032    7,667  2,200  3,491  ...  9,947  9,876  11,961  11,132  1,608\n",
              "1  종로구   1,772      813      0      0  ...    261     85       9     200     43\n",
              "2  중 구   2,333       16    114     87  ...    372    386     155     361    289\n",
              "3  용산구   2,383       34     71    234  ...    351    125     307     617      0\n",
              "4  성동구   3,602      448    125    212  ...    874    390     262     461     76\n",
              "\n",
              "[5 rows x 13 columns]"
            ]
          },
          "metadata": {},
          "execution_count": 3
        }
      ]
    },
    {
      "cell_type": "code",
      "metadata": {
        "colab": {
          "base_uri": "https://localhost:8080/"
        },
        "id": "2k7Cp_3coxv7",
        "outputId": "568bd4d5-c2bd-4211-e017-7aaa58882998"
      },
      "source": [
        "# Null data 있는지 확인하기\n",
        "cctv.isna().sum().sum()"
      ],
      "execution_count": 5,
      "outputs": [
        {
          "output_type": "execute_result",
          "data": {
            "text/plain": [
              "0"
            ]
          },
          "metadata": {},
          "execution_count": 5
        }
      ]
    },
    {
      "cell_type": "code",
      "metadata": {
        "colab": {
          "base_uri": "https://localhost:8080/",
          "height": 142
        },
        "id": "u2UrlTuEpKI8",
        "outputId": "3dba1c2e-1033-4af2-cac8-36ffd4532a93"
      },
      "source": [
        "# 1000 단위 구분기호 없애고 정수로 변환하기\n",
        "for column in cctv.columns[1:]:\n",
        "    cctv[column] = cctv[column].apply(lambda x: int(x.replace(',','')))\n",
        "cctv.head(3)"
      ],
      "execution_count": 6,
      "outputs": [
        {
          "output_type": "execute_result",
          "data": {
            "text/html": [
              "<div>\n",
              "<style scoped>\n",
              "    .dataframe tbody tr th:only-of-type {\n",
              "        vertical-align: middle;\n",
              "    }\n",
              "\n",
              "    .dataframe tbody tr th {\n",
              "        vertical-align: top;\n",
              "    }\n",
              "\n",
              "    .dataframe thead th {\n",
              "        text-align: right;\n",
              "    }\n",
              "</style>\n",
              "<table border=\"1\" class=\"dataframe\">\n",
              "  <thead>\n",
              "    <tr style=\"text-align: right;\">\n",
              "      <th></th>\n",
              "      <th>구분</th>\n",
              "      <th>총계</th>\n",
              "      <th>2012년 이전</th>\n",
              "      <th>2012년</th>\n",
              "      <th>2013년</th>\n",
              "      <th>2014년</th>\n",
              "      <th>2015년</th>\n",
              "      <th>2016년</th>\n",
              "      <th>2017년</th>\n",
              "      <th>2018년</th>\n",
              "      <th>2019년</th>\n",
              "      <th>2020년</th>\n",
              "      <th>2021년</th>\n",
              "    </tr>\n",
              "  </thead>\n",
              "  <tbody>\n",
              "    <tr>\n",
              "      <th>0</th>\n",
              "      <td>계</td>\n",
              "      <td>77032</td>\n",
              "      <td>7667</td>\n",
              "      <td>2200</td>\n",
              "      <td>3491</td>\n",
              "      <td>4439</td>\n",
              "      <td>6582</td>\n",
              "      <td>8129</td>\n",
              "      <td>9947</td>\n",
              "      <td>9876</td>\n",
              "      <td>11961</td>\n",
              "      <td>11132</td>\n",
              "      <td>1608</td>\n",
              "    </tr>\n",
              "    <tr>\n",
              "      <th>1</th>\n",
              "      <td>종로구</td>\n",
              "      <td>1772</td>\n",
              "      <td>813</td>\n",
              "      <td>0</td>\n",
              "      <td>0</td>\n",
              "      <td>210</td>\n",
              "      <td>150</td>\n",
              "      <td>1</td>\n",
              "      <td>261</td>\n",
              "      <td>85</td>\n",
              "      <td>9</td>\n",
              "      <td>200</td>\n",
              "      <td>43</td>\n",
              "    </tr>\n",
              "    <tr>\n",
              "      <th>2</th>\n",
              "      <td>중 구</td>\n",
              "      <td>2333</td>\n",
              "      <td>16</td>\n",
              "      <td>114</td>\n",
              "      <td>87</td>\n",
              "      <td>77</td>\n",
              "      <td>236</td>\n",
              "      <td>240</td>\n",
              "      <td>372</td>\n",
              "      <td>386</td>\n",
              "      <td>155</td>\n",
              "      <td>361</td>\n",
              "      <td>289</td>\n",
              "    </tr>\n",
              "  </tbody>\n",
              "</table>\n",
              "</div>"
            ],
            "text/plain": [
              "    구분     총계  2012년 이전  2012년  2013년  ...  2017년  2018년  2019년  2020년  2021년\n",
              "0    계  77032      7667   2200   3491  ...   9947   9876  11961  11132   1608\n",
              "1  종로구   1772       813      0      0  ...    261     85      9    200     43\n",
              "2  중 구   2333        16    114     87  ...    372    386    155    361    289\n",
              "\n",
              "[3 rows x 13 columns]"
            ]
          },
          "metadata": {},
          "execution_count": 6
        }
      ]
    },
    {
      "cell_type": "code",
      "metadata": {
        "colab": {
          "base_uri": "https://localhost:8080/",
          "height": 142
        },
        "id": "4Rytc_-YpjM7",
        "outputId": "f30d6116-89ee-443a-c53c-09639eb13b56"
      },
      "source": [
        "# 첫번째 행 지우기\n",
        "cctv.drop([0], inplace=True)\n",
        "cctv.head(3)"
      ],
      "execution_count": 7,
      "outputs": [
        {
          "output_type": "execute_result",
          "data": {
            "text/html": [
              "<div>\n",
              "<style scoped>\n",
              "    .dataframe tbody tr th:only-of-type {\n",
              "        vertical-align: middle;\n",
              "    }\n",
              "\n",
              "    .dataframe tbody tr th {\n",
              "        vertical-align: top;\n",
              "    }\n",
              "\n",
              "    .dataframe thead th {\n",
              "        text-align: right;\n",
              "    }\n",
              "</style>\n",
              "<table border=\"1\" class=\"dataframe\">\n",
              "  <thead>\n",
              "    <tr style=\"text-align: right;\">\n",
              "      <th></th>\n",
              "      <th>구분</th>\n",
              "      <th>총계</th>\n",
              "      <th>2012년 이전</th>\n",
              "      <th>2012년</th>\n",
              "      <th>2013년</th>\n",
              "      <th>2014년</th>\n",
              "      <th>2015년</th>\n",
              "      <th>2016년</th>\n",
              "      <th>2017년</th>\n",
              "      <th>2018년</th>\n",
              "      <th>2019년</th>\n",
              "      <th>2020년</th>\n",
              "      <th>2021년</th>\n",
              "    </tr>\n",
              "  </thead>\n",
              "  <tbody>\n",
              "    <tr>\n",
              "      <th>1</th>\n",
              "      <td>종로구</td>\n",
              "      <td>1772</td>\n",
              "      <td>813</td>\n",
              "      <td>0</td>\n",
              "      <td>0</td>\n",
              "      <td>210</td>\n",
              "      <td>150</td>\n",
              "      <td>1</td>\n",
              "      <td>261</td>\n",
              "      <td>85</td>\n",
              "      <td>9</td>\n",
              "      <td>200</td>\n",
              "      <td>43</td>\n",
              "    </tr>\n",
              "    <tr>\n",
              "      <th>2</th>\n",
              "      <td>중 구</td>\n",
              "      <td>2333</td>\n",
              "      <td>16</td>\n",
              "      <td>114</td>\n",
              "      <td>87</td>\n",
              "      <td>77</td>\n",
              "      <td>236</td>\n",
              "      <td>240</td>\n",
              "      <td>372</td>\n",
              "      <td>386</td>\n",
              "      <td>155</td>\n",
              "      <td>361</td>\n",
              "      <td>289</td>\n",
              "    </tr>\n",
              "    <tr>\n",
              "      <th>3</th>\n",
              "      <td>용산구</td>\n",
              "      <td>2383</td>\n",
              "      <td>34</td>\n",
              "      <td>71</td>\n",
              "      <td>234</td>\n",
              "      <td>125</td>\n",
              "      <td>221</td>\n",
              "      <td>298</td>\n",
              "      <td>351</td>\n",
              "      <td>125</td>\n",
              "      <td>307</td>\n",
              "      <td>617</td>\n",
              "      <td>0</td>\n",
              "    </tr>\n",
              "  </tbody>\n",
              "</table>\n",
              "</div>"
            ],
            "text/plain": [
              "    구분    총계  2012년 이전  2012년  2013년  ...  2017년  2018년  2019년  2020년  2021년\n",
              "1  종로구  1772       813      0      0  ...    261     85      9    200     43\n",
              "2  중 구  2333        16    114     87  ...    372    386    155    361    289\n",
              "3  용산구  2383        34     71    234  ...    351    125    307    617      0\n",
              "\n",
              "[3 rows x 13 columns]"
            ]
          },
          "metadata": {},
          "execution_count": 7
        }
      ]
    },
    {
      "cell_type": "code",
      "metadata": {
        "colab": {
          "base_uri": "https://localhost:8080/",
          "height": 142
        },
        "id": "poF8ue_Rp1EE",
        "outputId": "824fd71e-7b35-415a-e5ab-ce15168087a9"
      },
      "source": [
        "# 2021년을 제외한 최근 3개년간의 CCTV 증가율 구하기\n",
        "cctv['2017년_이전'] = cctv.총계 - cctv['2018년'] - cctv['2019년'] - cctv['2020년'] - cctv['2021년']\n",
        "cctv['최근증가율'] = ((cctv['2018년']+cctv['2019년']+cctv['2020년']) / cctv['2017년_이전'] * 100).round(2)\n",
        "cctv.head(3)"
      ],
      "execution_count": 8,
      "outputs": [
        {
          "output_type": "execute_result",
          "data": {
            "text/html": [
              "<div>\n",
              "<style scoped>\n",
              "    .dataframe tbody tr th:only-of-type {\n",
              "        vertical-align: middle;\n",
              "    }\n",
              "\n",
              "    .dataframe tbody tr th {\n",
              "        vertical-align: top;\n",
              "    }\n",
              "\n",
              "    .dataframe thead th {\n",
              "        text-align: right;\n",
              "    }\n",
              "</style>\n",
              "<table border=\"1\" class=\"dataframe\">\n",
              "  <thead>\n",
              "    <tr style=\"text-align: right;\">\n",
              "      <th></th>\n",
              "      <th>구분</th>\n",
              "      <th>총계</th>\n",
              "      <th>2012년 이전</th>\n",
              "      <th>2012년</th>\n",
              "      <th>2013년</th>\n",
              "      <th>2014년</th>\n",
              "      <th>2015년</th>\n",
              "      <th>2016년</th>\n",
              "      <th>2017년</th>\n",
              "      <th>2018년</th>\n",
              "      <th>2019년</th>\n",
              "      <th>2020년</th>\n",
              "      <th>2021년</th>\n",
              "      <th>2017년_이전</th>\n",
              "      <th>최근증가율</th>\n",
              "    </tr>\n",
              "  </thead>\n",
              "  <tbody>\n",
              "    <tr>\n",
              "      <th>1</th>\n",
              "      <td>종로구</td>\n",
              "      <td>1772</td>\n",
              "      <td>813</td>\n",
              "      <td>0</td>\n",
              "      <td>0</td>\n",
              "      <td>210</td>\n",
              "      <td>150</td>\n",
              "      <td>1</td>\n",
              "      <td>261</td>\n",
              "      <td>85</td>\n",
              "      <td>9</td>\n",
              "      <td>200</td>\n",
              "      <td>43</td>\n",
              "      <td>1435</td>\n",
              "      <td>20.49</td>\n",
              "    </tr>\n",
              "    <tr>\n",
              "      <th>2</th>\n",
              "      <td>중 구</td>\n",
              "      <td>2333</td>\n",
              "      <td>16</td>\n",
              "      <td>114</td>\n",
              "      <td>87</td>\n",
              "      <td>77</td>\n",
              "      <td>236</td>\n",
              "      <td>240</td>\n",
              "      <td>372</td>\n",
              "      <td>386</td>\n",
              "      <td>155</td>\n",
              "      <td>361</td>\n",
              "      <td>289</td>\n",
              "      <td>1142</td>\n",
              "      <td>78.98</td>\n",
              "    </tr>\n",
              "    <tr>\n",
              "      <th>3</th>\n",
              "      <td>용산구</td>\n",
              "      <td>2383</td>\n",
              "      <td>34</td>\n",
              "      <td>71</td>\n",
              "      <td>234</td>\n",
              "      <td>125</td>\n",
              "      <td>221</td>\n",
              "      <td>298</td>\n",
              "      <td>351</td>\n",
              "      <td>125</td>\n",
              "      <td>307</td>\n",
              "      <td>617</td>\n",
              "      <td>0</td>\n",
              "      <td>1334</td>\n",
              "      <td>78.64</td>\n",
              "    </tr>\n",
              "  </tbody>\n",
              "</table>\n",
              "</div>"
            ],
            "text/plain": [
              "    구분    총계  2012년 이전  2012년  2013년  ...  2019년  2020년  2021년  2017년_이전  최근증가율\n",
              "1  종로구  1772       813      0      0  ...      9    200     43      1435  20.49\n",
              "2  중 구  2333        16    114     87  ...    155    361    289      1142  78.98\n",
              "3  용산구  2383        34     71    234  ...    307    617      0      1334  78.64\n",
              "\n",
              "[3 rows x 15 columns]"
            ]
          },
          "metadata": {},
          "execution_count": 8
        }
      ]
    },
    {
      "cell_type": "code",
      "metadata": {
        "colab": {
          "base_uri": "https://localhost:8080/",
          "height": 142
        },
        "id": "03hUGyYCqLza",
        "outputId": "dc0942d6-88e2-4df3-b4bd-73db6107d0a7"
      },
      "source": [
        "# 구분, 총계, 최근증가율 컬럼만 추출하고 컬럼명을 구별, CCTV댓수로 변경하기\n",
        "cctv = cctv[['구분', '총계','최근증가율']]\n",
        "cctv.rename(columns={'구분':'구별', '총계':'CCTV댓수'}, inplace=True)\n",
        "cctv.head(3)"
      ],
      "execution_count": 9,
      "outputs": [
        {
          "output_type": "execute_result",
          "data": {
            "text/html": [
              "<div>\n",
              "<style scoped>\n",
              "    .dataframe tbody tr th:only-of-type {\n",
              "        vertical-align: middle;\n",
              "    }\n",
              "\n",
              "    .dataframe tbody tr th {\n",
              "        vertical-align: top;\n",
              "    }\n",
              "\n",
              "    .dataframe thead th {\n",
              "        text-align: right;\n",
              "    }\n",
              "</style>\n",
              "<table border=\"1\" class=\"dataframe\">\n",
              "  <thead>\n",
              "    <tr style=\"text-align: right;\">\n",
              "      <th></th>\n",
              "      <th>구별</th>\n",
              "      <th>CCTV댓수</th>\n",
              "      <th>최근증가율</th>\n",
              "    </tr>\n",
              "  </thead>\n",
              "  <tbody>\n",
              "    <tr>\n",
              "      <th>1</th>\n",
              "      <td>종로구</td>\n",
              "      <td>1772</td>\n",
              "      <td>20.49</td>\n",
              "    </tr>\n",
              "    <tr>\n",
              "      <th>2</th>\n",
              "      <td>중 구</td>\n",
              "      <td>2333</td>\n",
              "      <td>78.98</td>\n",
              "    </tr>\n",
              "    <tr>\n",
              "      <th>3</th>\n",
              "      <td>용산구</td>\n",
              "      <td>2383</td>\n",
              "      <td>78.64</td>\n",
              "    </tr>\n",
              "  </tbody>\n",
              "</table>\n",
              "</div>"
            ],
            "text/plain": [
              "    구별  CCTV댓수  최근증가율\n",
              "1  종로구    1772  20.49\n",
              "2  중 구    2333  78.98\n",
              "3  용산구    2383  78.64"
            ]
          },
          "metadata": {},
          "execution_count": 9
        }
      ]
    },
    {
      "cell_type": "code",
      "metadata": {
        "colab": {
          "base_uri": "https://localhost:8080/",
          "height": 142
        },
        "id": "Au7nG2JUqhlc",
        "outputId": "f7ba8735-9f66-4bdd-e047-2a508f7a674f"
      },
      "source": [
        "# 구 이름에서 공백지우기\n",
        "cctv['구별'] = cctv.구별.str.replace(' ','')\n",
        "cctv.head(3)"
      ],
      "execution_count": 10,
      "outputs": [
        {
          "output_type": "execute_result",
          "data": {
            "text/html": [
              "<div>\n",
              "<style scoped>\n",
              "    .dataframe tbody tr th:only-of-type {\n",
              "        vertical-align: middle;\n",
              "    }\n",
              "\n",
              "    .dataframe tbody tr th {\n",
              "        vertical-align: top;\n",
              "    }\n",
              "\n",
              "    .dataframe thead th {\n",
              "        text-align: right;\n",
              "    }\n",
              "</style>\n",
              "<table border=\"1\" class=\"dataframe\">\n",
              "  <thead>\n",
              "    <tr style=\"text-align: right;\">\n",
              "      <th></th>\n",
              "      <th>구별</th>\n",
              "      <th>CCTV댓수</th>\n",
              "      <th>최근증가율</th>\n",
              "    </tr>\n",
              "  </thead>\n",
              "  <tbody>\n",
              "    <tr>\n",
              "      <th>1</th>\n",
              "      <td>종로구</td>\n",
              "      <td>1772</td>\n",
              "      <td>20.49</td>\n",
              "    </tr>\n",
              "    <tr>\n",
              "      <th>2</th>\n",
              "      <td>중구</td>\n",
              "      <td>2333</td>\n",
              "      <td>78.98</td>\n",
              "    </tr>\n",
              "    <tr>\n",
              "      <th>3</th>\n",
              "      <td>용산구</td>\n",
              "      <td>2383</td>\n",
              "      <td>78.64</td>\n",
              "    </tr>\n",
              "  </tbody>\n",
              "</table>\n",
              "</div>"
            ],
            "text/plain": [
              "    구별  CCTV댓수  최근증가율\n",
              "1  종로구    1772  20.49\n",
              "2   중구    2333  78.98\n",
              "3  용산구    2383  78.64"
            ]
          },
          "metadata": {},
          "execution_count": 10
        }
      ]
    },
    {
      "cell_type": "markdown",
      "metadata": {
        "id": "oySE7mturE0A"
      },
      "source": [
        "## 2. 인구 데이터 정리하기"
      ]
    },
    {
      "cell_type": "code",
      "metadata": {
        "colab": {
          "resources": {
            "http://localhost:8080/nbextensions/google.colab/files.js": {
              "data": "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",
              "ok": true,
              "headers": [
                [
                  "content-type",
                  "application/javascript"
                ]
              ],
              "status": 200,
              "status_text": ""
            }
          },
          "base_uri": "https://localhost:8080/",
          "height": 76
        },
        "id": "IGbwdUNnq9JT",
        "outputId": "3aaabb23-0304-4569-de60-d45caca5b2a3"
      },
      "source": [
        "uploaded = files.upload()\n",
        "filename = list(uploaded.keys())[0]"
      ],
      "execution_count": 11,
      "outputs": [
        {
          "output_type": "display_data",
          "data": {
            "text/html": [
              "\n",
              "     <input type=\"file\" id=\"files-e6d7e5e1-fe32-42b1-8866-a285d43c0d85\" name=\"files[]\" multiple disabled\n",
              "        style=\"border:none\" />\n",
              "     <output id=\"result-e6d7e5e1-fe32-42b1-8866-a285d43c0d85\">\n",
              "      Upload widget is only available when the cell has been executed in the\n",
              "      current browser session. Please rerun this cell to enable.\n",
              "      </output>\n",
              "      <script src=\"/nbextensions/google.colab/files.js\"></script> "
            ],
            "text/plain": [
              "<IPython.core.display.HTML object>"
            ]
          },
          "metadata": {}
        },
        {
          "output_type": "stream",
          "name": "stdout",
          "text": [
            "Saving 서울시주민등록인구(구별)통계.txt to 서울시주민등록인구(구별)통계.txt\n"
          ]
        }
      ]
    },
    {
      "cell_type": "code",
      "metadata": {
        "colab": {
          "base_uri": "https://localhost:8080/",
          "height": 204
        },
        "id": "2zWi4jnvrNra",
        "outputId": "5216c13b-97d7-432c-d5c5-1fd01e507c10"
      },
      "source": [
        "pop = pd.read_csv(filename, sep='\\t', skiprows=2)\n",
        "pop.head()"
      ],
      "execution_count": 12,
      "outputs": [
        {
          "output_type": "execute_result",
          "data": {
            "text/html": [
              "<div>\n",
              "<style scoped>\n",
              "    .dataframe tbody tr th:only-of-type {\n",
              "        vertical-align: middle;\n",
              "    }\n",
              "\n",
              "    .dataframe tbody tr th {\n",
              "        vertical-align: top;\n",
              "    }\n",
              "\n",
              "    .dataframe thead th {\n",
              "        text-align: right;\n",
              "    }\n",
              "</style>\n",
              "<table border=\"1\" class=\"dataframe\">\n",
              "  <thead>\n",
              "    <tr style=\"text-align: right;\">\n",
              "      <th></th>\n",
              "      <th>기간</th>\n",
              "      <th>자치구</th>\n",
              "      <th>세대</th>\n",
              "      <th>계</th>\n",
              "      <th>남자</th>\n",
              "      <th>여자</th>\n",
              "      <th>계.1</th>\n",
              "      <th>남자.1</th>\n",
              "      <th>여자.1</th>\n",
              "      <th>계.2</th>\n",
              "      <th>남자.2</th>\n",
              "      <th>여자.2</th>\n",
              "      <th>세대당인구</th>\n",
              "      <th>65세이상고령자</th>\n",
              "    </tr>\n",
              "  </thead>\n",
              "  <tbody>\n",
              "    <tr>\n",
              "      <th>0</th>\n",
              "      <td>2021.2/4</td>\n",
              "      <td>합계</td>\n",
              "      <td>4,405,638</td>\n",
              "      <td>9,795,426</td>\n",
              "      <td>4,756,178</td>\n",
              "      <td>5,039,248</td>\n",
              "      <td>9,565,990</td>\n",
              "      <td>4,649,442</td>\n",
              "      <td>4,916,548</td>\n",
              "      <td>229,436</td>\n",
              "      <td>106,736</td>\n",
              "      <td>122,700</td>\n",
              "      <td>2.17</td>\n",
              "      <td>1,576,971</td>\n",
              "    </tr>\n",
              "    <tr>\n",
              "      <th>1</th>\n",
              "      <td>2021.2/4</td>\n",
              "      <td>종로구</td>\n",
              "      <td>73,525</td>\n",
              "      <td>155,106</td>\n",
              "      <td>75,009</td>\n",
              "      <td>80,097</td>\n",
              "      <td>146,029</td>\n",
              "      <td>70,985</td>\n",
              "      <td>75,044</td>\n",
              "      <td>9,077</td>\n",
              "      <td>4,024</td>\n",
              "      <td>5,053</td>\n",
              "      <td>1.99</td>\n",
              "      <td>27,605</td>\n",
              "    </tr>\n",
              "    <tr>\n",
              "      <th>2</th>\n",
              "      <td>2021.2/4</td>\n",
              "      <td>중구</td>\n",
              "      <td>62,897</td>\n",
              "      <td>132,259</td>\n",
              "      <td>64,526</td>\n",
              "      <td>67,733</td>\n",
              "      <td>123,016</td>\n",
              "      <td>60,019</td>\n",
              "      <td>62,997</td>\n",
              "      <td>9,243</td>\n",
              "      <td>4,507</td>\n",
              "      <td>4,736</td>\n",
              "      <td>1.96</td>\n",
              "      <td>23,980</td>\n",
              "    </tr>\n",
              "    <tr>\n",
              "      <th>3</th>\n",
              "      <td>2021.2/4</td>\n",
              "      <td>용산구</td>\n",
              "      <td>111,650</td>\n",
              "      <td>240,665</td>\n",
              "      <td>116,858</td>\n",
              "      <td>123,807</td>\n",
              "      <td>226,378</td>\n",
              "      <td>108,948</td>\n",
              "      <td>117,430</td>\n",
              "      <td>14,287</td>\n",
              "      <td>7,910</td>\n",
              "      <td>6,377</td>\n",
              "      <td>2.03</td>\n",
              "      <td>38,884</td>\n",
              "    </tr>\n",
              "    <tr>\n",
              "      <th>4</th>\n",
              "      <td>2021.2/4</td>\n",
              "      <td>성동구</td>\n",
              "      <td>134,542</td>\n",
              "      <td>295,767</td>\n",
              "      <td>143,927</td>\n",
              "      <td>151,840</td>\n",
              "      <td>289,162</td>\n",
              "      <td>141,042</td>\n",
              "      <td>148,120</td>\n",
              "      <td>6,605</td>\n",
              "      <td>2,885</td>\n",
              "      <td>3,720</td>\n",
              "      <td>2.15</td>\n",
              "      <td>45,591</td>\n",
              "    </tr>\n",
              "  </tbody>\n",
              "</table>\n",
              "</div>"
            ],
            "text/plain": [
              "         기간  자치구         세대          계  ...     남자.2     여자.2 세대당인구   65세이상고령자\n",
              "0  2021.2/4   합계  4,405,638  9,795,426  ...  106,736  122,700  2.17  1,576,971\n",
              "1  2021.2/4  종로구     73,525    155,106  ...    4,024    5,053  1.99     27,605\n",
              "2  2021.2/4   중구     62,897    132,259  ...    4,507    4,736  1.96     23,980\n",
              "3  2021.2/4  용산구    111,650    240,665  ...    7,910    6,377  2.03     38,884\n",
              "4  2021.2/4  성동구    134,542    295,767  ...    2,885    3,720  2.15     45,591\n",
              "\n",
              "[5 rows x 14 columns]"
            ]
          },
          "metadata": {},
          "execution_count": 12
        }
      ]
    },
    {
      "cell_type": "code",
      "metadata": {
        "colab": {
          "base_uri": "https://localhost:8080/"
        },
        "id": "60pSzFNBriJB",
        "outputId": "88d5bee2-74eb-4bae-8a1b-5c523613ada6"
      },
      "source": [
        "# Null data 있는지 확인하기\n",
        "pop.isnull().sum().sum()"
      ],
      "execution_count": 13,
      "outputs": [
        {
          "output_type": "execute_result",
          "data": {
            "text/plain": [
              "0"
            ]
          },
          "metadata": {},
          "execution_count": 13
        }
      ]
    },
    {
      "cell_type": "code",
      "metadata": {
        "colab": {
          "base_uri": "https://localhost:8080/",
          "height": 142
        },
        "id": "X7oiPbVIrsW0",
        "outputId": "016eb754-63d4-4bd0-9f52-2665539e1261"
      },
      "source": [
        "# '자치구','계','계.1','계.2','65세이상고령자‘ 컬럼만 추출하고 이름을 변경\n",
        "pop = pop[['자치구','계','계.1','계.2','65세이상고령자']]\n",
        "pop.columns = ['구별','인구수','내국인','외국인','고령자']\n",
        "pop.head(3)"
      ],
      "execution_count": 14,
      "outputs": [
        {
          "output_type": "execute_result",
          "data": {
            "text/html": [
              "<div>\n",
              "<style scoped>\n",
              "    .dataframe tbody tr th:only-of-type {\n",
              "        vertical-align: middle;\n",
              "    }\n",
              "\n",
              "    .dataframe tbody tr th {\n",
              "        vertical-align: top;\n",
              "    }\n",
              "\n",
              "    .dataframe thead th {\n",
              "        text-align: right;\n",
              "    }\n",
              "</style>\n",
              "<table border=\"1\" class=\"dataframe\">\n",
              "  <thead>\n",
              "    <tr style=\"text-align: right;\">\n",
              "      <th></th>\n",
              "      <th>구별</th>\n",
              "      <th>인구수</th>\n",
              "      <th>내국인</th>\n",
              "      <th>외국인</th>\n",
              "      <th>고령자</th>\n",
              "    </tr>\n",
              "  </thead>\n",
              "  <tbody>\n",
              "    <tr>\n",
              "      <th>0</th>\n",
              "      <td>합계</td>\n",
              "      <td>9,795,426</td>\n",
              "      <td>9,565,990</td>\n",
              "      <td>229,436</td>\n",
              "      <td>1,576,971</td>\n",
              "    </tr>\n",
              "    <tr>\n",
              "      <th>1</th>\n",
              "      <td>종로구</td>\n",
              "      <td>155,106</td>\n",
              "      <td>146,029</td>\n",
              "      <td>9,077</td>\n",
              "      <td>27,605</td>\n",
              "    </tr>\n",
              "    <tr>\n",
              "      <th>2</th>\n",
              "      <td>중구</td>\n",
              "      <td>132,259</td>\n",
              "      <td>123,016</td>\n",
              "      <td>9,243</td>\n",
              "      <td>23,980</td>\n",
              "    </tr>\n",
              "  </tbody>\n",
              "</table>\n",
              "</div>"
            ],
            "text/plain": [
              "    구별        인구수        내국인      외국인        고령자\n",
              "0   합계  9,795,426  9,565,990  229,436  1,576,971\n",
              "1  종로구    155,106    146,029    9,077     27,605\n",
              "2   중구    132,259    123,016    9,243     23,980"
            ]
          },
          "metadata": {},
          "execution_count": 14
        }
      ]
    },
    {
      "cell_type": "code",
      "metadata": {
        "id": "HIxIiiCZr9D4"
      },
      "source": [
        "# 첫번째 행 지우기\n",
        "pop.drop([0], inplace=True)"
      ],
      "execution_count": 15,
      "outputs": []
    },
    {
      "cell_type": "code",
      "metadata": {
        "colab": {
          "base_uri": "https://localhost:8080/",
          "height": 142
        },
        "id": "FPW_j84esFKK",
        "outputId": "e2868d14-5a6a-45bc-b744-79eea6e5f89a"
      },
      "source": [
        "# 1000 단위 구분기호 없애고 정수로 변환하기\n",
        "for column in pop.columns[1:]:\n",
        "    pop[column] = pop[column].apply(lambda x: int(x.replace(',','')))\n",
        "pop.head(3)"
      ],
      "execution_count": 16,
      "outputs": [
        {
          "output_type": "execute_result",
          "data": {
            "text/html": [
              "<div>\n",
              "<style scoped>\n",
              "    .dataframe tbody tr th:only-of-type {\n",
              "        vertical-align: middle;\n",
              "    }\n",
              "\n",
              "    .dataframe tbody tr th {\n",
              "        vertical-align: top;\n",
              "    }\n",
              "\n",
              "    .dataframe thead th {\n",
              "        text-align: right;\n",
              "    }\n",
              "</style>\n",
              "<table border=\"1\" class=\"dataframe\">\n",
              "  <thead>\n",
              "    <tr style=\"text-align: right;\">\n",
              "      <th></th>\n",
              "      <th>구별</th>\n",
              "      <th>인구수</th>\n",
              "      <th>내국인</th>\n",
              "      <th>외국인</th>\n",
              "      <th>고령자</th>\n",
              "    </tr>\n",
              "  </thead>\n",
              "  <tbody>\n",
              "    <tr>\n",
              "      <th>1</th>\n",
              "      <td>종로구</td>\n",
              "      <td>155106</td>\n",
              "      <td>146029</td>\n",
              "      <td>9077</td>\n",
              "      <td>27605</td>\n",
              "    </tr>\n",
              "    <tr>\n",
              "      <th>2</th>\n",
              "      <td>중구</td>\n",
              "      <td>132259</td>\n",
              "      <td>123016</td>\n",
              "      <td>9243</td>\n",
              "      <td>23980</td>\n",
              "    </tr>\n",
              "    <tr>\n",
              "      <th>3</th>\n",
              "      <td>용산구</td>\n",
              "      <td>240665</td>\n",
              "      <td>226378</td>\n",
              "      <td>14287</td>\n",
              "      <td>38884</td>\n",
              "    </tr>\n",
              "  </tbody>\n",
              "</table>\n",
              "</div>"
            ],
            "text/plain": [
              "    구별     인구수     내국인    외국인    고령자\n",
              "1  종로구  155106  146029   9077  27605\n",
              "2   중구  132259  123016   9243  23980\n",
              "3  용산구  240665  226378  14287  38884"
            ]
          },
          "metadata": {},
          "execution_count": 16
        }
      ]
    },
    {
      "cell_type": "code",
      "metadata": {
        "colab": {
          "base_uri": "https://localhost:8080/",
          "height": 142
        },
        "id": "JV6K_WdJsLxZ",
        "outputId": "26c7b7d7-bfdf-4063-ab33-3a3c2a85243c"
      },
      "source": [
        "# '외국인비율‘과 '고령자비율‘ 컬럼 만들기\n",
        "pop['외국인비율'] = (pop.외국인/pop.인구수*100).round(2)\n",
        "pop['고령자비율'] = np.round(pop.고령자/pop.인구수*100, 2)\n",
        "pop.head(3)"
      ],
      "execution_count": 17,
      "outputs": [
        {
          "output_type": "execute_result",
          "data": {
            "text/html": [
              "<div>\n",
              "<style scoped>\n",
              "    .dataframe tbody tr th:only-of-type {\n",
              "        vertical-align: middle;\n",
              "    }\n",
              "\n",
              "    .dataframe tbody tr th {\n",
              "        vertical-align: top;\n",
              "    }\n",
              "\n",
              "    .dataframe thead th {\n",
              "        text-align: right;\n",
              "    }\n",
              "</style>\n",
              "<table border=\"1\" class=\"dataframe\">\n",
              "  <thead>\n",
              "    <tr style=\"text-align: right;\">\n",
              "      <th></th>\n",
              "      <th>구별</th>\n",
              "      <th>인구수</th>\n",
              "      <th>내국인</th>\n",
              "      <th>외국인</th>\n",
              "      <th>고령자</th>\n",
              "      <th>외국인비율</th>\n",
              "      <th>고령자비율</th>\n",
              "    </tr>\n",
              "  </thead>\n",
              "  <tbody>\n",
              "    <tr>\n",
              "      <th>1</th>\n",
              "      <td>종로구</td>\n",
              "      <td>155106</td>\n",
              "      <td>146029</td>\n",
              "      <td>9077</td>\n",
              "      <td>27605</td>\n",
              "      <td>5.85</td>\n",
              "      <td>17.80</td>\n",
              "    </tr>\n",
              "    <tr>\n",
              "      <th>2</th>\n",
              "      <td>중구</td>\n",
              "      <td>132259</td>\n",
              "      <td>123016</td>\n",
              "      <td>9243</td>\n",
              "      <td>23980</td>\n",
              "      <td>6.99</td>\n",
              "      <td>18.13</td>\n",
              "    </tr>\n",
              "    <tr>\n",
              "      <th>3</th>\n",
              "      <td>용산구</td>\n",
              "      <td>240665</td>\n",
              "      <td>226378</td>\n",
              "      <td>14287</td>\n",
              "      <td>38884</td>\n",
              "      <td>5.94</td>\n",
              "      <td>16.16</td>\n",
              "    </tr>\n",
              "  </tbody>\n",
              "</table>\n",
              "</div>"
            ],
            "text/plain": [
              "    구별     인구수     내국인    외국인    고령자  외국인비율  고령자비율\n",
              "1  종로구  155106  146029   9077  27605   5.85  17.80\n",
              "2   중구  132259  123016   9243  23980   6.99  18.13\n",
              "3  용산구  240665  226378  14287  38884   5.94  16.16"
            ]
          },
          "metadata": {},
          "execution_count": 17
        }
      ]
    },
    {
      "cell_type": "markdown",
      "metadata": {
        "id": "MOoOHIbhsm89"
      },
      "source": [
        "## 3. CCTV 데이터와 인구 데이터 합치기"
      ]
    },
    {
      "cell_type": "code",
      "metadata": {
        "colab": {
          "base_uri": "https://localhost:8080/",
          "height": 142
        },
        "id": "7NmBj6XgsZpq",
        "outputId": "eb570fad-0fa9-43f1-bfe5-a8b683419cbe"
      },
      "source": [
        "df = pd.merge(cctv, pop)\n",
        "df.head(3)"
      ],
      "execution_count": 19,
      "outputs": [
        {
          "output_type": "execute_result",
          "data": {
            "text/html": [
              "<div>\n",
              "<style scoped>\n",
              "    .dataframe tbody tr th:only-of-type {\n",
              "        vertical-align: middle;\n",
              "    }\n",
              "\n",
              "    .dataframe tbody tr th {\n",
              "        vertical-align: top;\n",
              "    }\n",
              "\n",
              "    .dataframe thead th {\n",
              "        text-align: right;\n",
              "    }\n",
              "</style>\n",
              "<table border=\"1\" class=\"dataframe\">\n",
              "  <thead>\n",
              "    <tr style=\"text-align: right;\">\n",
              "      <th></th>\n",
              "      <th>구별</th>\n",
              "      <th>CCTV댓수</th>\n",
              "      <th>최근증가율</th>\n",
              "      <th>인구수</th>\n",
              "      <th>내국인</th>\n",
              "      <th>외국인</th>\n",
              "      <th>고령자</th>\n",
              "      <th>외국인비율</th>\n",
              "      <th>고령자비율</th>\n",
              "    </tr>\n",
              "  </thead>\n",
              "  <tbody>\n",
              "    <tr>\n",
              "      <th>0</th>\n",
              "      <td>종로구</td>\n",
              "      <td>1772</td>\n",
              "      <td>20.49</td>\n",
              "      <td>155106</td>\n",
              "      <td>146029</td>\n",
              "      <td>9077</td>\n",
              "      <td>27605</td>\n",
              "      <td>5.85</td>\n",
              "      <td>17.80</td>\n",
              "    </tr>\n",
              "    <tr>\n",
              "      <th>1</th>\n",
              "      <td>중구</td>\n",
              "      <td>2333</td>\n",
              "      <td>78.98</td>\n",
              "      <td>132259</td>\n",
              "      <td>123016</td>\n",
              "      <td>9243</td>\n",
              "      <td>23980</td>\n",
              "      <td>6.99</td>\n",
              "      <td>18.13</td>\n",
              "    </tr>\n",
              "    <tr>\n",
              "      <th>2</th>\n",
              "      <td>용산구</td>\n",
              "      <td>2383</td>\n",
              "      <td>78.64</td>\n",
              "      <td>240665</td>\n",
              "      <td>226378</td>\n",
              "      <td>14287</td>\n",
              "      <td>38884</td>\n",
              "      <td>5.94</td>\n",
              "      <td>16.16</td>\n",
              "    </tr>\n",
              "  </tbody>\n",
              "</table>\n",
              "</div>"
            ],
            "text/plain": [
              "    구별  CCTV댓수  최근증가율     인구수     내국인    외국인    고령자  외국인비율  고령자비율\n",
              "0  종로구    1772  20.49  155106  146029   9077  27605   5.85  17.80\n",
              "1   중구    2333  78.98  132259  123016   9243  23980   6.99  18.13\n",
              "2  용산구    2383  78.64  240665  226378  14287  38884   5.94  16.16"
            ]
          },
          "metadata": {},
          "execution_count": 19
        }
      ]
    },
    {
      "cell_type": "code",
      "metadata": {
        "colab": {
          "base_uri": "https://localhost:8080/",
          "height": 173
        },
        "id": "NWGgjUmIs4NF",
        "outputId": "d9d45bee-1b2d-4453-d4c1-83d88f2f6d8a"
      },
      "source": [
        "# '구별' 컬럼을 인덱스로 만들기\n",
        "df.set_index('구별', inplace=True)\n",
        "df.head(3)"
      ],
      "execution_count": 20,
      "outputs": [
        {
          "output_type": "execute_result",
          "data": {
            "text/html": [
              "<div>\n",
              "<style scoped>\n",
              "    .dataframe tbody tr th:only-of-type {\n",
              "        vertical-align: middle;\n",
              "    }\n",
              "\n",
              "    .dataframe tbody tr th {\n",
              "        vertical-align: top;\n",
              "    }\n",
              "\n",
              "    .dataframe thead th {\n",
              "        text-align: right;\n",
              "    }\n",
              "</style>\n",
              "<table border=\"1\" class=\"dataframe\">\n",
              "  <thead>\n",
              "    <tr style=\"text-align: right;\">\n",
              "      <th></th>\n",
              "      <th>CCTV댓수</th>\n",
              "      <th>최근증가율</th>\n",
              "      <th>인구수</th>\n",
              "      <th>내국인</th>\n",
              "      <th>외국인</th>\n",
              "      <th>고령자</th>\n",
              "      <th>외국인비율</th>\n",
              "      <th>고령자비율</th>\n",
              "    </tr>\n",
              "    <tr>\n",
              "      <th>구별</th>\n",
              "      <th></th>\n",
              "      <th></th>\n",
              "      <th></th>\n",
              "      <th></th>\n",
              "      <th></th>\n",
              "      <th></th>\n",
              "      <th></th>\n",
              "      <th></th>\n",
              "    </tr>\n",
              "  </thead>\n",
              "  <tbody>\n",
              "    <tr>\n",
              "      <th>종로구</th>\n",
              "      <td>1772</td>\n",
              "      <td>20.49</td>\n",
              "      <td>155106</td>\n",
              "      <td>146029</td>\n",
              "      <td>9077</td>\n",
              "      <td>27605</td>\n",
              "      <td>5.85</td>\n",
              "      <td>17.80</td>\n",
              "    </tr>\n",
              "    <tr>\n",
              "      <th>중구</th>\n",
              "      <td>2333</td>\n",
              "      <td>78.98</td>\n",
              "      <td>132259</td>\n",
              "      <td>123016</td>\n",
              "      <td>9243</td>\n",
              "      <td>23980</td>\n",
              "      <td>6.99</td>\n",
              "      <td>18.13</td>\n",
              "    </tr>\n",
              "    <tr>\n",
              "      <th>용산구</th>\n",
              "      <td>2383</td>\n",
              "      <td>78.64</td>\n",
              "      <td>240665</td>\n",
              "      <td>226378</td>\n",
              "      <td>14287</td>\n",
              "      <td>38884</td>\n",
              "      <td>5.94</td>\n",
              "      <td>16.16</td>\n",
              "    </tr>\n",
              "  </tbody>\n",
              "</table>\n",
              "</div>"
            ],
            "text/plain": [
              "     CCTV댓수  최근증가율     인구수     내국인    외국인    고령자  외국인비율  고령자비율\n",
              "구별                                                            \n",
              "종로구    1772  20.49  155106  146029   9077  27605   5.85  17.80\n",
              "중구     2333  78.98  132259  123016   9243  23980   6.99  18.13\n",
              "용산구    2383  78.64  240665  226378  14287  38884   5.94  16.16"
            ]
          },
          "metadata": {},
          "execution_count": 20
        }
      ]
    },
    {
      "cell_type": "markdown",
      "metadata": {
        "id": "95jYtgeGtVY-"
      },
      "source": [
        "## 4. 상관관계 분석하기"
      ]
    },
    {
      "cell_type": "code",
      "metadata": {
        "colab": {
          "base_uri": "https://localhost:8080/",
          "height": 334
        },
        "id": "IcmkpmTOtGsS",
        "outputId": "b9b9de25-53bb-48fd-d348-32f9d5e7ed1f"
      },
      "source": [
        "# '고령자비율', '외국인비율', '인구수' vs 'CCTV댓수'\n",
        "fig, axs = plt.subplots(figsize=(15,5), ncols=3, nrows=1, sharey=True)\n",
        "features = ['고령자비율','외국인비율','인구수']\n",
        "for i, feature in enumerate(features):\n",
        "    sns.regplot(x=feature, y='CCTV댓수', data=df, ax=axs[i])"
      ],
      "execution_count": 22,
      "outputs": [
        {
          "output_type": "display_data",
          "data": {
            "image/png": "[encoded data removed]",
            "text/plain": [
              "<Figure size 1080x360 with 3 Axes>"
            ]
          },
          "metadata": {
            "needs_background": "light"
          }
        }
      ]
    },
    {
      "cell_type": "markdown",
      "metadata": {
        "id": "Q446OYieuxjr"
      },
      "source": [
        "## 5. 그래프 분석"
      ]
    },
    {
      "cell_type": "markdown",
      "metadata": {
        "id": "iZFgP6BUu4Lt"
      },
      "source": [
        "- 구별 CCTV 댓수"
      ]
    },
    {
      "cell_type": "code",
      "metadata": {
        "colab": {
          "base_uri": "https://localhost:8080/",
          "height": 498
        },
        "id": "zW5xTQsuuJwm",
        "outputId": "8e810bcb-6a44-48cf-f394-35e7419491fd"
      },
      "source": [
        "df['CCTV댓수'].sort_values().plot(kind='barh', grid=True, figsize=(12,8),\n",
        "                                  title='구별 CCTV 댓수')\n",
        "plt.show()"
      ],
      "execution_count": 26,
      "outputs": [
        {
          "output_type": "display_data",
          "data": {
            "image/png": "[encoded data removed]",
            "text/plain": [
              "<Figure size 864x576 with 1 Axes>"
            ]
          },
          "metadata": {
            "needs_background": "light"
          }
        }
      ]
    },
    {
      "cell_type": "code",
      "metadata": {
        "colab": {
          "base_uri": "https://localhost:8080/",
          "height": 498
        },
        "id": "hHeaD4GRvGyK",
        "outputId": "559faf50-cb68-4306-c5f9-c317da5883c9"
      },
      "source": [
        "colors = plt.get_cmap('jet')(np.linspace(0.8,0.2,25))\n",
        "df['CCTV댓수'].sort_values().plot(kind='barh', grid=True, figsize=(12,8),\n",
        "                                  title='구별 CCTV 댓수', color=colors)\n",
        "plt.show()"
      ],
      "execution_count": 27,
      "outputs": [
        {
          "output_type": "display_data",
          "data": {
            "image/png": "[encoded data removed]",
            "text/plain": [
              "<Figure size 864x576 with 1 Axes>"
            ]
          },
          "metadata": {
            "needs_background": "light"
          }
        }
      ]
    },
    {
      "cell_type": "markdown",
      "metadata": {
        "id": "kp5J3YUywoJ_"
      },
      "source": [
        "- 인구대비 CCTV 비율"
      ]
    },
    {
      "cell_type": "code",
      "metadata": {
        "colab": {
          "base_uri": "https://localhost:8080/",
          "height": 173
        },
        "id": "AQyBeN2mwcsH",
        "outputId": "9c4e3252-aa81-4092-9bda-d45aed5f2e81"
      },
      "source": [
        "df['cctv비율'] = (df.CCTV댓수 / df.인구수 * 100).round(2) \n",
        "df.head(3)"
      ],
      "execution_count": 28,
      "outputs": [
        {
          "output_type": "execute_result",
          "data": {
            "text/html": [
              "<div>\n",
              "<style scoped>\n",
              "    .dataframe tbody tr th:only-of-type {\n",
              "        vertical-align: middle;\n",
              "    }\n",
              "\n",
              "    .dataframe tbody tr th {\n",
              "        vertical-align: top;\n",
              "    }\n",
              "\n",
              "    .dataframe thead th {\n",
              "        text-align: right;\n",
              "    }\n",
              "</style>\n",
              "<table border=\"1\" class=\"dataframe\">\n",
              "  <thead>\n",
              "    <tr style=\"text-align: right;\">\n",
              "      <th></th>\n",
              "      <th>CCTV댓수</th>\n",
              "      <th>최근증가율</th>\n",
              "      <th>인구수</th>\n",
              "      <th>내국인</th>\n",
              "      <th>외국인</th>\n",
              "      <th>고령자</th>\n",
              "      <th>외국인비율</th>\n",
              "      <th>고령자비율</th>\n",
              "      <th>cctv비율</th>\n",
              "    </tr>\n",
              "    <tr>\n",
              "      <th>구별</th>\n",
              "      <th></th>\n",
              "      <th></th>\n",
              "      <th></th>\n",
              "      <th></th>\n",
              "      <th></th>\n",
              "      <th></th>\n",
              "      <th></th>\n",
              "      <th></th>\n",
              "      <th></th>\n",
              "    </tr>\n",
              "  </thead>\n",
              "  <tbody>\n",
              "    <tr>\n",
              "      <th>종로구</th>\n",
              "      <td>1772</td>\n",
              "      <td>20.49</td>\n",
              "      <td>155106</td>\n",
              "      <td>146029</td>\n",
              "      <td>9077</td>\n",
              "      <td>27605</td>\n",
              "      <td>5.85</td>\n",
              "      <td>17.80</td>\n",
              "      <td>1.14</td>\n",
              "    </tr>\n",
              "    <tr>\n",
              "      <th>중구</th>\n",
              "      <td>2333</td>\n",
              "      <td>78.98</td>\n",
              "      <td>132259</td>\n",
              "      <td>123016</td>\n",
              "      <td>9243</td>\n",
              "      <td>23980</td>\n",
              "      <td>6.99</td>\n",
              "      <td>18.13</td>\n",
              "      <td>1.76</td>\n",
              "    </tr>\n",
              "    <tr>\n",
              "      <th>용산구</th>\n",
              "      <td>2383</td>\n",
              "      <td>78.64</td>\n",
              "      <td>240665</td>\n",
              "      <td>226378</td>\n",
              "      <td>14287</td>\n",
              "      <td>38884</td>\n",
              "      <td>5.94</td>\n",
              "      <td>16.16</td>\n",
              "      <td>0.99</td>\n",
              "    </tr>\n",
              "  </tbody>\n",
              "</table>\n",
              "</div>"
            ],
            "text/plain": [
              "     CCTV댓수  최근증가율     인구수     내국인    외국인    고령자  외국인비율  고령자비율  cctv비율\n",
              "구별                                                                    \n",
              "종로구    1772  20.49  155106  146029   9077  27605   5.85  17.80    1.14\n",
              "중구     2333  78.98  132259  123016   9243  23980   6.99  18.13    1.76\n",
              "용산구    2383  78.64  240665  226378  14287  38884   5.94  16.16    0.99"
            ]
          },
          "metadata": {},
          "execution_count": 28
        }
      ]
    },
    {
      "cell_type": "code",
      "metadata": {
        "colab": {
          "base_uri": "https://localhost:8080/",
          "height": 498
        },
        "id": "Zq9P0Wmlw2KJ",
        "outputId": "ac474284-6bb5-48e7-8237-8c5db05b5913"
      },
      "source": [
        "df['cctv비율'].sort_values().plot(kind='barh', grid=True, figsize=(12,8),\n",
        "                                  title='구별 인구대비 CCTV 비율')\n",
        "plt.show()"
      ],
      "execution_count": 29,
      "outputs": [
        {
          "output_type": "display_data",
          "data": {
            "image/png": "[encoded data removed]",
            "text/plain": [
              "<Figure size 864x576 with 1 Axes>"
            ]
          },
          "metadata": {
            "needs_background": "light"
          }
        }
      ]
    },
    {
      "cell_type": "markdown",
      "metadata": {
        "id": "hE89mnSJ1Afb"
      },
      "source": [
        "## 6. 인구수와 CCTV 댓수 분석"
      ]
    },
    {
      "cell_type": "markdown",
      "metadata": {
        "id": "uACHwSu21Hn_"
      },
      "source": [
        "- 산점도"
      ]
    },
    {
      "cell_type": "code",
      "metadata": {
        "colab": {
          "base_uri": "https://localhost:8080/",
          "height": 294
        },
        "id": "5zlk7kkyxIig",
        "outputId": "b2a5670f-bacd-4095-98af-27f477f55e71"
      },
      "source": [
        "plt.scatter(df.인구수, df.CCTV댓수, s=50) \n",
        "plt.grid(True)\n",
        "plt.title('인구수와 CCTV 댓수의 산점도')\n",
        "plt.xlabel('인구수')\n",
        "plt.ylabel('CCTV')\n",
        "plt.show()"
      ],
      "execution_count": 30,
      "outputs": [
        {
          "output_type": "display_data",
          "data": {
            "image/png": "[encoded data removed]",
            "text/plain": [
              "<Figure size 432x288 with 1 Axes>"
            ]
          },
          "metadata": {
            "needs_background": "light"
          }
        }
      ]
    },
    {
      "cell_type": "markdown",
      "metadata": {
        "id": "6LMdkb0r1asl"
      },
      "source": [
        "- 회귀선 그리기"
      ]
    },
    {
      "cell_type": "code",
      "metadata": {
        "colab": {
          "base_uri": "https://localhost:8080/"
        },
        "id": "4CeEcV661UlC",
        "outputId": "f0b4405b-3089-49cd-f970-783b8d860fac"
      },
      "source": [
        "fp1 = np.polyfit(df.인구수, df.CCTV댓수, 1)         # 1은 함수의 차수\n",
        "fp1                                                 # 기울기와 절편"
      ],
      "execution_count": 31,
      "outputs": [
        {
          "output_type": "execute_result",
          "data": {
            "text/plain": [
              "array([3.85119765e-03, 1.57231514e+03])"
            ]
          },
          "metadata": {},
          "execution_count": 31
        }
      ]
    },
    {
      "cell_type": "code",
      "metadata": {
        "colab": {
          "base_uri": "https://localhost:8080/"
        },
        "id": "x7YrA76g1zm_",
        "outputId": "58fd1331-a81d-4082-c8ff-c6e3e1a19882"
      },
      "source": [
        "fx = np.array([100000, 700000])\n",
        "fy = np.array([100000*fp1[0]+fp1[1], 700000*fp1[0]+fp1[1]])\n",
        "fy"
      ],
      "execution_count": 32,
      "outputs": [
        {
          "output_type": "execute_result",
          "data": {
            "text/plain": [
              "array([1957.43490106, 4268.1534916 ])"
            ]
          },
          "metadata": {},
          "execution_count": 32
        }
      ]
    },
    {
      "cell_type": "code",
      "metadata": {
        "colab": {
          "base_uri": "https://localhost:8080/"
        },
        "id": "BKQ3do5y2kxR",
        "outputId": "338461d8-4cee-478d-fedd-85236cc0fb61"
      },
      "source": [
        "f1 = np.poly1d(fp1)\n",
        "fy = f1(fx)\n",
        "fy"
      ],
      "execution_count": 33,
      "outputs": [
        {
          "output_type": "execute_result",
          "data": {
            "text/plain": [
              "array([1957.43490106, 4268.1534916 ])"
            ]
          },
          "metadata": {},
          "execution_count": 33
        }
      ]
    },
    {
      "cell_type": "code",
      "metadata": {
        "colab": {
          "base_uri": "https://localhost:8080/",
          "height": 403
        },
        "id": "7rhu4DAi27yr",
        "outputId": "7ed6ef78-9045-4cb1-a9c7-8b4da9ab9fbe"
      },
      "source": [
        "plt.figure(figsize=(6,6))\n",
        "plt.scatter(df.인구수, df.CCTV댓수, s=50)\n",
        "plt.plot(fx, fy, 'g--', lw=3)\n",
        "plt.grid(True)\n",
        "plt.title('인구수와 CCTV 댓수의 산점도')\n",
        "plt.xlabel('인구수')\n",
        "plt.ylabel('CCTV')\n",
        "plt.show()"
      ],
      "execution_count": 34,
      "outputs": [
        {
          "output_type": "display_data",
          "data": {
            "image/png": "[encoded data removed]",
            "text/plain": [
              "<Figure size 432x432 with 1 Axes>"
            ]
          },
          "metadata": {
            "needs_background": "light"
          }
        }
      ]
    },
    {
      "cell_type": "markdown",
      "metadata": {
        "id": "hU9G1DFC3xbW"
      },
      "source": [
        "- 오차를 계산하고, 오차의 내림차순으로 소팅된 데이터프레임 만들기\n"
      ]
    },
    {
      "cell_type": "code",
      "metadata": {
        "colab": {
          "base_uri": "https://localhost:8080/",
          "height": 173
        },
        "id": "jG7P1o5L3dxR",
        "outputId": "950c434c-623f-4d62-cfb9-3403d3297c3d"
      },
      "source": [
        "df['오차'] = np.abs(df['CCTV댓수'] - f1(df['인구수'])).round(2)\n",
        "df.head(3)"
      ],
      "execution_count": 35,
      "outputs": [
        {
          "output_type": "execute_result",
          "data": {
            "text/html": [
              "<div>\n",
              "<style scoped>\n",
              "    .dataframe tbody tr th:only-of-type {\n",
              "        vertical-align: middle;\n",
              "    }\n",
              "\n",
              "    .dataframe tbody tr th {\n",
              "        vertical-align: top;\n",
              "    }\n",
              "\n",
              "    .dataframe thead th {\n",
              "        text-align: right;\n",
              "    }\n",
              "</style>\n",
              "<table border=\"1\" class=\"dataframe\">\n",
              "  <thead>\n",
              "    <tr style=\"text-align: right;\">\n",
              "      <th></th>\n",
              "      <th>CCTV댓수</th>\n",
              "      <th>최근증가율</th>\n",
              "      <th>인구수</th>\n",
              "      <th>내국인</th>\n",
              "      <th>외국인</th>\n",
              "      <th>고령자</th>\n",
              "      <th>외국인비율</th>\n",
              "      <th>고령자비율</th>\n",
              "      <th>cctv비율</th>\n",
              "      <th>오차</th>\n",
              "    </tr>\n",
              "    <tr>\n",
              "      <th>구별</th>\n",
              "      <th></th>\n",
              "      <th></th>\n",
              "      <th></th>\n",
              "      <th></th>\n",
              "      <th></th>\n",
              "      <th></th>\n",
              "      <th></th>\n",
              "      <th></th>\n",
              "      <th></th>\n",
              "      <th></th>\n",
              "    </tr>\n",
              "  </thead>\n",
              "  <tbody>\n",
              "    <tr>\n",
              "      <th>종로구</th>\n",
              "      <td>1772</td>\n",
              "      <td>20.49</td>\n",
              "      <td>155106</td>\n",
              "      <td>146029</td>\n",
              "      <td>9077</td>\n",
              "      <td>27605</td>\n",
              "      <td>5.85</td>\n",
              "      <td>17.80</td>\n",
              "      <td>1.14</td>\n",
              "      <td>397.66</td>\n",
              "    </tr>\n",
              "    <tr>\n",
              "      <th>중구</th>\n",
              "      <td>2333</td>\n",
              "      <td>78.98</td>\n",
              "      <td>132259</td>\n",
              "      <td>123016</td>\n",
              "      <td>9243</td>\n",
              "      <td>23980</td>\n",
              "      <td>6.99</td>\n",
              "      <td>18.13</td>\n",
              "      <td>1.76</td>\n",
              "      <td>251.33</td>\n",
              "    </tr>\n",
              "    <tr>\n",
              "      <th>용산구</th>\n",
              "      <td>2383</td>\n",
              "      <td>78.64</td>\n",
              "      <td>240665</td>\n",
              "      <td>226378</td>\n",
              "      <td>14287</td>\n",
              "      <td>38884</td>\n",
              "      <td>5.94</td>\n",
              "      <td>16.16</td>\n",
              "      <td>0.99</td>\n",
              "      <td>116.16</td>\n",
              "    </tr>\n",
              "  </tbody>\n",
              "</table>\n",
              "</div>"
            ],
            "text/plain": [
              "     CCTV댓수  최근증가율     인구수     내국인    외국인    고령자  외국인비율  고령자비율  cctv비율      오차\n",
              "구별                                                                            \n",
              "종로구    1772  20.49  155106  146029   9077  27605   5.85  17.80    1.14  397.66\n",
              "중구     2333  78.98  132259  123016   9243  23980   6.99  18.13    1.76  251.33\n",
              "용산구    2383  78.64  240665  226378  14287  38884   5.94  16.16    0.99  116.16"
            ]
          },
          "metadata": {},
          "execution_count": 35
        }
      ]
    },
    {
      "cell_type": "code",
      "metadata": {
        "colab": {
          "base_uri": "https://localhost:8080/",
          "height": 390
        },
        "id": "-zU6d7Xn4QtX",
        "outputId": "c2e3eb7f-9bba-46b5-92de-ea19814e2279"
      },
      "source": [
        "dfs = df.sort_values(by='오차', ascending=False)\n",
        "dfs.head(10)"
      ],
      "execution_count": 38,
      "outputs": [
        {
          "output_type": "execute_result",
          "data": {
            "text/html": [
              "<div>\n",
              "<style scoped>\n",
              "    .dataframe tbody tr th:only-of-type {\n",
              "        vertical-align: middle;\n",
              "    }\n",
              "\n",
              "    .dataframe tbody tr th {\n",
              "        vertical-align: top;\n",
              "    }\n",
              "\n",
              "    .dataframe thead th {\n",
              "        text-align: right;\n",
              "    }\n",
              "</style>\n",
              "<table border=\"1\" class=\"dataframe\">\n",
              "  <thead>\n",
              "    <tr style=\"text-align: right;\">\n",
              "      <th></th>\n",
              "      <th>CCTV댓수</th>\n",
              "      <th>최근증가율</th>\n",
              "      <th>인구수</th>\n",
              "      <th>내국인</th>\n",
              "      <th>외국인</th>\n",
              "      <th>고령자</th>\n",
              "      <th>외국인비율</th>\n",
              "      <th>고령자비율</th>\n",
              "      <th>cctv비율</th>\n",
              "      <th>오차</th>\n",
              "    </tr>\n",
              "    <tr>\n",
              "      <th>구별</th>\n",
              "      <th></th>\n",
              "      <th></th>\n",
              "      <th></th>\n",
              "      <th></th>\n",
              "      <th></th>\n",
              "      <th></th>\n",
              "      <th></th>\n",
              "      <th></th>\n",
              "      <th></th>\n",
              "      <th></th>\n",
              "    </tr>\n",
              "  </thead>\n",
              "  <tbody>\n",
              "    <tr>\n",
              "      <th>강남구</th>\n",
              "      <td>6502</td>\n",
              "      <td>61.64</td>\n",
              "      <td>536107</td>\n",
              "      <td>531375</td>\n",
              "      <td>4732</td>\n",
              "      <td>76184</td>\n",
              "      <td>0.88</td>\n",
              "      <td>14.21</td>\n",
              "      <td>1.21</td>\n",
              "      <td>2865.03</td>\n",
              "    </tr>\n",
              "    <tr>\n",
              "      <th>관악구</th>\n",
              "      <td>4942</td>\n",
              "      <td>49.91</td>\n",
              "      <td>502698</td>\n",
              "      <td>488800</td>\n",
              "      <td>13898</td>\n",
              "      <td>78647</td>\n",
              "      <td>2.76</td>\n",
              "      <td>15.64</td>\n",
              "      <td>0.98</td>\n",
              "      <td>1433.70</td>\n",
              "    </tr>\n",
              "    <tr>\n",
              "      <th>송파구</th>\n",
              "      <td>2854</td>\n",
              "      <td>203.19</td>\n",
              "      <td>664341</td>\n",
              "      <td>658670</td>\n",
              "      <td>5671</td>\n",
              "      <td>95164</td>\n",
              "      <td>0.85</td>\n",
              "      <td>14.32</td>\n",
              "      <td>0.43</td>\n",
              "      <td>1276.82</td>\n",
              "    </tr>\n",
              "    <tr>\n",
              "      <th>강서구</th>\n",
              "      <td>2560</td>\n",
              "      <td>78.53</td>\n",
              "      <td>582995</td>\n",
              "      <td>577519</td>\n",
              "      <td>5476</td>\n",
              "      <td>90404</td>\n",
              "      <td>0.94</td>\n",
              "      <td>15.51</td>\n",
              "      <td>0.44</td>\n",
              "      <td>1257.54</td>\n",
              "    </tr>\n",
              "    <tr>\n",
              "      <th>도봉구</th>\n",
              "      <td>1629</td>\n",
              "      <td>82.82</td>\n",
              "      <td>322419</td>\n",
              "      <td>320365</td>\n",
              "      <td>2054</td>\n",
              "      <td>62894</td>\n",
              "      <td>0.64</td>\n",
              "      <td>19.51</td>\n",
              "      <td>0.51</td>\n",
              "      <td>1185.01</td>\n",
              "    </tr>\n",
              "    <tr>\n",
              "      <th>노원구</th>\n",
              "      <td>2415</td>\n",
              "      <td>66.38</td>\n",
              "      <td>520005</td>\n",
              "      <td>515997</td>\n",
              "      <td>4008</td>\n",
              "      <td>86697</td>\n",
              "      <td>0.77</td>\n",
              "      <td>16.67</td>\n",
              "      <td>0.46</td>\n",
              "      <td>1159.96</td>\n",
              "    </tr>\n",
              "    <tr>\n",
              "      <th>성동구</th>\n",
              "      <td>3602</td>\n",
              "      <td>46.13</td>\n",
              "      <td>295767</td>\n",
              "      <td>289162</td>\n",
              "      <td>6605</td>\n",
              "      <td>45591</td>\n",
              "      <td>2.23</td>\n",
              "      <td>15.41</td>\n",
              "      <td>1.22</td>\n",
              "      <td>890.63</td>\n",
              "    </tr>\n",
              "    <tr>\n",
              "      <th>구로구</th>\n",
              "      <td>4075</td>\n",
              "      <td>48.83</td>\n",
              "      <td>424582</td>\n",
              "      <td>399266</td>\n",
              "      <td>25316</td>\n",
              "      <td>71186</td>\n",
              "      <td>5.96</td>\n",
              "      <td>16.77</td>\n",
              "      <td>0.96</td>\n",
              "      <td>867.54</td>\n",
              "    </tr>\n",
              "    <tr>\n",
              "      <th>강동구</th>\n",
              "      <td>2547</td>\n",
              "      <td>112.25</td>\n",
              "      <td>469094</td>\n",
              "      <td>465209</td>\n",
              "      <td>3885</td>\n",
              "      <td>72275</td>\n",
              "      <td>0.83</td>\n",
              "      <td>15.41</td>\n",
              "      <td>0.54</td>\n",
              "      <td>831.89</td>\n",
              "    </tr>\n",
              "    <tr>\n",
              "      <th>동작구</th>\n",
              "      <td>2297</td>\n",
              "      <td>83.61</td>\n",
              "      <td>397231</td>\n",
              "      <td>387847</td>\n",
              "      <td>9384</td>\n",
              "      <td>65732</td>\n",
              "      <td>2.36</td>\n",
              "      <td>16.55</td>\n",
              "      <td>0.58</td>\n",
              "      <td>805.13</td>\n",
              "    </tr>\n",
              "  </tbody>\n",
              "</table>\n",
              "</div>"
            ],
            "text/plain": [
              "     CCTV댓수   최근증가율     인구수     내국인  ...  외국인비율  고령자비율  cctv비율       오차\n",
              "구별                                   ...                               \n",
              "강남구    6502   61.64  536107  531375  ...   0.88  14.21    1.21  2865.03\n",
              "관악구    4942   49.91  502698  488800  ...   2.76  15.64    0.98  1433.70\n",
              "송파구    2854  203.19  664341  658670  ...   0.85  14.32    0.43  1276.82\n",
              "강서구    2560   78.53  582995  577519  ...   0.94  15.51    0.44  1257.54\n",
              "도봉구    1629   82.82  322419  320365  ...   0.64  19.51    0.51  1185.01\n",
              "노원구    2415   66.38  520005  515997  ...   0.77  16.67    0.46  1159.96\n",
              "성동구    3602   46.13  295767  289162  ...   2.23  15.41    1.22   890.63\n",
              "구로구    4075   48.83  424582  399266  ...   5.96  16.77    0.96   867.54\n",
              "강동구    2547  112.25  469094  465209  ...   0.83  15.41    0.54   831.89\n",
              "동작구    2297   83.61  397231  387847  ...   2.36  16.55    0.58   805.13\n",
              "\n",
              "[10 rows x 10 columns]"
            ]
          },
          "metadata": {},
          "execution_count": 38
        }
      ]
    },
    {
      "cell_type": "markdown",
      "metadata": {
        "id": "_seGhmfM4qkp"
      },
      "source": [
        "- 최종 그림"
      ]
    },
    {
      "cell_type": "code",
      "metadata": {
        "colab": {
          "base_uri": "https://localhost:8080/",
          "height": 628
        },
        "id": "zH03kK9y4iUF",
        "outputId": "dff0d39e-f5b6-41c8-af0e-916cb2dbff5e"
      },
      "source": [
        "plt.figure(figsize=(14,10))\n",
        "plt.scatter(df.인구수, df.CCTV댓수, c=df.오차, s=50)\n",
        "plt.plot(fx, fy, 'g--', lw=3)\n",
        "\n",
        "for i in range(10): \n",
        "    plt.text(dfs.인구수[i]+9000, dfs.CCTV댓수[i]-50, dfs.index[i], fontsize=15)\n",
        "\n",
        "plt.grid(True)\n",
        "plt.title('인구수와 CCTV 댓수의 산점도', fontsize=20)\n",
        "plt.xlabel('인구수')\n",
        "plt.ylabel('CCTV')\n",
        "plt.colorbar()\n",
        "plt.savefig('CCTV와_인구수_최종결과.png')"
      ],
      "execution_count": 42,
      "outputs": [
        {
          "output_type": "display_data",
          "data": {
            "image/png": "[encoded data removed]",
            "text/plain": [
              "<Figure size 1008x720 with 2 Axes>"
            ]
          },
          "metadata": {
            "needs_background": "light"
          }
        }
      ]
    },
    {
      "cell_type": "markdown",
      "metadata": {
        "id": "sqXibNsV5yzm"
      },
      "source": [
        "- 작업한 데이터파일 저장"
      ]
    },
    {
      "cell_type": "code",
      "metadata": {
        "colab": {
          "base_uri": "https://localhost:8080/",
          "height": 142
        },
        "id": "p_Zn8fW_5DGG",
        "outputId": "abfec0b9-4bbf-4489-e02d-42798ca09923"
      },
      "source": [
        "df.reset_index(inplace=True)\n",
        "df.head(3)"
      ],
      "execution_count": 40,
      "outputs": [
        {
          "output_type": "execute_result",
          "data": {
            "text/html": [
              "<div>\n",
              "<style scoped>\n",
              "    .dataframe tbody tr th:only-of-type {\n",
              "        vertical-align: middle;\n",
              "    }\n",
              "\n",
              "    .dataframe tbody tr th {\n",
              "        vertical-align: top;\n",
              "    }\n",
              "\n",
              "    .dataframe thead th {\n",
              "        text-align: right;\n",
              "    }\n",
              "</style>\n",
              "<table border=\"1\" class=\"dataframe\">\n",
              "  <thead>\n",
              "    <tr style=\"text-align: right;\">\n",
              "      <th></th>\n",
              "      <th>구별</th>\n",
              "      <th>CCTV댓수</th>\n",
              "      <th>최근증가율</th>\n",
              "      <th>인구수</th>\n",
              "      <th>내국인</th>\n",
              "      <th>외국인</th>\n",
              "      <th>고령자</th>\n",
              "      <th>외국인비율</th>\n",
              "      <th>고령자비율</th>\n",
              "      <th>cctv비율</th>\n",
              "      <th>오차</th>\n",
              "    </tr>\n",
              "  </thead>\n",
              "  <tbody>\n",
              "    <tr>\n",
              "      <th>0</th>\n",
              "      <td>종로구</td>\n",
              "      <td>1772</td>\n",
              "      <td>20.49</td>\n",
              "      <td>155106</td>\n",
              "      <td>146029</td>\n",
              "      <td>9077</td>\n",
              "      <td>27605</td>\n",
              "      <td>5.85</td>\n",
              "      <td>17.80</td>\n",
              "      <td>1.14</td>\n",
              "      <td>397.66</td>\n",
              "    </tr>\n",
              "    <tr>\n",
              "      <th>1</th>\n",
              "      <td>중구</td>\n",
              "      <td>2333</td>\n",
              "      <td>78.98</td>\n",
              "      <td>132259</td>\n",
              "      <td>123016</td>\n",
              "      <td>9243</td>\n",
              "      <td>23980</td>\n",
              "      <td>6.99</td>\n",
              "      <td>18.13</td>\n",
              "      <td>1.76</td>\n",
              "      <td>251.33</td>\n",
              "    </tr>\n",
              "    <tr>\n",
              "      <th>2</th>\n",
              "      <td>용산구</td>\n",
              "      <td>2383</td>\n",
              "      <td>78.64</td>\n",
              "      <td>240665</td>\n",
              "      <td>226378</td>\n",
              "      <td>14287</td>\n",
              "      <td>38884</td>\n",
              "      <td>5.94</td>\n",
              "      <td>16.16</td>\n",
              "      <td>0.99</td>\n",
              "      <td>116.16</td>\n",
              "    </tr>\n",
              "  </tbody>\n",
              "</table>\n",
              "</div>"
            ],
            "text/plain": [
              "    구별  CCTV댓수  최근증가율     인구수     내국인  ...    고령자  외국인비율  고령자비율  cctv비율      오차\n",
              "0  종로구    1772  20.49  155106  146029  ...  27605   5.85  17.80    1.14  397.66\n",
              "1   중구    2333  78.98  132259  123016  ...  23980   6.99  18.13    1.76  251.33\n",
              "2  용산구    2383  78.64  240665  226378  ...  38884   5.94  16.16    0.99  116.16\n",
              "\n",
              "[3 rows x 11 columns]"
            ]
          },
          "metadata": {},
          "execution_count": 40
        }
      ]
    },
    {
      "cell_type": "code",
      "metadata": {
        "id": "cHZ7jsSQ6Di5"
      },
      "source": [
        "df.to_csv('서울시_구별_CCTV와_인구수.csv', index=False)"
      ],
      "execution_count": 41,
      "outputs": []
    },
    {
      "cell_type": "code",
      "metadata": {
        "id": "nBn8vQQM6c3j"
      },
      "source": [
        ""
      ],
      "execution_count": null,
      "outputs": []
    }
  ]
}