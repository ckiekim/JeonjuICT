{
  "nbformat": 4,
  "nbformat_minor": 0,
  "metadata": {
    "colab": {
      "name": "08_모듈_패키지.ipynb",
      "provenance": [],
      "collapsed_sections": []
    },
    "kernelspec": {
      "name": "python3",
      "display_name": "Python 3"
    },
    "language_info": {
      "name": "python"
    }
  },
  "cells": [
    {
      "cell_type": "markdown",
      "metadata": {
        "id": "AP-m5E29chMw"
      },
      "source": [
        "# 모듈과 패키지"
      ]
    },
    {
      "cell_type": "markdown",
      "metadata": {
        "id": "7KQyz246cxIG"
      },
      "source": [
        "### 모듈 불러와 사용하기"
      ]
    },
    {
      "cell_type": "code",
      "metadata": {
        "colab": {
          "base_uri": "https://localhost:8080/"
        },
        "id": "mEjdTU1OccrQ",
        "outputId": "c2180a41-4d2a-4784-b0bf-f5ce07dbfa2f"
      },
      "source": [
        "# 기본 사용\n",
        "import math\n",
        "print(f'floor(7.7) : {math.floor(7.7)}')\n",
        "print(f'ceil(10.1) : {math.ceil(10.1)}')"
      ],
      "execution_count": 1,
      "outputs": [
        {
          "output_type": "stream",
          "name": "stdout",
          "text": [
            "floor(7.7) : 7\n",
            "ceil(10.1) : 11\n"
          ]
        }
      ]
    },
    {
      "cell_type": "code",
      "metadata": {
        "colab": {
          "base_uri": "https://localhost:8080/"
        },
        "id": "Wmeth9LBdFuA",
        "outputId": "cd88f262-44c0-400b-fe66-80f90ce700df"
      },
      "source": [
        "# 모듈 이름을 약자(별칭, alias)로 사용\n",
        "import math as m\n",
        "print(f'floor(7.7) : {m.floor(7.7)}')\n",
        "print(f'ceil(10.1) : {m.ceil(10.1)}')"
      ],
      "execution_count": 2,
      "outputs": [
        {
          "output_type": "stream",
          "name": "stdout",
          "text": [
            "floor(7.7) : 7\n",
            "ceil(10.1) : 11\n"
          ]
        }
      ]
    },
    {
      "cell_type": "code",
      "metadata": {
        "colab": {
          "base_uri": "https://localhost:8080/"
        },
        "id": "HLGoTP25dWH0",
        "outputId": "a8e4fa5c-542f-4850-b415-f9d8c486f852"
      },
      "source": [
        "# 모듈내의 함수를 직접 사용\n",
        "from math import floor, ceil\n",
        "print(f'floor(7.7) : {floor(7.7)}')\n",
        "print(f'ceil(10.1) : {ceil(10.1)}')"
      ],
      "execution_count": 3,
      "outputs": [
        {
          "output_type": "stream",
          "name": "stdout",
          "text": [
            "floor(7.7) : 7\n",
            "ceil(10.1) : 11\n"
          ]
        }
      ]
    },
    {
      "cell_type": "markdown",
      "metadata": {
        "id": "bvyaPkL0d3nv"
      },
      "source": [
        "### 내장 모듈"
      ]
    },
    {
      "cell_type": "code",
      "metadata": {
        "colab": {
          "base_uri": "https://localhost:8080/"
        },
        "id": "kXn8T3jhdksl",
        "outputId": "fe3ed255-4c81-4478-b200-cb70fdac6786"
      },
      "source": [
        "import random\n",
        "random.seed(2021)\n",
        "for _ in range(3):\n",
        "    print(random.randint(1,6))"
      ],
      "execution_count": 4,
      "outputs": [
        {
          "output_type": "stream",
          "name": "stdout",
          "text": [
            "4\n",
            "6\n",
            "5\n"
          ]
        }
      ]
    },
    {
      "cell_type": "code",
      "metadata": {
        "id": "qIb7TcpieJX4"
      },
      "source": [
        "import datetime\n",
        "today = datetime.datetime.now()"
      ],
      "execution_count": 5,
      "outputs": []
    },
    {
      "cell_type": "code",
      "metadata": {
        "colab": {
          "base_uri": "https://localhost:8080/"
        },
        "id": "C67kqPtBeWEd",
        "outputId": "f1a19989-d4e1-4cc0-865a-f352e54c1718"
      },
      "source": [
        "today"
      ],
      "execution_count": 6,
      "outputs": [
        {
          "output_type": "execute_result",
          "data": {
            "text/plain": [
              "datetime.datetime(2021, 10, 12, 12, 28, 4, 796622)"
            ]
          },
          "metadata": {},
          "execution_count": 6
        }
      ]
    },
    {
      "cell_type": "markdown",
      "metadata": {
        "id": "lbaK8KRoe1-g"
      },
      "source": [
        "### 내가 모듈을 만들어서 사용하는 방법"
      ]
    },
    {
      "cell_type": "code",
      "metadata": {
        "colab": {
          "base_uri": "https://localhost:8080/"
        },
        "id": "8t5IahcDeXp0",
        "outputId": "9bbe0089-f0dd-465b-8646-06288deafb0d"
      },
      "source": [
        "%%writefile my_util.py\n",
        "def is_palindrome(s):\n",
        "    return s == s[::-1]"
      ],
      "execution_count": 7,
      "outputs": [
        {
          "output_type": "stream",
          "name": "stdout",
          "text": [
            "Writing my_util.py\n"
          ]
        }
      ]
    },
    {
      "cell_type": "code",
      "metadata": {
        "colab": {
          "base_uri": "https://localhost:8080/"
        },
        "id": "iNhReTSRfM19",
        "outputId": "9b4861ef-cfea-4cb7-c10f-1cf45b1f650d"
      },
      "source": [
        "!cat my_util.py"
      ],
      "execution_count": 8,
      "outputs": [
        {
          "output_type": "stream",
          "name": "stdout",
          "text": [
            "def is_palindrome(s):\n",
            "    return s == s[::-1]"
          ]
        }
      ]
    },
    {
      "cell_type": "code",
      "metadata": {
        "colab": {
          "base_uri": "https://localhost:8080/"
        },
        "id": "_AfTh21NfR9G",
        "outputId": "84a82edb-fe99-4036-c6dd-6a697b23122e"
      },
      "source": [
        "import my_util\n",
        "my_util.is_palindrome('madam')"
      ],
      "execution_count": 9,
      "outputs": [
        {
          "output_type": "execute_result",
          "data": {
            "text/plain": [
              "True"
            ]
          },
          "metadata": {},
          "execution_count": 9
        }
      ]
    },
    {
      "cell_type": "code",
      "metadata": {
        "colab": {
          "base_uri": "https://localhost:8080/"
        },
        "id": "kqTZUG8Kfdw3",
        "outputId": "2327eb48-d4e7-4700-f83a-cf067a1f9796"
      },
      "source": [
        "import my_util as mu\n",
        "mu.is_palindrome('madam')"
      ],
      "execution_count": 10,
      "outputs": [
        {
          "output_type": "execute_result",
          "data": {
            "text/plain": [
              "True"
            ]
          },
          "metadata": {},
          "execution_count": 10
        }
      ]
    },
    {
      "cell_type": "code",
      "metadata": {
        "colab": {
          "base_uri": "https://localhost:8080/"
        },
        "id": "T0cHL0BxfpEk",
        "outputId": "c2d1edd2-c433-4f1c-dc83-4d69629cac0b"
      },
      "source": [
        "from my_util import is_palindrome\n",
        "is_palindrome('madam')"
      ],
      "execution_count": 11,
      "outputs": [
        {
          "output_type": "execute_result",
          "data": {
            "text/plain": [
              "True"
            ]
          },
          "metadata": {},
          "execution_count": 11
        }
      ]
    },
    {
      "cell_type": "code",
      "metadata": {
        "id": "ttfsm9LffvQm"
      },
      "source": [
        ""
      ],
      "execution_count": null,
      "outputs": []
    }
  ]
}