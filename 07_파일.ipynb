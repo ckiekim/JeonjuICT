{
  "nbformat": 4,
  "nbformat_minor": 0,
  "metadata": {
    "colab": {
      "name": "07_파일.ipynb",
      "provenance": [],
      "collapsed_sections": []
    },
    "kernelspec": {
      "name": "python3",
      "display_name": "Python 3"
    },
    "language_info": {
      "name": "python"
    }
  },
  "cells": [
    {
      "cell_type": "markdown",
      "metadata": {
        "id": "mZm4ylYTYfJy"
      },
      "source": [
        "# 파일"
      ]
    },
    {
      "cell_type": "code",
      "metadata": {
        "colab": {
          "base_uri": "https://localhost:8080/"
        },
        "id": "_lRBH9eZYZpo",
        "outputId": "5d68383b-1da3-4dea-e8f7-2a72c20ee55b"
      },
      "source": [
        "%%writefile sample.txt\n",
        "A quick brown fox jumps over the lazy dog.\n",
        "갈색 재빠른 여우가 잠자는 개 위로 뜁니다."
      ],
      "execution_count": 1,
      "outputs": [
        {
          "output_type": "stream",
          "name": "stdout",
          "text": [
            "Writing sample.txt\n"
          ]
        }
      ]
    },
    {
      "cell_type": "code",
      "metadata": {
        "colab": {
          "base_uri": "https://localhost:8080/"
        },
        "id": "uwCSMWqtZI_k",
        "outputId": "c1dc3b27-26e1-4710-9aa3-71f21639bf24"
      },
      "source": [
        "!cat sample.txt"
      ],
      "execution_count": 2,
      "outputs": [
        {
          "output_type": "stream",
          "name": "stdout",
          "text": [
            "A quick brown fox jumps over the lazy dog.\n",
            "갈색 재빠른 여우가 잠자는 개 위로 뜁니다."
          ]
        }
      ]
    },
    {
      "cell_type": "markdown",
      "metadata": {
        "id": "hvpMzR1DZWhy"
      },
      "source": [
        "### 프로그램으로 파일 읽기"
      ]
    },
    {
      "cell_type": "code",
      "metadata": {
        "colab": {
          "base_uri": "https://localhost:8080/"
        },
        "id": "U1PneGOqZQ0y",
        "outputId": "6d1948eb-f5c8-453b-fcb6-b337f2df6e9d"
      },
      "source": [
        "fd = open('sample.txt')\n",
        "text = fd.read()\n",
        "fd.close()\n",
        "print(text)"
      ],
      "execution_count": 3,
      "outputs": [
        {
          "output_type": "stream",
          "name": "stdout",
          "text": [
            "A quick brown fox jumps over the lazy dog.\n",
            "갈색 재빠른 여우가 잠자는 개 위로 뜁니다.\n"
          ]
        }
      ]
    },
    {
      "cell_type": "code",
      "metadata": {
        "colab": {
          "base_uri": "https://localhost:8080/"
        },
        "id": "JaqbLacaZl9Q",
        "outputId": "34874c10-edb5-48ca-a818-6714af0698ec"
      },
      "source": [
        "# 자동으로 close() 해줌, 상대 경로\n",
        "with open('./sample.txt') as fd:\n",
        "    text = fd.read()\n",
        "print(text)"
      ],
      "execution_count": 4,
      "outputs": [
        {
          "output_type": "stream",
          "name": "stdout",
          "text": [
            "A quick brown fox jumps over the lazy dog.\n",
            "갈색 재빠른 여우가 잠자는 개 위로 뜁니다.\n"
          ]
        }
      ]
    },
    {
      "cell_type": "code",
      "metadata": {
        "colab": {
          "base_uri": "https://localhost:8080/"
        },
        "id": "-ogN-mPlZ4v6",
        "outputId": "4a56e16b-c584-4de5-86e2-c797d40ffcb0"
      },
      "source": [
        "!pwd"
      ],
      "execution_count": 5,
      "outputs": [
        {
          "output_type": "stream",
          "name": "stdout",
          "text": [
            "/content\n"
          ]
        }
      ]
    },
    {
      "cell_type": "code",
      "metadata": {
        "colab": {
          "base_uri": "https://localhost:8080/"
        },
        "id": "TvF7izASaILW",
        "outputId": "32c1e8a7-1e18-45b3-8617-7979b50d3152"
      },
      "source": [
        "# 절대 경로\n",
        "with open('/content/sample.txt') as fd:\n",
        "    text = fd.read(50)                      # 50글자 읽기\n",
        "print(text)"
      ],
      "execution_count": 6,
      "outputs": [
        {
          "output_type": "stream",
          "name": "stdout",
          "text": [
            "A quick brown fox jumps over the lazy dog.\n",
            "갈색 재빠른 \n"
          ]
        }
      ]
    },
    {
      "cell_type": "markdown",
      "metadata": {
        "id": "Ft2P7OStbXZq"
      },
      "source": [
        "### 파일에 쓰기"
      ]
    },
    {
      "cell_type": "code",
      "metadata": {
        "id": "q9EtYl_obA2i"
      },
      "source": [
        "with open('new.txt', mode='w') as fd:\n",
        "    fd.write(text)"
      ],
      "execution_count": 9,
      "outputs": []
    },
    {
      "cell_type": "code",
      "metadata": {
        "colab": {
          "base_uri": "https://localhost:8080/"
        },
        "id": "BLVLO_EtbmA4",
        "outputId": "5c061cd7-bb0c-4932-cc7f-817564c3ffe8"
      },
      "source": [
        "!cat new.txt"
      ],
      "execution_count": 10,
      "outputs": [
        {
          "output_type": "stream",
          "name": "stdout",
          "text": [
            "A quick brown fox jumps over the lazy dog.\n",
            "갈색 재빠른 "
          ]
        }
      ]
    },
    {
      "cell_type": "markdown",
      "metadata": {
        "id": "-zvqrMcFbug6"
      },
      "source": [
        "### 파일 추가 모드"
      ]
    },
    {
      "cell_type": "code",
      "metadata": {
        "id": "y4tnqawQbq5H"
      },
      "source": [
        "with open('new.txt', 'a') as fd:\n",
        "    fd.write(text)"
      ],
      "execution_count": 11,
      "outputs": []
    },
    {
      "cell_type": "code",
      "metadata": {
        "colab": {
          "base_uri": "https://localhost:8080/"
        },
        "id": "zngBt_J0cD94",
        "outputId": "7280e5ec-6019-40ab-dc3a-a194275729d4"
      },
      "source": [
        "!cat new.txt"
      ],
      "execution_count": 12,
      "outputs": [
        {
          "output_type": "stream",
          "name": "stdout",
          "text": [
            "A quick brown fox jumps over the lazy dog.\n",
            "갈색 재빠른 A quick brown fox jumps over the lazy dog.\n",
            "갈색 재빠른 "
          ]
        }
      ]
    },
    {
      "cell_type": "code",
      "metadata": {
        "id": "cFPz9ZGtcFz1"
      },
      "source": [
        ""
      ],
      "execution_count": null,
      "outputs": []
    }
  ]
}