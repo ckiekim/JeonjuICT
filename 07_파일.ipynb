{
  "nbformat": 4,
  "nbformat_minor": 0,
  "metadata": {
    "colab": {
      "name": "07_파일.ipynb",
      "provenance": [],
      "collapsed_sections": []
    },
    "kernelspec": {
      "name": "python3",
      "display_name": "Python 3"
    },
    "language_info": {
      "name": "python"
    }
  },
  "cells": [
    {
      "cell_type": "markdown",
      "metadata": {
        "id": "mZm4ylYTYfJy"
      },
      "source": [
        "# 파일"
      ]
    },
    {
      "cell_type": "code",
      "metadata": {
        "colab": {
          "base_uri": "https://localhost:8080/"
        },
        "id": "_lRBH9eZYZpo",
        "outputId": "6634ff22-251e-4bf9-b5b4-e2051f1b3f28"
      },
      "source": [
        "%%writefile sample.txt\n",
        "A quick brown fox jumps over the lazy dog.\n",
        "재빠른 갈색 여우가 게으른 개를 뛰어넘습니다."
      ],
      "execution_count": 13,
      "outputs": [
        {
          "output_type": "stream",
          "name": "stdout",
          "text": [
            "Overwriting sample.txt\n"
          ]
        }
      ]
    },
    {
      "cell_type": "code",
      "metadata": {
        "colab": {
          "base_uri": "https://localhost:8080/"
        },
        "id": "uwCSMWqtZI_k",
        "outputId": "faaa4c64-8da9-4092-f3c1-560954d8709b"
      },
      "source": [
        "!cat sample.txt"
      ],
      "execution_count": 14,
      "outputs": [
        {
          "output_type": "stream",
          "name": "stdout",
          "text": [
            "A quick brown fox jumps over the lazy dog.\n",
            "재빠른 갈색 여우가 게으른 개를 뛰어넘습니다."
          ]
        }
      ]
    },
    {
      "cell_type": "markdown",
      "metadata": {
        "id": "hvpMzR1DZWhy"
      },
      "source": [
        "### 프로그램으로 파일 읽기"
      ]
    },
    {
      "cell_type": "code",
      "metadata": {
        "colab": {
          "base_uri": "https://localhost:8080/"
        },
        "id": "U1PneGOqZQ0y",
        "outputId": "b35a4212-8952-4676-897e-d9c4f25036cd"
      },
      "source": [
        "fd = open('sample.txt')\n",
        "text = fd.read()\n",
        "fd.close()\n",
        "print(text)"
      ],
      "execution_count": 15,
      "outputs": [
        {
          "output_type": "stream",
          "name": "stdout",
          "text": [
            "A quick brown fox jumps over the lazy dog.\n",
            "재빠른 갈색 여우가 게으른 개를 뛰어넘습니다.\n"
          ]
        }
      ]
    },
    {
      "cell_type": "code",
      "metadata": {
        "colab": {
          "base_uri": "https://localhost:8080/"
        },
        "id": "JaqbLacaZl9Q",
        "outputId": "f53e7334-ef9d-4740-abf8-6f38d2babbd6"
      },
      "source": [
        "# 자동으로 close() 해줌, 상대 경로\n",
        "with open('./sample.txt') as fd:\n",
        "    text = fd.read()\n",
        "print(text)"
      ],
      "execution_count": 16,
      "outputs": [
        {
          "output_type": "stream",
          "name": "stdout",
          "text": [
            "A quick brown fox jumps over the lazy dog.\n",
            "재빠른 갈색 여우가 게으른 개를 뛰어넘습니다.\n"
          ]
        }
      ]
    },
    {
      "cell_type": "code",
      "metadata": {
        "colab": {
          "base_uri": "https://localhost:8080/"
        },
        "id": "-ogN-mPlZ4v6",
        "outputId": "b316c4bf-6977-477c-8cac-c20f8e081dbf"
      },
      "source": [
        "!pwd"
      ],
      "execution_count": 17,
      "outputs": [
        {
          "output_type": "stream",
          "name": "stdout",
          "text": [
            "/content\n"
          ]
        }
      ]
    },
    {
      "cell_type": "code",
      "metadata": {
        "colab": {
          "base_uri": "https://localhost:8080/"
        },
        "id": "TvF7izASaILW",
        "outputId": "bf014379-d5ed-4b59-ade2-6054fe71410e"
      },
      "source": [
        "# 절대 경로\n",
        "with open('/content/sample.txt') as fd:\n",
        "    text = fd.read(50)                      # 50글자 읽기\n",
        "print(text)"
      ],
      "execution_count": 18,
      "outputs": [
        {
          "output_type": "stream",
          "name": "stdout",
          "text": [
            "A quick brown fox jumps over the lazy dog.\n",
            "재빠른 갈색 \n"
          ]
        }
      ]
    },
    {
      "cell_type": "markdown",
      "metadata": {
        "id": "Ft2P7OStbXZq"
      },
      "source": [
        "### 파일에 쓰기"
      ]
    },
    {
      "cell_type": "code",
      "metadata": {
        "id": "q9EtYl_obA2i"
      },
      "source": [
        "with open('new.txt', mode='w') as fd:\n",
        "    fd.write(text)"
      ],
      "execution_count": 19,
      "outputs": []
    },
    {
      "cell_type": "code",
      "metadata": {
        "colab": {
          "base_uri": "https://localhost:8080/"
        },
        "id": "BLVLO_EtbmA4",
        "outputId": "1f82b6d7-cff1-43b3-9183-a80d8f51f7ce"
      },
      "source": [
        "!cat new.txt"
      ],
      "execution_count": 20,
      "outputs": [
        {
          "output_type": "stream",
          "name": "stdout",
          "text": [
            "A quick brown fox jumps over the lazy dog.\n",
            "재빠른 갈색 "
          ]
        }
      ]
    },
    {
      "cell_type": "markdown",
      "metadata": {
        "id": "-zvqrMcFbug6"
      },
      "source": [
        "### 파일 추가 모드"
      ]
    },
    {
      "cell_type": "code",
      "metadata": {
        "id": "y4tnqawQbq5H"
      },
      "source": [
        "with open('new.txt', 'a') as fd:\n",
        "    fd.write(text)"
      ],
      "execution_count": 21,
      "outputs": []
    },
    {
      "cell_type": "code",
      "metadata": {
        "colab": {
          "base_uri": "https://localhost:8080/"
        },
        "id": "zngBt_J0cD94",
        "outputId": "82c45515-888d-47da-cf84-29a1b22a9b72"
      },
      "source": [
        "!cat new.txt"
      ],
      "execution_count": 22,
      "outputs": [
        {
          "output_type": "stream",
          "name": "stdout",
          "text": [
            "A quick brown fox jumps over the lazy dog.\n",
            "재빠른 갈색 A quick brown fox jumps over the lazy dog.\n",
            "재빠른 갈색 "
          ]
        }
      ]
    },
    {
      "cell_type": "code",
      "metadata": {
        "id": "cFPz9ZGtcFz1"
      },
      "source": [
        ""
      ],
      "execution_count": null,
      "outputs": []
    }
  ]
}