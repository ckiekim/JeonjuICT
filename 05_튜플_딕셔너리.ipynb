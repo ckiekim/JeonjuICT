{
  "nbformat": 4,
  "nbformat_minor": 0,
  "metadata": {
    "colab": {
      "name": "05_튜플_딕셔너리.ipynb",
      "provenance": [],
      "collapsed_sections": []
    },
    "kernelspec": {
      "name": "python3",
      "display_name": "Python 3"
    },
    "language_info": {
      "name": "python"
    }
  },
  "cells": [
    {
      "cell_type": "markdown",
      "metadata": {
        "id": "orST74LxBPSx"
      },
      "source": [
        "# 튜플과 딕셔너리"
      ]
    },
    {
      "cell_type": "markdown",
      "metadata": {
        "id": "5p5g-0LkBTz5"
      },
      "source": [
        "### 튜플(tuple)"
      ]
    },
    {
      "cell_type": "code",
      "metadata": {
        "colab": {
          "base_uri": "https://localhost:8080/"
        },
        "id": "L4WaGpfRBJNo",
        "outputId": "136c9fe3-8460-4ed0-a370-78a70ad49f78"
      },
      "source": [
        "t = (1, 2, 3)\n",
        "type(t)"
      ],
      "execution_count": 1,
      "outputs": [
        {
          "output_type": "execute_result",
          "data": {
            "text/plain": [
              "tuple"
            ]
          },
          "metadata": {},
          "execution_count": 1
        }
      ]
    },
    {
      "cell_type": "code",
      "metadata": {
        "colab": {
          "base_uri": "https://localhost:8080/"
        },
        "id": "4I5Lc7o0BcVH",
        "outputId": "4b8b9f3f-9e7d-4db2-859e-37659c7a9800"
      },
      "source": [
        "t = 3, 4            # 소괄호는 생략 가능\n",
        "t"
      ],
      "execution_count": 2,
      "outputs": [
        {
          "output_type": "execute_result",
          "data": {
            "text/plain": [
              "(3, 4)"
            ]
          },
          "metadata": {},
          "execution_count": 2
        }
      ]
    },
    {
      "cell_type": "code",
      "metadata": {
        "colab": {
          "base_uri": "https://localhost:8080/"
        },
        "id": "pYK-x7dFBjYM",
        "outputId": "d15c538b-7518-4ea2-a151-a5c350defe3c"
      },
      "source": [
        "a, b, c = 1, 2, 3\n",
        "print(a, b, c)"
      ],
      "execution_count": 3,
      "outputs": [
        {
          "output_type": "stream",
          "name": "stdout",
          "text": [
            "1 2 3\n"
          ]
        }
      ]
    },
    {
      "cell_type": "code",
      "metadata": {
        "colab": {
          "base_uri": "https://localhost:8080/",
          "height": 172
        },
        "id": "BB2Li0-pBykm",
        "outputId": "968bcd33-f48d-4529-a4e5-bdeff3e6940f"
      },
      "source": [
        "# 튜플은 값을 변경시킬 수 없음\n",
        "t[0] = 5"
      ],
      "execution_count": 4,
      "outputs": [
        {
          "output_type": "error",
          "ename": "TypeError",
          "evalue": "ignored",
          "traceback": [
            "\u001b[0;31m---------------------------------------------------------------------------\u001b[0m",
            "\u001b[0;31mTypeError\u001b[0m                                 Traceback (most recent call last)",
            "\u001b[0;32m<ipython-input-4-6dd06f73cec4>\u001b[0m in \u001b[0;36m<module>\u001b[0;34m()\u001b[0m\n\u001b[0;32m----> 1\u001b[0;31m \u001b[0mt\u001b[0m\u001b[0;34m[\u001b[0m\u001b[0;36m0\u001b[0m\u001b[0;34m]\u001b[0m \u001b[0;34m=\u001b[0m \u001b[0;36m5\u001b[0m\u001b[0;34m\u001b[0m\u001b[0;34m\u001b[0m\u001b[0m\n\u001b[0m",
            "\u001b[0;31mTypeError\u001b[0m: 'tuple' object does not support item assignment"
          ]
        }
      ]
    },
    {
      "cell_type": "code",
      "metadata": {
        "colab": {
          "base_uri": "https://localhost:8080/"
        },
        "id": "-fhHZcoyB_qV",
        "outputId": "7ec293c6-6c74-48ab-e94c-7c790308fe07"
      },
      "source": [
        "# element 하나인 튜플\n",
        "single = (3,)\n",
        "type(single)"
      ],
      "execution_count": 7,
      "outputs": [
        {
          "output_type": "execute_result",
          "data": {
            "text/plain": [
              "tuple"
            ]
          },
          "metadata": {},
          "execution_count": 7
        }
      ]
    },
    {
      "cell_type": "code",
      "metadata": {
        "colab": {
          "base_uri": "https://localhost:8080/"
        },
        "id": "dLtACEhRCbIY",
        "outputId": "0de97601-84b0-46af-cfe6-04862a242508"
      },
      "source": [
        "l = [3, 4]\n",
        "l[0] = 300\n",
        "l"
      ],
      "execution_count": 8,
      "outputs": [
        {
          "output_type": "execute_result",
          "data": {
            "text/plain": [
              "[300, 4]"
            ]
          },
          "metadata": {},
          "execution_count": 8
        }
      ]
    },
    {
      "cell_type": "markdown",
      "metadata": {
        "id": "2ummiiLTC80u"
      },
      "source": [
        "### 딕셔너리"
      ]
    },
    {
      "cell_type": "code",
      "metadata": {
        "id": "jc2XZhZ4CuTY"
      },
      "source": [
        "scores = {'kor':85, 'eng':90, 'math':100} \n",
        "members = {'name':'홍길동', 'age':25, 'phone':'010-3787-3146'}"
      ],
      "execution_count": 9,
      "outputs": []
    },
    {
      "cell_type": "code",
      "metadata": {
        "colab": {
          "base_uri": "https://localhost:8080/"
        },
        "id": "8EENeJKMDQft",
        "outputId": "9f1cc923-4fe9-43a6-dd9e-51c17b923532"
      },
      "source": [
        "members"
      ],
      "execution_count": 10,
      "outputs": [
        {
          "output_type": "execute_result",
          "data": {
            "text/plain": [
              "{'age': 25, 'name': '홍길동', 'phone': '010-3787-3146'}"
            ]
          },
          "metadata": {},
          "execution_count": 10
        }
      ]
    },
    {
      "cell_type": "markdown",
      "metadata": {
        "id": "K_9Ad8OODl95"
      },
      "source": [
        "- 값 추출"
      ]
    },
    {
      "cell_type": "code",
      "metadata": {
        "colab": {
          "base_uri": "https://localhost:8080/"
        },
        "id": "O0jlkPV6DUBr",
        "outputId": "798017b2-20f9-4e98-9dbe-a5d417c0125a"
      },
      "source": [
        "scores['math'], members['name']"
      ],
      "execution_count": 11,
      "outputs": [
        {
          "output_type": "execute_result",
          "data": {
            "text/plain": [
              "(100, '홍길동')"
            ]
          },
          "metadata": {},
          "execution_count": 11
        }
      ]
    },
    {
      "cell_type": "markdown",
      "metadata": {
        "id": "UlVlMoPOD8TV"
      },
      "source": [
        "- 값 할당"
      ]
    },
    {
      "cell_type": "code",
      "metadata": {
        "colab": {
          "base_uri": "https://localhost:8080/"
        },
        "id": "z2WSoN3BDx8Z",
        "outputId": "13f63000-2ce6-4d00-b160-8a79259ff159"
      },
      "source": [
        "scores['kor'] = 95\n",
        "scores"
      ],
      "execution_count": 12,
      "outputs": [
        {
          "output_type": "execute_result",
          "data": {
            "text/plain": [
              "{'eng': 90, 'kor': 95, 'math': 100}"
            ]
          },
          "metadata": {},
          "execution_count": 12
        }
      ]
    },
    {
      "cell_type": "markdown",
      "metadata": {
        "id": "aSg3vidUEVmB"
      },
      "source": [
        "- 딕셔너리와 반복문"
      ]
    },
    {
      "cell_type": "code",
      "metadata": {
        "colab": {
          "base_uri": "https://localhost:8080/"
        },
        "id": "mzzuoTqIECnX",
        "outputId": "0d2bab58-62ea-4dc7-e562-f44d50abc0d5"
      },
      "source": [
        "members.keys()"
      ],
      "execution_count": 13,
      "outputs": [
        {
          "output_type": "execute_result",
          "data": {
            "text/plain": [
              "dict_keys(['name', 'age', 'phone'])"
            ]
          },
          "metadata": {},
          "execution_count": 13
        }
      ]
    },
    {
      "cell_type": "code",
      "metadata": {
        "colab": {
          "base_uri": "https://localhost:8080/"
        },
        "id": "17K8pToAEctE",
        "outputId": "a1b8ec96-e326-4ed7-b175-5b79e8b6b992"
      },
      "source": [
        "for key in members.keys():\n",
        "    print(f'{key}: {members[key]}')"
      ],
      "execution_count": 15,
      "outputs": [
        {
          "output_type": "stream",
          "name": "stdout",
          "text": [
            "name: 홍길동\n",
            "age: 25\n",
            "phone: 010-3787-3146\n"
          ]
        }
      ]
    },
    {
      "cell_type": "code",
      "metadata": {
        "colab": {
          "base_uri": "https://localhost:8080/"
        },
        "id": "KwTeV-ydEqeM",
        "outputId": "c8006024-481e-401d-b344-8dd3b374fc0f"
      },
      "source": [
        "for key, value in members.items():\n",
        "    print(key, value)"
      ],
      "execution_count": 16,
      "outputs": [
        {
          "output_type": "stream",
          "name": "stdout",
          "text": [
            "name 홍길동\n",
            "age 25\n",
            "phone 010-3787-3146\n"
          ]
        }
      ]
    },
    {
      "cell_type": "code",
      "metadata": {
        "colab": {
          "base_uri": "https://localhost:8080/",
          "height": 111
        },
        "id": "Xlm3LYgMFBcR",
        "outputId": "220a871f-dd0a-46b3-b4b2-18e76bdd25ed"
      },
      "source": [
        "# 리스트의 딕셔너리\n",
        "import pandas as pd\n",
        "df = pd.DataFrame({\n",
        "    'name': ['홍길동','성춘향'],\n",
        "    'age': [25, 16],\n",
        "    'phone': ['010-3787-3146', '010-2345-6789']\n",
        "})\n",
        "df"
      ],
      "execution_count": 17,
      "outputs": [
        {
          "output_type": "execute_result",
          "data": {
            "text/html": [
              "<div>\n",
              "<style scoped>\n",
              "    .dataframe tbody tr th:only-of-type {\n",
              "        vertical-align: middle;\n",
              "    }\n",
              "\n",
              "    .dataframe tbody tr th {\n",
              "        vertical-align: top;\n",
              "    }\n",
              "\n",
              "    .dataframe thead th {\n",
              "        text-align: right;\n",
              "    }\n",
              "</style>\n",
              "<table border=\"1\" class=\"dataframe\">\n",
              "  <thead>\n",
              "    <tr style=\"text-align: right;\">\n",
              "      <th></th>\n",
              "      <th>name</th>\n",
              "      <th>age</th>\n",
              "      <th>phone</th>\n",
              "    </tr>\n",
              "  </thead>\n",
              "  <tbody>\n",
              "    <tr>\n",
              "      <th>0</th>\n",
              "      <td>홍길동</td>\n",
              "      <td>25</td>\n",
              "      <td>010-3787-3146</td>\n",
              "    </tr>\n",
              "    <tr>\n",
              "      <th>1</th>\n",
              "      <td>성춘향</td>\n",
              "      <td>16</td>\n",
              "      <td>010-2345-6789</td>\n",
              "    </tr>\n",
              "  </tbody>\n",
              "</table>\n",
              "</div>"
            ],
            "text/plain": [
              "  name  age          phone\n",
              "0  홍길동   25  010-3787-3146\n",
              "1  성춘향   16  010-2345-6789"
            ]
          },
          "metadata": {},
          "execution_count": 17
        }
      ]
    },
    {
      "cell_type": "code",
      "metadata": {
        "id": "oKHfPEJFF92V"
      },
      "source": [
        "# 딕셔너리의 리스트\n",
        "member_list = [\n",
        "    {'name':'홍길동', 'age':25, 'phone':'010-3787-3146'},\n",
        "    {'name':'성춘향', 'age':16, 'phone':'010-2345-6789'}\n",
        "]\n",
        "df = pd.DataFrame(member_list)"
      ],
      "execution_count": 18,
      "outputs": []
    },
    {
      "cell_type": "code",
      "metadata": {
        "colab": {
          "base_uri": "https://localhost:8080/",
          "height": 111
        },
        "id": "I1d-4Dk4GewU",
        "outputId": "0fb88b09-28d4-4f8e-ebdb-38853a304937"
      },
      "source": [
        "df"
      ],
      "execution_count": 19,
      "outputs": [
        {
          "output_type": "execute_result",
          "data": {
            "text/html": [
              "<div>\n",
              "<style scoped>\n",
              "    .dataframe tbody tr th:only-of-type {\n",
              "        vertical-align: middle;\n",
              "    }\n",
              "\n",
              "    .dataframe tbody tr th {\n",
              "        vertical-align: top;\n",
              "    }\n",
              "\n",
              "    .dataframe thead th {\n",
              "        text-align: right;\n",
              "    }\n",
              "</style>\n",
              "<table border=\"1\" class=\"dataframe\">\n",
              "  <thead>\n",
              "    <tr style=\"text-align: right;\">\n",
              "      <th></th>\n",
              "      <th>name</th>\n",
              "      <th>age</th>\n",
              "      <th>phone</th>\n",
              "    </tr>\n",
              "  </thead>\n",
              "  <tbody>\n",
              "    <tr>\n",
              "      <th>0</th>\n",
              "      <td>홍길동</td>\n",
              "      <td>25</td>\n",
              "      <td>010-3787-3146</td>\n",
              "    </tr>\n",
              "    <tr>\n",
              "      <th>1</th>\n",
              "      <td>성춘향</td>\n",
              "      <td>16</td>\n",
              "      <td>010-2345-6789</td>\n",
              "    </tr>\n",
              "  </tbody>\n",
              "</table>\n",
              "</div>"
            ],
            "text/plain": [
              "  name  age          phone\n",
              "0  홍길동   25  010-3787-3146\n",
              "1  성춘향   16  010-2345-6789"
            ]
          },
          "metadata": {},
          "execution_count": 19
        }
      ]
    },
    {
      "cell_type": "code",
      "metadata": {
        "id": "qdKkrMsbGfTK"
      },
      "source": [
        ""
      ],
      "execution_count": null,
      "outputs": []
    }
  ]
}