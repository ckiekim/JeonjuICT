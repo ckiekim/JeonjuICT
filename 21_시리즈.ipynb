{
  "nbformat": 4,
  "nbformat_minor": 0,
  "metadata": {
    "colab": {
      "name": "21_시리즈.ipynb",
      "provenance": [],
      "collapsed_sections": []
    },
    "kernelspec": {
      "name": "python3",
      "display_name": "Python 3"
    },
    "language_info": {
      "name": "python"
    }
  },
  "cells": [
    {
      "cell_type": "markdown",
      "metadata": {
        "id": "feQxfev6Zatm"
      },
      "source": [
        "# Pandas"
      ]
    },
    {
      "cell_type": "code",
      "metadata": {
        "id": "27g6I4aJcNJH"
      },
      "source": [
        "import numpy as np\n",
        "import pandas as pd "
      ],
      "execution_count": 2,
      "outputs": []
    },
    {
      "cell_type": "markdown",
      "metadata": {
        "id": "823wztOPbo6_"
      },
      "source": [
        "## Series"
      ]
    },
    {
      "cell_type": "code",
      "metadata": {
        "colab": {
          "base_uri": "https://localhost:8080/"
        },
        "id": "-tTycLNwZRzh",
        "outputId": "7e23a49f-b755-4500-c400-61b7cc0c5f2c"
      },
      "source": [
        "s = pd.Series([9904312, 3448737, 2890451, 2466052],\n",
        "              index=[\"서울\", \"부산\", \"인천\", \"대구\"])\n",
        "s"
      ],
      "execution_count": 3,
      "outputs": [
        {
          "output_type": "execute_result",
          "data": {
            "text/plain": [
              "서울    9904312\n",
              "부산    3448737\n",
              "인천    2890451\n",
              "대구    2466052\n",
              "dtype: int64"
            ]
          },
          "metadata": {},
          "execution_count": 3
        }
      ]
    },
    {
      "cell_type": "markdown",
      "metadata": {
        "id": "LWlxYrCGch5h"
      },
      "source": [
        "- 시리즈의 속성"
      ]
    },
    {
      "cell_type": "code",
      "metadata": {
        "colab": {
          "base_uri": "https://localhost:8080/"
        },
        "id": "cCCvX924cKYX",
        "outputId": "05937b36-e20a-46db-9ae8-f404dd9153c1"
      },
      "source": [
        "s.index"
      ],
      "execution_count": 4,
      "outputs": [
        {
          "output_type": "execute_result",
          "data": {
            "text/plain": [
              "Index(['서울', '부산', '인천', '대구'], dtype='object')"
            ]
          },
          "metadata": {},
          "execution_count": 4
        }
      ]
    },
    {
      "cell_type": "code",
      "metadata": {
        "colab": {
          "base_uri": "https://localhost:8080/"
        },
        "id": "pZYYxoVqcmib",
        "outputId": "155d6c19-5298-4e83-ab7d-3828ebfa9ecc"
      },
      "source": [
        "s.values"
      ],
      "execution_count": 5,
      "outputs": [
        {
          "output_type": "execute_result",
          "data": {
            "text/plain": [
              "array([9904312, 3448737, 2890451, 2466052])"
            ]
          },
          "metadata": {},
          "execution_count": 5
        }
      ]
    },
    {
      "cell_type": "markdown",
      "metadata": {
        "id": "_6clwlb5cz--"
      },
      "source": [
        "- 인덱싱"
      ]
    },
    {
      "cell_type": "code",
      "metadata": {
        "colab": {
          "base_uri": "https://localhost:8080/"
        },
        "id": "h2bz2ZwKcusx",
        "outputId": "10824700-c118-4555-e2c3-e23dcced1e07"
      },
      "source": [
        "s[0]"
      ],
      "execution_count": 6,
      "outputs": [
        {
          "output_type": "execute_result",
          "data": {
            "text/plain": [
              "9904312"
            ]
          },
          "metadata": {},
          "execution_count": 6
        }
      ]
    },
    {
      "cell_type": "code",
      "metadata": {
        "colab": {
          "base_uri": "https://localhost:8080/"
        },
        "id": "tTzD5FrVc7S8",
        "outputId": "7f961953-4807-4e1d-e7ac-91b703463238"
      },
      "source": [
        "s['서울']"
      ],
      "execution_count": 7,
      "outputs": [
        {
          "output_type": "execute_result",
          "data": {
            "text/plain": [
              "9904312"
            ]
          },
          "metadata": {},
          "execution_count": 7
        }
      ]
    },
    {
      "cell_type": "code",
      "metadata": {
        "colab": {
          "base_uri": "https://localhost:8080/"
        },
        "id": "H8GS-nhWc_Bb",
        "outputId": "f7055244-b834-4246-f14d-653ecddc1f3c"
      },
      "source": [
        "s.서울"
      ],
      "execution_count": 8,
      "outputs": [
        {
          "output_type": "execute_result",
          "data": {
            "text/plain": [
              "9904312"
            ]
          },
          "metadata": {},
          "execution_count": 8
        }
      ]
    },
    {
      "cell_type": "markdown",
      "metadata": {
        "id": "eBrE5lyKdRc4"
      },
      "source": [
        "- 슬라이싱"
      ]
    },
    {
      "cell_type": "code",
      "metadata": {
        "colab": {
          "base_uri": "https://localhost:8080/"
        },
        "id": "3SIr1ruwdFTA",
        "outputId": "160e5af7-4aa4-4921-e678-6ec195136656"
      },
      "source": [
        "s[0:2]"
      ],
      "execution_count": 9,
      "outputs": [
        {
          "output_type": "execute_result",
          "data": {
            "text/plain": [
              "서울    9904312\n",
              "부산    3448737\n",
              "dtype: int64"
            ]
          },
          "metadata": {},
          "execution_count": 9
        }
      ]
    },
    {
      "cell_type": "code",
      "metadata": {
        "colab": {
          "base_uri": "https://localhost:8080/"
        },
        "id": "NKjXcxjzdXLw",
        "outputId": "3a4a521e-9d90-404b-82a2-61c9595cd1b2"
      },
      "source": [
        "s['서울':'인천']"
      ],
      "execution_count": 10,
      "outputs": [
        {
          "output_type": "execute_result",
          "data": {
            "text/plain": [
              "서울    9904312\n",
              "부산    3448737\n",
              "인천    2890451\n",
              "dtype: int64"
            ]
          },
          "metadata": {},
          "execution_count": 10
        }
      ]
    },
    {
      "cell_type": "code",
      "metadata": {
        "colab": {
          "base_uri": "https://localhost:8080/"
        },
        "id": "6eKC4-1JdeS7",
        "outputId": "3989fbc5-383a-40f3-a6a8-b0747dd50b7f"
      },
      "source": [
        "s[::2]"
      ],
      "execution_count": 11,
      "outputs": [
        {
          "output_type": "execute_result",
          "data": {
            "text/plain": [
              "서울    9904312\n",
              "인천    2890451\n",
              "dtype: int64"
            ]
          },
          "metadata": {},
          "execution_count": 11
        }
      ]
    },
    {
      "cell_type": "code",
      "metadata": {
        "colab": {
          "base_uri": "https://localhost:8080/"
        },
        "id": "MVDj26CwdsIV",
        "outputId": "9bb89d21-5fec-4829-8f32-4d54c7f6c16f"
      },
      "source": [
        "s[[1,3]]"
      ],
      "execution_count": 12,
      "outputs": [
        {
          "output_type": "execute_result",
          "data": {
            "text/plain": [
              "부산    3448737\n",
              "대구    2466052\n",
              "dtype: int64"
            ]
          },
          "metadata": {},
          "execution_count": 12
        }
      ]
    },
    {
      "cell_type": "markdown",
      "metadata": {
        "id": "VprH10WBd7Bx"
      },
      "source": [
        "- 연산"
      ]
    },
    {
      "cell_type": "code",
      "metadata": {
        "colab": {
          "base_uri": "https://localhost:8080/"
        },
        "id": "Hs4ynP9Cdw60",
        "outputId": "22e12863-ed47-4ea4-cfd0-93e3f8ed29e0"
      },
      "source": [
        "s / 1000000"
      ],
      "execution_count": 13,
      "outputs": [
        {
          "output_type": "execute_result",
          "data": {
            "text/plain": [
              "서울    9.904312\n",
              "부산    3.448737\n",
              "인천    2.890451\n",
              "대구    2.466052\n",
              "dtype: float64"
            ]
          },
          "metadata": {},
          "execution_count": 13
        }
      ]
    },
    {
      "cell_type": "markdown",
      "metadata": {
        "id": "GB_kKBzChvmi"
      },
      "source": [
        "- 시리즈와 딕셔너리"
      ]
    },
    {
      "cell_type": "code",
      "metadata": {
        "colab": {
          "base_uri": "https://localhost:8080/"
        },
        "id": "5a24XTsmeB5x",
        "outputId": "7fd22cdc-0f65-4bff-9098-c9a3c8da37ce"
      },
      "source": [
        "for index in s.index:\n",
        "    print(f'{index}: {s[index]}')"
      ],
      "execution_count": 14,
      "outputs": [
        {
          "output_type": "stream",
          "name": "stdout",
          "text": [
            "서울: 9904312\n",
            "부산: 3448737\n",
            "인천: 2890451\n",
            "대구: 2466052\n"
          ]
        }
      ]
    },
    {
      "cell_type": "code",
      "metadata": {
        "colab": {
          "base_uri": "https://localhost:8080/"
        },
        "id": "q08n3Zy-iFVJ",
        "outputId": "84f02c15-857e-49ba-b786-692fd08e8376"
      },
      "source": [
        "d = {'서울':9631482, '부산':3393191, '인천':2632035, '대전':1490158}\n",
        "for key in d.keys():\n",
        "    print(f'{key}: {d[key]}')"
      ],
      "execution_count": 17,
      "outputs": [
        {
          "output_type": "stream",
          "name": "stdout",
          "text": [
            "서울: 9631482\n",
            "부산: 3393191\n",
            "인천: 2632035\n",
            "대전: 1490158\n"
          ]
        }
      ]
    },
    {
      "cell_type": "code",
      "metadata": {
        "colab": {
          "base_uri": "https://localhost:8080/"
        },
        "id": "lV6gf5NyilEv",
        "outputId": "76ee7d79-6fb9-49ae-f011-f20e2e3e01bd"
      },
      "source": [
        "s2 = pd.Series(d)\n",
        "s2"
      ],
      "execution_count": 18,
      "outputs": [
        {
          "output_type": "execute_result",
          "data": {
            "text/plain": [
              "서울    9631482\n",
              "부산    3393191\n",
              "인천    2632035\n",
              "대전    1490158\n",
              "dtype: int64"
            ]
          },
          "metadata": {},
          "execution_count": 18
        }
      ]
    },
    {
      "cell_type": "markdown",
      "metadata": {
        "id": "pIfsGGj_i4Mv"
      },
      "source": [
        "- 인덱스 기반 연산"
      ]
    },
    {
      "cell_type": "code",
      "metadata": {
        "colab": {
          "base_uri": "https://localhost:8080/"
        },
        "id": "yUNKAKLoiuqq",
        "outputId": "f5954a20-5499-467b-dc9e-632e5bdc992a"
      },
      "source": [
        "# np.nan, np.inf 은 실수\n",
        "s - s2"
      ],
      "execution_count": 19,
      "outputs": [
        {
          "output_type": "execute_result",
          "data": {
            "text/plain": [
              "대구         NaN\n",
              "대전         NaN\n",
              "부산     55546.0\n",
              "서울    272830.0\n",
              "인천    258416.0\n",
              "dtype: float64"
            ]
          },
          "metadata": {},
          "execution_count": 19
        }
      ]
    },
    {
      "cell_type": "markdown",
      "metadata": {
        "id": "EZdrdjndjx_I"
      },
      "source": [
        "- 시리즈의 메소드"
      ]
    },
    {
      "cell_type": "code",
      "metadata": {
        "colab": {
          "base_uri": "https://localhost:8080/"
        },
        "id": "nR__r781jMHx",
        "outputId": "0a5488d9-18c4-4529-9075-39af66590741"
      },
      "source": [
        "s.count()"
      ],
      "execution_count": 20,
      "outputs": [
        {
          "output_type": "execute_result",
          "data": {
            "text/plain": [
              "4"
            ]
          },
          "metadata": {},
          "execution_count": 20
        }
      ]
    },
    {
      "cell_type": "code",
      "metadata": {
        "colab": {
          "base_uri": "https://localhost:8080/"
        },
        "id": "zBsbEp8qj3cr",
        "outputId": "ccf51c4e-a600-4de1-fd77-eac703251eeb"
      },
      "source": [
        "len(s)"
      ],
      "execution_count": 21,
      "outputs": [
        {
          "output_type": "execute_result",
          "data": {
            "text/plain": [
              "4"
            ]
          },
          "metadata": {},
          "execution_count": 21
        }
      ]
    },
    {
      "cell_type": "code",
      "metadata": {
        "colab": {
          "base_uri": "https://localhost:8080/"
        },
        "id": "IVvpJwiKj-Ea",
        "outputId": "871d874f-1356-4819-e1e1-39a4dc68068d"
      },
      "source": [
        "s3 = pd.Series(['수도권','영남권','수도권','영남권'],\n",
        "               index=[\"서울\", \"부산\", \"인천\", \"대구\"])\n",
        "s3"
      ],
      "execution_count": 22,
      "outputs": [
        {
          "output_type": "execute_result",
          "data": {
            "text/plain": [
              "서울    수도권\n",
              "부산    영남권\n",
              "인천    수도권\n",
              "대구    영남권\n",
              "dtype: object"
            ]
          },
          "metadata": {},
          "execution_count": 22
        }
      ]
    },
    {
      "cell_type": "code",
      "metadata": {
        "colab": {
          "base_uri": "https://localhost:8080/"
        },
        "id": "4-UKlQaqkb2Q",
        "outputId": "9e1e1928-fcbc-4a07-c495-1898014b54e7"
      },
      "source": [
        "# 카테고리 갯수 세기\n",
        "s3.value_counts()"
      ],
      "execution_count": 23,
      "outputs": [
        {
          "output_type": "execute_result",
          "data": {
            "text/plain": [
              "영남권    2\n",
              "수도권    2\n",
              "dtype: int64"
            ]
          },
          "metadata": {},
          "execution_count": 23
        }
      ]
    },
    {
      "cell_type": "code",
      "metadata": {
        "colab": {
          "base_uri": "https://localhost:8080/"
        },
        "id": "rxXagwbbkls1",
        "outputId": "83ff5164-224a-411f-98d7-41a0aecc4a8c"
      },
      "source": [
        "s3.unique()"
      ],
      "execution_count": 24,
      "outputs": [
        {
          "output_type": "execute_result",
          "data": {
            "text/plain": [
              "array(['수도권', '영남권'], dtype=object)"
            ]
          },
          "metadata": {},
          "execution_count": 24
        }
      ]
    },
    {
      "cell_type": "code",
      "metadata": {
        "colab": {
          "base_uri": "https://localhost:8080/"
        },
        "id": "HEPajq69kzh6",
        "outputId": "3f91ab86-6df2-4175-b9e5-5d86412a50ff"
      },
      "source": [
        "s3.nunique()"
      ],
      "execution_count": 25,
      "outputs": [
        {
          "output_type": "execute_result",
          "data": {
            "text/plain": [
              "2"
            ]
          },
          "metadata": {},
          "execution_count": 25
        }
      ]
    },
    {
      "cell_type": "code",
      "metadata": {
        "colab": {
          "base_uri": "https://localhost:8080/"
        },
        "id": "hr68wTrAk6QN",
        "outputId": "93ee7666-8fe3-45f4-e1cd-fd9fc1f8410f"
      },
      "source": [
        "s.sum()"
      ],
      "execution_count": 26,
      "outputs": [
        {
          "output_type": "execute_result",
          "data": {
            "text/plain": [
              "18709552"
            ]
          },
          "metadata": {},
          "execution_count": 26
        }
      ]
    },
    {
      "cell_type": "code",
      "metadata": {
        "colab": {
          "base_uri": "https://localhost:8080/"
        },
        "id": "CHDrYhGBlBPL",
        "outputId": "ba8ff93b-02b3-49de-8732-1e8f53f951e0"
      },
      "source": [
        "s.mean()"
      ],
      "execution_count": 27,
      "outputs": [
        {
          "output_type": "execute_result",
          "data": {
            "text/plain": [
              "4677388.0"
            ]
          },
          "metadata": {},
          "execution_count": 27
        }
      ]
    },
    {
      "cell_type": "code",
      "metadata": {
        "colab": {
          "base_uri": "https://localhost:8080/"
        },
        "id": "YH4oxU4NlCjn",
        "outputId": "9150d273-160b-4359-8f88-200b9c58aba1"
      },
      "source": [
        "ss = s.sort_index()\n",
        "ss"
      ],
      "execution_count": 29,
      "outputs": [
        {
          "output_type": "execute_result",
          "data": {
            "text/plain": [
              "대구    2466052\n",
              "부산    3448737\n",
              "서울    9904312\n",
              "인천    2890451\n",
              "dtype: int64"
            ]
          },
          "metadata": {},
          "execution_count": 29
        }
      ]
    },
    {
      "cell_type": "code",
      "metadata": {
        "colab": {
          "base_uri": "https://localhost:8080/"
        },
        "id": "-I38epR8lM6Y",
        "outputId": "1649d465-bac2-4f33-802f-6b382b3982fd"
      },
      "source": [
        "ss.sort_values()"
      ],
      "execution_count": 30,
      "outputs": [
        {
          "output_type": "execute_result",
          "data": {
            "text/plain": [
              "대구    2466052\n",
              "인천    2890451\n",
              "부산    3448737\n",
              "서울    9904312\n",
              "dtype: int64"
            ]
          },
          "metadata": {},
          "execution_count": 30
        }
      ]
    },
    {
      "cell_type": "code",
      "metadata": {
        "colab": {
          "base_uri": "https://localhost:8080/"
        },
        "id": "16BxFt6nlZ15",
        "outputId": "7cc5bfb0-60cb-4360-d1f1-0eecea1f09d6"
      },
      "source": [
        "ss.sort_values(ascending=False)"
      ],
      "execution_count": 31,
      "outputs": [
        {
          "output_type": "execute_result",
          "data": {
            "text/plain": [
              "서울    9904312\n",
              "부산    3448737\n",
              "인천    2890451\n",
              "대구    2466052\n",
              "dtype: int64"
            ]
          },
          "metadata": {},
          "execution_count": 31
        }
      ]
    },
    {
      "cell_type": "code",
      "metadata": {
        "colab": {
          "base_uri": "https://localhost:8080/"
        },
        "id": "R0uhZVaolnPY",
        "outputId": "8883608a-4c6c-4d14-ab48-b1f7eac3d641"
      },
      "source": [
        "ss"
      ],
      "execution_count": 32,
      "outputs": [
        {
          "output_type": "execute_result",
          "data": {
            "text/plain": [
              "대구    2466052\n",
              "부산    3448737\n",
              "서울    9904312\n",
              "인천    2890451\n",
              "dtype: int64"
            ]
          },
          "metadata": {},
          "execution_count": 32
        }
      ]
    },
    {
      "cell_type": "code",
      "metadata": {
        "colab": {
          "base_uri": "https://localhost:8080/"
        },
        "id": "wq2U0F37mO3_",
        "outputId": "6e4ca00c-3433-44a3-aff2-b9f55311c3f5"
      },
      "source": [
        "# ss 자체를 변화시키려면 inplace=True 를 해주어야 함\n",
        "ss.sort_values(inplace=True)\n",
        "ss"
      ],
      "execution_count": 33,
      "outputs": [
        {
          "output_type": "execute_result",
          "data": {
            "text/plain": [
              "대구    2466052\n",
              "인천    2890451\n",
              "부산    3448737\n",
              "서울    9904312\n",
              "dtype: int64"
            ]
          },
          "metadata": {},
          "execution_count": 33
        }
      ]
    },
    {
      "cell_type": "code",
      "metadata": {
        "id": "0tu6WMD9mYPG"
      },
      "source": [
        ""
      ],
      "execution_count": null,
      "outputs": []
    }
  ]
}