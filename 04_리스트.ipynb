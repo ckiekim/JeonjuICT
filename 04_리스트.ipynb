{
  "nbformat": 4,
  "nbformat_minor": 0,
  "metadata": {
    "colab": {
      "name": "04_리스트.ipynb",
      "provenance": [],
      "collapsed_sections": []
    },
    "kernelspec": {
      "name": "python3",
      "display_name": "Python 3"
    },
    "language_info": {
      "name": "python"
    }
  },
  "cells": [
    {
      "cell_type": "markdown",
      "metadata": {
        "id": "ZcubcoV-wj5D"
      },
      "source": [
        "# 리스트"
      ]
    },
    {
      "cell_type": "markdown",
      "metadata": {
        "id": "TkznCgkCxkTO"
      },
      "source": [
        "### 생성"
      ]
    },
    {
      "cell_type": "code",
      "metadata": {
        "colab": {
          "base_uri": "https://localhost:8080/"
        },
        "id": "geb6IvPJwd_o",
        "outputId": "1d73346b-eea5-4408-dd56-3f9da40295cb"
      },
      "source": [
        "fruits = ['사과', '오렌지', '딸기', '포도', '감', '키위', '멜론', '수박']\n",
        "type(fruits)"
      ],
      "execution_count": 1,
      "outputs": [
        {
          "output_type": "execute_result",
          "data": {
            "text/plain": [
              "list"
            ]
          },
          "metadata": {},
          "execution_count": 1
        }
      ]
    },
    {
      "cell_type": "code",
      "metadata": {
        "id": "fY8TQkk9xvlq"
      },
      "source": [
        "empty_list = []\n",
        "person = ['james', 17, 175.3, True]\n",
        "list1 = [5, 10.2, '탁구', True, [4, 5, 6]]"
      ],
      "execution_count": 2,
      "outputs": []
    },
    {
      "cell_type": "markdown",
      "metadata": {
        "id": "uUm7OsQ3yPl7"
      },
      "source": [
        "### 추출"
      ]
    },
    {
      "cell_type": "code",
      "metadata": {
        "colab": {
          "base_uri": "https://localhost:8080/",
          "height": 35
        },
        "id": "iJkkjKeZyF7K",
        "outputId": "d7a218d3-2343-4183-b7f9-0ca925c908c9"
      },
      "source": [
        "# Indexing: 0 에서부터 시작\n",
        "fruits[0]"
      ],
      "execution_count": 3,
      "outputs": [
        {
          "output_type": "execute_result",
          "data": {
            "application/vnd.google.colaboratory.intrinsic+json": {
              "type": "string"
            },
            "text/plain": [
              "'사과'"
            ]
          },
          "metadata": {},
          "execution_count": 3
        }
      ]
    },
    {
      "cell_type": "code",
      "metadata": {
        "colab": {
          "base_uri": "https://localhost:8080/",
          "height": 35
        },
        "id": "A6iAaL4Vyu-N",
        "outputId": "84cc0062-8aaa-4a32-f2d3-2b3c8889dd00"
      },
      "source": [
        "fruits[3]"
      ],
      "execution_count": 4,
      "outputs": [
        {
          "output_type": "execute_result",
          "data": {
            "application/vnd.google.colaboratory.intrinsic+json": {
              "type": "string"
            },
            "text/plain": [
              "'포도'"
            ]
          },
          "metadata": {},
          "execution_count": 4
        }
      ]
    },
    {
      "cell_type": "code",
      "metadata": {
        "colab": {
          "base_uri": "https://localhost:8080/",
          "height": 35
        },
        "id": "i3ggQXXuy1iy",
        "outputId": "8d8d7c39-f803-4baa-f2b0-832ba4576d5d"
      },
      "source": [
        "fruits[len(fruits) - 2]"
      ],
      "execution_count": 5,
      "outputs": [
        {
          "output_type": "execute_result",
          "data": {
            "application/vnd.google.colaboratory.intrinsic+json": {
              "type": "string"
            },
            "text/plain": [
              "'멜론'"
            ]
          },
          "metadata": {},
          "execution_count": 5
        }
      ]
    },
    {
      "cell_type": "code",
      "metadata": {
        "colab": {
          "base_uri": "https://localhost:8080/",
          "height": 35
        },
        "id": "I8wLa6khzSSZ",
        "outputId": "39ec6eee-3def-4132-9fda-9b27731757e3"
      },
      "source": [
        "# 음수 인덱싱\n",
        "fruits[-2]"
      ],
      "execution_count": 6,
      "outputs": [
        {
          "output_type": "execute_result",
          "data": {
            "application/vnd.google.colaboratory.intrinsic+json": {
              "type": "string"
            },
            "text/plain": [
              "'멜론'"
            ]
          },
          "metadata": {},
          "execution_count": 6
        }
      ]
    },
    {
      "cell_type": "code",
      "metadata": {
        "colab": {
          "base_uri": "https://localhost:8080/"
        },
        "id": "LF52jPrnzdqZ",
        "outputId": "b355dcc1-3bf7-4ffa-cb87-b2057ed222f0"
      },
      "source": [
        "# 슬라이싱\n",
        "fruits[1:4]             # fruits[1], fruits[2], fruits[3]"
      ],
      "execution_count": 7,
      "outputs": [
        {
          "output_type": "execute_result",
          "data": {
            "text/plain": [
              "['오렌지', '딸기', '포도']"
            ]
          },
          "metadata": {},
          "execution_count": 7
        }
      ]
    },
    {
      "cell_type": "code",
      "metadata": {
        "colab": {
          "base_uri": "https://localhost:8080/"
        },
        "id": "NWiGAiUH0Dj6",
        "outputId": "4805ae4c-487f-43a8-9ef1-1646f8e16dcf"
      },
      "source": [
        "fruits[:2]              # fruits[0:2]"
      ],
      "execution_count": 8,
      "outputs": [
        {
          "output_type": "execute_result",
          "data": {
            "text/plain": [
              "['사과', '오렌지']"
            ]
          },
          "metadata": {},
          "execution_count": 8
        }
      ]
    },
    {
      "cell_type": "code",
      "metadata": {
        "colab": {
          "base_uri": "https://localhost:8080/"
        },
        "id": "e1OXmG0P0cya",
        "outputId": "7968d719-6241-4bdb-acdc-81d62af27657"
      },
      "source": [
        "fruits[-2:]             # fruits[6:8]"
      ],
      "execution_count": 11,
      "outputs": [
        {
          "output_type": "execute_result",
          "data": {
            "text/plain": [
              "['멜론', '수박']"
            ]
          },
          "metadata": {},
          "execution_count": 11
        }
      ]
    },
    {
      "cell_type": "code",
      "metadata": {
        "colab": {
          "base_uri": "https://localhost:8080/"
        },
        "id": "5Xlr49Io0kEU",
        "outputId": "613f305a-e0c0-4792-bcad-551f4f1fe8ee"
      },
      "source": [
        "fruits[::2]"
      ],
      "execution_count": 12,
      "outputs": [
        {
          "output_type": "execute_result",
          "data": {
            "text/plain": [
              "['사과', '딸기', '감', '멜론']"
            ]
          },
          "metadata": {},
          "execution_count": 12
        }
      ]
    },
    {
      "cell_type": "code",
      "metadata": {
        "colab": {
          "base_uri": "https://localhost:8080/"
        },
        "id": "nDJFRVYR04ym",
        "outputId": "25a9f650-3570-4db7-cca1-dfe1c0148845"
      },
      "source": [
        "# 거꾸로\n",
        "fruits[::-1]"
      ],
      "execution_count": 13,
      "outputs": [
        {
          "output_type": "execute_result",
          "data": {
            "text/plain": [
              "['수박', '멜론', '키위', '감', '포도', '딸기', '오렌지', '사과']"
            ]
          },
          "metadata": {},
          "execution_count": 13
        }
      ]
    },
    {
      "cell_type": "markdown",
      "metadata": {
        "id": "ytIiQRgH1pfm"
      },
      "source": [
        "### 요소 추가"
      ]
    },
    {
      "cell_type": "code",
      "metadata": {
        "colab": {
          "base_uri": "https://localhost:8080/"
        },
        "id": "_TeIlJox1Bn8",
        "outputId": "222ff946-1ae4-4997-d315-81627679fa00"
      },
      "source": [
        "a = ['red', 'green', 'blue']\n",
        "a.append('yellow')\n",
        "print(a)"
      ],
      "execution_count": 14,
      "outputs": [
        {
          "output_type": "stream",
          "name": "stdout",
          "text": [
            "['red', 'green', 'blue', 'yellow']\n"
          ]
        }
      ]
    },
    {
      "cell_type": "code",
      "metadata": {
        "colab": {
          "base_uri": "https://localhost:8080/"
        },
        "id": "VZWmx0r14xOa",
        "outputId": "18107d43-6d83-4696-c0d3-b65e7a8bd929"
      },
      "source": [
        "b = [1, 2, 4]\n",
        "b.append([10, 20])\n",
        "b"
      ],
      "execution_count": 18,
      "outputs": [
        {
          "output_type": "execute_result",
          "data": {
            "text/plain": [
              "[1, 2, 4, [10, 20]]"
            ]
          },
          "metadata": {},
          "execution_count": 18
        }
      ]
    },
    {
      "cell_type": "code",
      "metadata": {
        "colab": {
          "base_uri": "https://localhost:8080/"
        },
        "id": "5_TBGJjU48dY",
        "outputId": "ee9f3c64-7ba1-4cf1-93a8-8a5edb6d4a5a"
      },
      "source": [
        "b = [1, 2, 4]\n",
        "b.extend([10, 20])\n",
        "b"
      ],
      "execution_count": 19,
      "outputs": [
        {
          "output_type": "execute_result",
          "data": {
            "text/plain": [
              "[1, 2, 4, 10, 20]"
            ]
          },
          "metadata": {},
          "execution_count": 19
        }
      ]
    },
    {
      "cell_type": "markdown",
      "metadata": {
        "id": "wz-dvAv14How"
      },
      "source": [
        "### 요소 삭제"
      ]
    },
    {
      "cell_type": "code",
      "metadata": {
        "colab": {
          "base_uri": "https://localhost:8080/",
          "height": 35
        },
        "id": "ewJUkHSf14Gx",
        "outputId": "8a9989e8-6c06-4e65-fd0a-0c3f8192f210"
      },
      "source": [
        "a.pop()"
      ],
      "execution_count": 15,
      "outputs": [
        {
          "output_type": "execute_result",
          "data": {
            "application/vnd.google.colaboratory.intrinsic+json": {
              "type": "string"
            },
            "text/plain": [
              "'yellow'"
            ]
          },
          "metadata": {},
          "execution_count": 15
        }
      ]
    },
    {
      "cell_type": "code",
      "metadata": {
        "colab": {
          "base_uri": "https://localhost:8080/"
        },
        "id": "swPy3QS-4Mty",
        "outputId": "34f070be-ed70-476c-fbf4-3229b64baa1a"
      },
      "source": [
        "a"
      ],
      "execution_count": 16,
      "outputs": [
        {
          "output_type": "execute_result",
          "data": {
            "text/plain": [
              "['red', 'green', 'blue']"
            ]
          },
          "metadata": {},
          "execution_count": 16
        }
      ]
    },
    {
      "cell_type": "code",
      "metadata": {
        "colab": {
          "base_uri": "https://localhost:8080/"
        },
        "id": "XXL6CJD04N-q",
        "outputId": "e40ea566-88cd-43ae-97b8-0b2ff4042e39"
      },
      "source": [
        "del a[1]\n",
        "a"
      ],
      "execution_count": 17,
      "outputs": [
        {
          "output_type": "execute_result",
          "data": {
            "text/plain": [
              "['red', 'blue']"
            ]
          },
          "metadata": {},
          "execution_count": 17
        }
      ]
    },
    {
      "cell_type": "markdown",
      "metadata": {
        "id": "KzLzcY1C5NYi"
      },
      "source": [
        "### 다양한 메소드"
      ]
    },
    {
      "cell_type": "code",
      "metadata": {
        "colab": {
          "base_uri": "https://localhost:8080/"
        },
        "id": "PaJmaSZz4WYz",
        "outputId": "4817cd7d-f11d-4af0-fd1c-c00ac991d95c"
      },
      "source": [
        "a.index('blue')"
      ],
      "execution_count": 20,
      "outputs": [
        {
          "output_type": "execute_result",
          "data": {
            "text/plain": [
              "1"
            ]
          },
          "metadata": {},
          "execution_count": 20
        }
      ]
    },
    {
      "cell_type": "code",
      "metadata": {
        "id": "k0APRH7p5G6z"
      },
      "source": [
        "b = [1, 4, 5, 2, 9]\n",
        "b.sort()                # 오름차순(ascending)"
      ],
      "execution_count": 21,
      "outputs": []
    },
    {
      "cell_type": "code",
      "metadata": {
        "colab": {
          "base_uri": "https://localhost:8080/"
        },
        "id": "1eAVTDak5UWp",
        "outputId": "77ff97e2-3d84-4d07-b918-7a1276964ae0"
      },
      "source": [
        "b"
      ],
      "execution_count": 22,
      "outputs": [
        {
          "output_type": "execute_result",
          "data": {
            "text/plain": [
              "[1, 2, 4, 5, 9]"
            ]
          },
          "metadata": {},
          "execution_count": 22
        }
      ]
    },
    {
      "cell_type": "code",
      "metadata": {
        "colab": {
          "base_uri": "https://localhost:8080/"
        },
        "id": "lRsFOYoD5VRy",
        "outputId": "b15173c4-8950-43ac-fde9-94f1b82a69cd"
      },
      "source": [
        "b.sort(reverse=True)    # 내림차순(descending)\n",
        "b"
      ],
      "execution_count": 23,
      "outputs": [
        {
          "output_type": "execute_result",
          "data": {
            "text/plain": [
              "[9, 5, 4, 2, 1]"
            ]
          },
          "metadata": {},
          "execution_count": 23
        }
      ]
    },
    {
      "cell_type": "markdown",
      "metadata": {
        "id": "hANJe_Lv8vAe"
      },
      "source": [
        "### map 함수"
      ]
    },
    {
      "cell_type": "code",
      "metadata": {
        "colab": {
          "base_uri": "https://localhost:8080/"
        },
        "id": "lliX675u8nl6",
        "outputId": "f432ec09-368a-42c9-c7a8-39f6d9cc8991"
      },
      "source": [
        "import math\n",
        "a = [1, 4, 9]\n",
        "list(map(math.sqrt, a))       # [1.0, 2.0, 3.0]"
      ],
      "execution_count": 24,
      "outputs": [
        {
          "output_type": "execute_result",
          "data": {
            "text/plain": [
              "[1.0, 2.0, 3.0]"
            ]
          },
          "metadata": {},
          "execution_count": 24
        }
      ]
    },
    {
      "cell_type": "code",
      "metadata": {
        "colab": {
          "base_uri": "https://localhost:8080/"
        },
        "id": "x-ksmqud8xlR",
        "outputId": "6340c33b-4b5a-4cb5-ac50-6642294c6cfc"
      },
      "source": [
        "x = int(input())\n",
        "y = int(input())\n",
        "print(x, y)"
      ],
      "execution_count": 25,
      "outputs": [
        {
          "output_type": "stream",
          "name": "stdout",
          "text": [
            "10\n",
            "20\n",
            "10 20\n"
          ]
        }
      ]
    },
    {
      "cell_type": "code",
      "metadata": {
        "colab": {
          "base_uri": "https://localhost:8080/",
          "height": 53
        },
        "id": "vosnJnbF9chm",
        "outputId": "53c53328-8848-4d5c-82e9-889056ad58ba"
      },
      "source": [
        "s = input()\n",
        "s"
      ],
      "execution_count": 26,
      "outputs": [
        {
          "name": "stdout",
          "output_type": "stream",
          "text": [
            "10 20\n"
          ]
        },
        {
          "output_type": "execute_result",
          "data": {
            "application/vnd.google.colaboratory.intrinsic+json": {
              "type": "string"
            },
            "text/plain": [
              "'10 20'"
            ]
          },
          "metadata": {},
          "execution_count": 26
        }
      ]
    },
    {
      "cell_type": "code",
      "metadata": {
        "colab": {
          "base_uri": "https://localhost:8080/"
        },
        "id": "5zL3X7ql9lLY",
        "outputId": "97e54477-a6a7-41c6-998b-c1bec1ebcd25"
      },
      "source": [
        "ss = s.split()\n",
        "ss"
      ],
      "execution_count": 28,
      "outputs": [
        {
          "output_type": "execute_result",
          "data": {
            "text/plain": [
              "['10', '20']"
            ]
          },
          "metadata": {},
          "execution_count": 28
        }
      ]
    },
    {
      "cell_type": "code",
      "metadata": {
        "colab": {
          "base_uri": "https://localhost:8080/"
        },
        "id": "rGImMoRr9rqd",
        "outputId": "ca651eb3-8f3b-4b78-936a-3712f4178540"
      },
      "source": [
        "list(map(int, ss))"
      ],
      "execution_count": 29,
      "outputs": [
        {
          "output_type": "execute_result",
          "data": {
            "text/plain": [
              "[10, 20]"
            ]
          },
          "metadata": {},
          "execution_count": 29
        }
      ]
    },
    {
      "cell_type": "code",
      "metadata": {
        "colab": {
          "base_uri": "https://localhost:8080/"
        },
        "id": "NLqSPI9697E6",
        "outputId": "65f80287-a11f-47b5-eba6-7de840d18b78"
      },
      "source": [
        "x, y = map(int, input().split())\n",
        "print(x, y)"
      ],
      "execution_count": 30,
      "outputs": [
        {
          "output_type": "stream",
          "name": "stdout",
          "text": [
            "10 20\n",
            "10 20\n"
          ]
        }
      ]
    },
    {
      "cell_type": "markdown",
      "metadata": {
        "id": "99vyn20p-dAm"
      },
      "source": [
        "### 리스트와 반복문"
      ]
    },
    {
      "cell_type": "code",
      "metadata": {
        "colab": {
          "base_uri": "https://localhost:8080/"
        },
        "id": "4xaNEGs--MHS",
        "outputId": "bb314c8d-d079-441f-fbaf-a6870f4529f7"
      },
      "source": [
        "a = []\n",
        "for _ in range(5):          # _ 는 변수의 값이 사용되지 않을 때 dummy 변수\n",
        "    x = int(input())\n",
        "    a.append(x)\n",
        "a"
      ],
      "execution_count": 31,
      "outputs": [
        {
          "name": "stdout",
          "output_type": "stream",
          "text": [
            "10\n",
            "20\n",
            "30\n",
            "40\n",
            "50\n"
          ]
        },
        {
          "output_type": "execute_result",
          "data": {
            "text/plain": [
              "[10, 20, 30, 40, 50]"
            ]
          },
          "metadata": {},
          "execution_count": 31
        }
      ]
    },
    {
      "cell_type": "code",
      "metadata": {
        "colab": {
          "base_uri": "https://localhost:8080/"
        },
        "id": "1wIsamQ4-vAX",
        "outputId": "8384b366-4299-4c11-81ad-a029cbafe89c"
      },
      "source": [
        "for fruit in fruits:\n",
        "    print(fruit)"
      ],
      "execution_count": 32,
      "outputs": [
        {
          "output_type": "stream",
          "name": "stdout",
          "text": [
            "사과\n",
            "오렌지\n",
            "딸기\n",
            "포도\n",
            "감\n",
            "키위\n",
            "멜론\n",
            "수박\n"
          ]
        }
      ]
    },
    {
      "cell_type": "code",
      "metadata": {
        "colab": {
          "base_uri": "https://localhost:8080/"
        },
        "id": "N_6FazAI_Umi",
        "outputId": "37d5276d-2611-4e36-ce24-a289b225323c"
      },
      "source": [
        "for index, fruit in enumerate(fruits):\n",
        "    print(index, fruit)"
      ],
      "execution_count": 33,
      "outputs": [
        {
          "output_type": "stream",
          "name": "stdout",
          "text": [
            "0 사과\n",
            "1 오렌지\n",
            "2 딸기\n",
            "3 포도\n",
            "4 감\n",
            "5 키위\n",
            "6 멜론\n",
            "7 수박\n"
          ]
        }
      ]
    },
    {
      "cell_type": "markdown",
      "metadata": {
        "id": "LCX4g1R-_47t"
      },
      "source": [
        "### 리스트 표현식(Comprehension)"
      ]
    },
    {
      "cell_type": "code",
      "metadata": {
        "colab": {
          "base_uri": "https://localhost:8080/"
        },
        "id": "U5CLMMqf_eKU",
        "outputId": "c406f534-b90c-4521-bca9-bb803e3ba6fe"
      },
      "source": [
        "sq_list = []\n",
        "for i in range(1, 11):\n",
        "    sq_list.append(i * i)\n",
        "sq_list"
      ],
      "execution_count": 34,
      "outputs": [
        {
          "output_type": "execute_result",
          "data": {
            "text/plain": [
              "[1, 4, 9, 16, 25, 36, 49, 64, 81, 100]"
            ]
          },
          "metadata": {},
          "execution_count": 34
        }
      ]
    },
    {
      "cell_type": "code",
      "metadata": {
        "colab": {
          "base_uri": "https://localhost:8080/"
        },
        "id": "40WEhJUnAKlg",
        "outputId": "c65c366f-db6e-4676-e86b-e7860b30d97a"
      },
      "source": [
        "sq_comp = [i*i for i in range(1,11)]        # 리스트 표현식\n",
        "sq_comp"
      ],
      "execution_count": 35,
      "outputs": [
        {
          "output_type": "execute_result",
          "data": {
            "text/plain": [
              "[1, 4, 9, 16, 25, 36, 49, 64, 81, 100]"
            ]
          },
          "metadata": {},
          "execution_count": 35
        }
      ]
    },
    {
      "cell_type": "code",
      "metadata": {
        "id": "Q_p7uTMLAUF2"
      },
      "source": [
        ""
      ],
      "execution_count": null,
      "outputs": []
    }
  ]
}