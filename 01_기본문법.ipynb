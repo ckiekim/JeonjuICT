{
  "nbformat": 4,
  "nbformat_minor": 0,
  "metadata": {
    "colab": {
      "name": "02_기본문법.ipynb",
      "provenance": [],
      "collapsed_sections": []
    },
    "kernelspec": {
      "name": "python3",
      "display_name": "Python 3"
    },
    "language_info": {
      "name": "python"
    }
  },
  "cells": [
    {
      "cell_type": "markdown",
      "metadata": {
        "id": "CtZ5TT7a8g8d"
      },
      "source": [
        "# 기본 문법"
      ]
    },
    {
      "cell_type": "markdown",
      "metadata": {
        "id": "B4NQTcyR8mSc"
      },
      "source": [
        "### 데이터 형(type)"
      ]
    },
    {
      "cell_type": "code",
      "metadata": {
        "colab": {
          "base_uri": "https://localhost:8080/"
        },
        "id": "KuAH-P-06VuG",
        "outputId": "fd7fb0d4-8c85-4450-a819-b05f5ba06407"
      },
      "source": [
        "a = ['홍길동', 32, '010-2222-3333', 'hong@korea.com']\n",
        "type(a)"
      ],
      "execution_count": 1,
      "outputs": [
        {
          "output_type": "execute_result",
          "data": {
            "text/plain": [
              "list"
            ]
          },
          "metadata": {},
          "execution_count": 1
        }
      ]
    },
    {
      "cell_type": "code",
      "metadata": {
        "colab": {
          "base_uri": "https://localhost:8080/"
        },
        "id": "kG9fwyRr9Dp9",
        "outputId": "5c004133-87b3-428d-d905-23d93c6b55fb"
      },
      "source": [
        "b = {'name':'홍길동', 'age':32, 'tel':'010-2222-3333', 'email':'hong@korea.com'}\n",
        "type(b)"
      ],
      "execution_count": 2,
      "outputs": [
        {
          "output_type": "execute_result",
          "data": {
            "text/plain": [
              "dict"
            ]
          },
          "metadata": {},
          "execution_count": 2
        }
      ]
    },
    {
      "cell_type": "code",
      "metadata": {
        "colab": {
          "base_uri": "https://localhost:8080/"
        },
        "id": "fROsc4ZN9XF0",
        "outputId": "ea3ab8bc-e2ae-4fa7-a96b-b836f43fea1c"
      },
      "source": [
        "person_info = {'name':'홍길동', 'age':32, 'tel':'010-2222-3333', 'email':'hong@korea.com'}\n",
        "person_info"
      ],
      "execution_count": 3,
      "outputs": [
        {
          "output_type": "execute_result",
          "data": {
            "text/plain": [
              "{'age': 32, 'email': 'hong@korea.com', 'name': '홍길동', 'tel': '010-2222-3333'}"
            ]
          },
          "metadata": {},
          "execution_count": 3
        }
      ]
    },
    {
      "cell_type": "code",
      "metadata": {
        "id": "YDsTITuaBH6G"
      },
      "source": [
        "# camel notation: personInfo - Java\n",
        "# snake notation: person_info - Python"
      ],
      "execution_count": null,
      "outputs": []
    },
    {
      "cell_type": "markdown",
      "metadata": {
        "id": "_h31x3vEDGr2"
      },
      "source": [
        "### 문자열 연산자"
      ]
    },
    {
      "cell_type": "code",
      "metadata": {
        "colab": {
          "base_uri": "https://localhost:8080/",
          "height": 35
        },
        "id": "oPTwrRaPDFW4",
        "outputId": "75b5f9f5-e1f6-4be1-ea90-530a7a3493e5"
      },
      "source": [
        "'===' * 5"
      ],
      "execution_count": 4,
      "outputs": [
        {
          "output_type": "execute_result",
          "data": {
            "application/vnd.google.colaboratory.intrinsic+json": {
              "type": "string"
            },
            "text/plain": [
              "'==============='"
            ]
          },
          "metadata": {},
          "execution_count": 4
        }
      ]
    },
    {
      "cell_type": "code",
      "metadata": {
        "colab": {
          "base_uri": "https://localhost:8080/",
          "height": 35
        },
        "id": "eY287ZIFBtTY",
        "outputId": "f190a4ea-a90c-42cd-e18d-38002cd9b0d0"
      },
      "source": [
        "'===' + '---'"
      ],
      "execution_count": 5,
      "outputs": [
        {
          "output_type": "execute_result",
          "data": {
            "application/vnd.google.colaboratory.intrinsic+json": {
              "type": "string"
            },
            "text/plain": [
              "'===---'"
            ]
          },
          "metadata": {},
          "execution_count": 5
        }
      ]
    },
    {
      "cell_type": "code",
      "metadata": {
        "colab": {
          "base_uri": "https://localhost:8080/"
        },
        "id": "fjVkhnfnDT4f",
        "outputId": "bd91385b-a70c-4ddb-c0a4-d0c7667f2cd1"
      },
      "source": [
        "len('==='), len('안녕')"
      ],
      "execution_count": 7,
      "outputs": [
        {
          "output_type": "execute_result",
          "data": {
            "text/plain": [
              "(3, 2)"
            ]
          },
          "metadata": {},
          "execution_count": 7
        }
      ]
    },
    {
      "cell_type": "code",
      "metadata": {
        "colab": {
          "base_uri": "https://localhost:8080/",
          "height": 35
        },
        "id": "Jw0vicj2DYoE",
        "outputId": "be35c55c-e430-4e36-e33d-0a833d2dbbaf"
      },
      "source": [
        "'abc' + str(5)           # abc5"
      ],
      "execution_count": 9,
      "outputs": [
        {
          "output_type": "execute_result",
          "data": {
            "application/vnd.google.colaboratory.intrinsic+json": {
              "type": "string"
            },
            "text/plain": [
              "'abc5'"
            ]
          },
          "metadata": {},
          "execution_count": 9
        }
      ]
    },
    {
      "cell_type": "code",
      "metadata": {
        "colab": {
          "base_uri": "https://localhost:8080/"
        },
        "id": "_i6k2UkoDw_p",
        "outputId": "0c8fdb9d-db2d-4017-ed7e-a78d90ccbc43"
      },
      "source": [
        "x = 10\n",
        "y = 20\n",
        "# x = 10, y = 20\n",
        "print(f'x = {x}, y = {y}')"
      ],
      "execution_count": 10,
      "outputs": [
        {
          "output_type": "stream",
          "name": "stdout",
          "text": [
            "x = 10, y = 20\n"
          ]
        }
      ]
    },
    {
      "cell_type": "code",
      "metadata": {
        "colab": {
          "base_uri": "https://localhost:8080/"
        },
        "id": "vFVdEYMZEe80",
        "outputId": "56411d5b-f95e-4f8d-f0b2-18ab827af4dd"
      },
      "source": [
        "s = 'A quick brown fox'\n",
        "s.count('o')"
      ],
      "execution_count": 14,
      "outputs": [
        {
          "output_type": "execute_result",
          "data": {
            "text/plain": [
              "2"
            ]
          },
          "metadata": {},
          "execution_count": 14
        }
      ]
    },
    {
      "cell_type": "code",
      "metadata": {
        "colab": {
          "base_uri": "https://localhost:8080/"
        },
        "id": "qeFUTaq6E-C9",
        "outputId": "9adf96ee-67fb-48f6-d354-47365d69d8ff"
      },
      "source": [
        "s.find('o')"
      ],
      "execution_count": 13,
      "outputs": [
        {
          "output_type": "execute_result",
          "data": {
            "text/plain": [
              "10"
            ]
          },
          "metadata": {},
          "execution_count": 13
        }
      ]
    },
    {
      "cell_type": "code",
      "metadata": {
        "colab": {
          "base_uri": "https://localhost:8080/",
          "height": 35
        },
        "id": "Jf_bpYP-F4kY",
        "outputId": "64907cf5-695f-474e-e9e7-f34e2b65e5e4"
      },
      "source": [
        "s[10]"
      ],
      "execution_count": 15,
      "outputs": [
        {
          "output_type": "execute_result",
          "data": {
            "application/vnd.google.colaboratory.intrinsic+json": {
              "type": "string"
            },
            "text/plain": [
              "'o'"
            ]
          },
          "metadata": {},
          "execution_count": 15
        }
      ]
    },
    {
      "cell_type": "code",
      "metadata": {
        "colab": {
          "base_uri": "https://localhost:8080/",
          "height": 35
        },
        "id": "sANwRCK6FeSh",
        "outputId": "53109fbe-bbc0-4d48-8c19-e20ebb1a6e76"
      },
      "source": [
        "s.replace('fox', 'cat')"
      ],
      "execution_count": 16,
      "outputs": [
        {
          "output_type": "execute_result",
          "data": {
            "application/vnd.google.colaboratory.intrinsic+json": {
              "type": "string"
            },
            "text/plain": [
              "'A quick brown cat'"
            ]
          },
          "metadata": {},
          "execution_count": 16
        }
      ]
    },
    {
      "cell_type": "code",
      "metadata": {
        "colab": {
          "base_uri": "https://localhost:8080/"
        },
        "id": "YxDsRhYJGAZ4",
        "outputId": "066b666b-de09-456d-e71d-cbf60c9635ee"
      },
      "source": [
        "s.split()       # 공백기준으로 분리한 후 리스트 형태로 결과를 알려줌"
      ],
      "execution_count": 17,
      "outputs": [
        {
          "output_type": "execute_result",
          "data": {
            "text/plain": [
              "['A', 'quick', 'brown', 'fox']"
            ]
          },
          "metadata": {},
          "execution_count": 17
        }
      ]
    },
    {
      "cell_type": "markdown",
      "metadata": {
        "id": "l_0CFLKeGYnW"
      },
      "source": [
        "### 화면 출력"
      ]
    },
    {
      "cell_type": "code",
      "metadata": {
        "colab": {
          "base_uri": "https://localhost:8080/"
        },
        "id": "jh9zj5L_GDqf",
        "outputId": "81cd3574-f1f2-4a9a-cba8-1d88ab218816"
      },
      "source": [
        "x, y            # tuple"
      ],
      "execution_count": 19,
      "outputs": [
        {
          "output_type": "execute_result",
          "data": {
            "text/plain": [
              "(10, 20)"
            ]
          },
          "metadata": {},
          "execution_count": 19
        }
      ]
    },
    {
      "cell_type": "code",
      "metadata": {
        "colab": {
          "base_uri": "https://localhost:8080/"
        },
        "id": "7FbDIURtGgCs",
        "outputId": "946057bf-99d0-490f-e641-6e68284ddf15"
      },
      "source": [
        "x\n",
        "y"
      ],
      "execution_count": 21,
      "outputs": [
        {
          "output_type": "execute_result",
          "data": {
            "text/plain": [
              "20"
            ]
          },
          "metadata": {},
          "execution_count": 21
        }
      ]
    },
    {
      "cell_type": "code",
      "metadata": {
        "colab": {
          "base_uri": "https://localhost:8080/"
        },
        "id": "zGro93d0GoBO",
        "outputId": "dfb88304-f24b-47bf-c784-a747d1c0d689"
      },
      "source": [
        "print(x, end=', ')\n",
        "print(y)"
      ],
      "execution_count": 24,
      "outputs": [
        {
          "output_type": "stream",
          "name": "stdout",
          "text": [
            "10, 20\n"
          ]
        }
      ]
    },
    {
      "cell_type": "code",
      "metadata": {
        "colab": {
          "base_uri": "https://localhost:8080/"
        },
        "id": "pz6NtZMTGtH4",
        "outputId": "5db3ad27-c164-4fe6-933d-bae3e23be675"
      },
      "source": [
        "print(x, y, sep=', ')"
      ],
      "execution_count": 25,
      "outputs": [
        {
          "output_type": "stream",
          "name": "stdout",
          "text": [
            "10, 20\n"
          ]
        }
      ]
    },
    {
      "cell_type": "code",
      "metadata": {
        "colab": {
          "base_uri": "https://localhost:8080/"
        },
        "id": "VOTUeU_oG8y7",
        "outputId": "cc52f4ee-1e23-494c-d666-57248d5afd84"
      },
      "source": [
        "print(x, '\\n', y, sep='')"
      ],
      "execution_count": 27,
      "outputs": [
        {
          "output_type": "stream",
          "name": "stdout",
          "text": [
            "10\n",
            "20\n"
          ]
        }
      ]
    },
    {
      "cell_type": "code",
      "metadata": {
        "id": "2Y2Fxb-hHtSw"
      },
      "source": [
        ""
      ],
      "execution_count": null,
      "outputs": []
    }
  ]
}