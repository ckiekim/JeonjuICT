{
  "nbformat": 4,
  "nbformat_minor": 0,
  "metadata": {
    "colab": {
      "name": "01_HelloWorld.ipynb",
      "provenance": [],
      "collapsed_sections": []
    },
    "kernelspec": {
      "name": "python3",
      "display_name": "Python 3"
    },
    "language_info": {
      "name": "python"
    }
  },
  "cells": [
    {
      "cell_type": "markdown",
      "metadata": {
        "id": "JcQuxmCK1hr7"
      },
      "source": [
        "# Hello World 출력하기"
      ]
    },
    {
      "cell_type": "code",
      "metadata": {
        "colab": {
          "base_uri": "https://localhost:8080/"
        },
        "id": "z75D1B6u0nEi",
        "outputId": "0fab7969-d8f6-49ca-e907-0a6d8a5a1afb"
      },
      "source": [
        "print('Hello, World!!!')"
      ],
      "execution_count": 1,
      "outputs": [
        {
          "output_type": "stream",
          "name": "stdout",
          "text": [
            "Hello, World!!!\n"
          ]
        }
      ]
    },
    {
      "cell_type": "code",
      "metadata": {
        "colab": {
          "base_uri": "https://localhost:8080/"
        },
        "id": "VkUkbtys112J",
        "outputId": "529d9057-8236-45a1-cacd-8f8194714eb2"
      },
      "source": [
        "print('안녕하세요? 여러분!!!')"
      ],
      "execution_count": 2,
      "outputs": [
        {
          "output_type": "stream",
          "name": "stdout",
          "text": [
            "안녕하세요? 여러분!!!\n"
          ]
        }
      ]
    },
    {
      "cell_type": "code",
      "metadata": {
        "colab": {
          "base_uri": "https://localhost:8080/"
        },
        "id": "JzCZa-nL2CQ1",
        "outputId": "dddfa0cb-3969-4943-a9c1-d14280339a2c"
      },
      "source": [
        "!python --version"
      ],
      "execution_count": 3,
      "outputs": [
        {
          "output_type": "stream",
          "name": "stdout",
          "text": [
            "Python 3.7.12\n"
          ]
        }
      ]
    },
    {
      "cell_type": "code",
      "metadata": {
        "colab": {
          "base_uri": "https://localhost:8080/"
        },
        "id": "rMtHj0Du4K6P",
        "outputId": "f5d64aeb-a77f-4846-f4d0-c52503488626"
      },
      "source": [
        "# 1~10 까지 정수의 합\n",
        "sum = 0\n",
        "for i in range(1,11):\n",
        "    sum += i            # sum = sum + i\n",
        "print(sum)"
      ],
      "execution_count": 4,
      "outputs": [
        {
          "output_type": "stream",
          "name": "stdout",
          "text": [
            "55\n"
          ]
        }
      ]
    },
    {
      "cell_type": "code",
      "metadata": {
        "id": "PxG_gFow5mXl"
      },
      "source": [
        ""
      ],
      "execution_count": null,
      "outputs": []
    }
  ]
}