{
  "nbformat": 4,
  "nbformat_minor": 0,
  "metadata": {
    "colab": {
      "name": "03_반복문.ipynb",
      "provenance": [],
      "collapsed_sections": []
    },
    "kernelspec": {
      "name": "python3",
      "display_name": "Python 3"
    },
    "language_info": {
      "name": "python"
    }
  },
  "cells": [
    {
      "cell_type": "markdown",
      "metadata": {
        "id": "4c1zu6oURqna"
      },
      "source": [
        "# 반복문"
      ]
    },
    {
      "cell_type": "markdown",
      "metadata": {
        "id": "8F88xMzIRvji"
      },
      "source": [
        "### for 반복문 - 횟수를 아는 경우 사용"
      ]
    },
    {
      "cell_type": "code",
      "metadata": {
        "colab": {
          "base_uri": "https://localhost:8080/"
        },
        "id": "P063LuUnRWl7",
        "outputId": "5df70d53-2e0b-41bc-c399-954618d50178"
      },
      "source": [
        "sum([1,2,3])"
      ],
      "execution_count": 1,
      "outputs": [
        {
          "output_type": "execute_result",
          "data": {
            "text/plain": [
              "6"
            ]
          },
          "metadata": {},
          "execution_count": 1
        }
      ]
    },
    {
      "cell_type": "code",
      "metadata": {
        "colab": {
          "base_uri": "https://localhost:8080/"
        },
        "id": "-UD098nOSbw4",
        "outputId": "717027cc-0834-4169-e9b4-cdcdff27c867"
      },
      "source": [
        "2 in [1, 2, 3]"
      ],
      "execution_count": 3,
      "outputs": [
        {
          "output_type": "execute_result",
          "data": {
            "text/plain": [
              "True"
            ]
          },
          "metadata": {},
          "execution_count": 3
        }
      ]
    },
    {
      "cell_type": "code",
      "metadata": {
        "colab": {
          "base_uri": "https://localhost:8080/"
        },
        "id": "4FR89IJhR6pX",
        "outputId": "aa968b4f-171f-4bb9-f9d2-8f5167613fed"
      },
      "source": [
        "sum_1_10 = 0\n",
        "for i in range(1, 11):\n",
        "    sum_1_10 += i\n",
        "print(sum_1_10)"
      ],
      "execution_count": 6,
      "outputs": [
        {
          "output_type": "stream",
          "name": "stdout",
          "text": [
            "55\n"
          ]
        }
      ]
    },
    {
      "cell_type": "code",
      "metadata": {
        "colab": {
          "base_uri": "https://localhost:8080/"
        },
        "id": "-Q7cYHADTPh1",
        "outputId": "84964dbb-7460-4935-891b-e2321e16b1ba"
      },
      "source": [
        "product = 1\n",
        "for i in range(1, 11):\n",
        "    product *= i\n",
        "print(product)"
      ],
      "execution_count": 10,
      "outputs": [
        {
          "output_type": "stream",
          "name": "stdout",
          "text": [
            "3628800\n"
          ]
        }
      ]
    },
    {
      "cell_type": "markdown",
      "metadata": {
        "id": "kiein_6DU7wQ"
      },
      "source": [
        "### while 반복문 - 횟수를 모를 때"
      ]
    },
    {
      "cell_type": "code",
      "metadata": {
        "id": "0Xn68X7nTzJj"
      },
      "source": [
        "import random\n",
        "random.seed(2021)"
      ],
      "execution_count": 14,
      "outputs": []
    },
    {
      "cell_type": "code",
      "metadata": {
        "colab": {
          "base_uri": "https://localhost:8080/"
        },
        "id": "Fb1y-kSoUJnG",
        "outputId": "86961b59-a8fb-476c-de2e-3bd4568fa8ef"
      },
      "source": [
        "dice = 0\n",
        "while True:\n",
        "    i = random.randint(1, 6)\n",
        "    dice += i\n",
        "    print(i)\n",
        "    if i == 6:\n",
        "        break               # 한단계 밖으로 탈출\n",
        "print(dice)"
      ],
      "execution_count": 15,
      "outputs": [
        {
          "output_type": "stream",
          "name": "stdout",
          "text": [
            "4\n",
            "6\n",
            "10\n"
          ]
        }
      ]
    },
    {
      "cell_type": "markdown",
      "metadata": {
        "id": "3i6deFxKVODU"
      },
      "source": [
        "### 중첩 for 반복문"
      ]
    },
    {
      "cell_type": "code",
      "metadata": {
        "colab": {
          "base_uri": "https://localhost:8080/"
        },
        "id": "m3Y2vTLsUyyl",
        "outputId": "2af2e184-2a74-4f21-a3f6-a57abf9dcceb"
      },
      "source": [
        "# 구구단\n",
        "print('-' * 50)\n",
        "for i in range(2, 10):\n",
        "    for k in range(1, 10):\n",
        "        print(f'{i} * {k} = {i*k}')\n",
        "    print('-' * 50)"
      ],
      "execution_count": 16,
      "outputs": [
        {
          "output_type": "stream",
          "name": "stdout",
          "text": [
            "--------------------------------------------------\n",
            "2 * 1 = 2\n",
            "2 * 2 = 4\n",
            "2 * 3 = 6\n",
            "2 * 4 = 8\n",
            "2 * 5 = 10\n",
            "2 * 6 = 12\n",
            "2 * 7 = 14\n",
            "2 * 8 = 16\n",
            "2 * 9 = 18\n",
            "--------------------------------------------------\n",
            "3 * 1 = 3\n",
            "3 * 2 = 6\n",
            "3 * 3 = 9\n",
            "3 * 4 = 12\n",
            "3 * 5 = 15\n",
            "3 * 6 = 18\n",
            "3 * 7 = 21\n",
            "3 * 8 = 24\n",
            "3 * 9 = 27\n",
            "--------------------------------------------------\n",
            "4 * 1 = 4\n",
            "4 * 2 = 8\n",
            "4 * 3 = 12\n",
            "4 * 4 = 16\n",
            "4 * 5 = 20\n",
            "4 * 6 = 24\n",
            "4 * 7 = 28\n",
            "4 * 8 = 32\n",
            "4 * 9 = 36\n",
            "--------------------------------------------------\n",
            "5 * 1 = 5\n",
            "5 * 2 = 10\n",
            "5 * 3 = 15\n",
            "5 * 4 = 20\n",
            "5 * 5 = 25\n",
            "5 * 6 = 30\n",
            "5 * 7 = 35\n",
            "5 * 8 = 40\n",
            "5 * 9 = 45\n",
            "--------------------------------------------------\n",
            "6 * 1 = 6\n",
            "6 * 2 = 12\n",
            "6 * 3 = 18\n",
            "6 * 4 = 24\n",
            "6 * 5 = 30\n",
            "6 * 6 = 36\n",
            "6 * 7 = 42\n",
            "6 * 8 = 48\n",
            "6 * 9 = 54\n",
            "--------------------------------------------------\n",
            "7 * 1 = 7\n",
            "7 * 2 = 14\n",
            "7 * 3 = 21\n",
            "7 * 4 = 28\n",
            "7 * 5 = 35\n",
            "7 * 6 = 42\n",
            "7 * 7 = 49\n",
            "7 * 8 = 56\n",
            "7 * 9 = 63\n",
            "--------------------------------------------------\n",
            "8 * 1 = 8\n",
            "8 * 2 = 16\n",
            "8 * 3 = 24\n",
            "8 * 4 = 32\n",
            "8 * 5 = 40\n",
            "8 * 6 = 48\n",
            "8 * 7 = 56\n",
            "8 * 8 = 64\n",
            "8 * 9 = 72\n",
            "--------------------------------------------------\n",
            "9 * 1 = 9\n",
            "9 * 2 = 18\n",
            "9 * 3 = 27\n",
            "9 * 4 = 36\n",
            "9 * 5 = 45\n",
            "9 * 6 = 54\n",
            "9 * 7 = 63\n",
            "9 * 8 = 72\n",
            "9 * 9 = 81\n",
            "--------------------------------------------------\n"
          ]
        }
      ]
    },
    {
      "cell_type": "code",
      "metadata": {
        "colab": {
          "base_uri": "https://localhost:8080/"
        },
        "id": "fEp-IIdAVZpA",
        "outputId": "744478b5-2c02-407e-8392-32c8ed47d6da"
      },
      "source": [
        "# 별모양 그리기\n",
        "for i in range(1, 6):       # range(1, 6, 1)\n",
        "    for k in range(i):      # range(0, i, 1)\n",
        "        print('*', end='')\n",
        "    print()"
      ],
      "execution_count": 17,
      "outputs": [
        {
          "output_type": "stream",
          "name": "stdout",
          "text": [
            "*\n",
            "**\n",
            "***\n",
            "****\n",
            "*****\n"
          ]
        }
      ]
    },
    {
      "cell_type": "code",
      "metadata": {
        "colab": {
          "base_uri": "https://localhost:8080/"
        },
        "id": "JSZMRJ2vWnGe",
        "outputId": "6548bcff-04b6-423e-f45b-61eaca5785e5"
      },
      "source": [
        "for i in range(5, 0, -1):\n",
        "    for k in range(i):\n",
        "        print('*', end='')\n",
        "    print()"
      ],
      "execution_count": 20,
      "outputs": [
        {
          "output_type": "stream",
          "name": "stdout",
          "text": [
            "*****\n",
            "****\n",
            "***\n",
            "**\n",
            "*\n"
          ]
        }
      ]
    },
    {
      "cell_type": "code",
      "metadata": {
        "colab": {
          "base_uri": "https://localhost:8080/"
        },
        "id": "vIYkcaPxXSMe",
        "outputId": "ac850528-3dfe-4c15-c285-be3125db490e"
      },
      "source": [
        "for elem in ['apple', 'banana', 'cherry']:\n",
        "    print(elem)"
      ],
      "execution_count": 21,
      "outputs": [
        {
          "output_type": "stream",
          "name": "stdout",
          "text": [
            "apple\n",
            "banana\n",
            "cherry\n"
          ]
        }
      ]
    },
    {
      "cell_type": "code",
      "metadata": {
        "colab": {
          "base_uri": "https://localhost:8080/"
        },
        "id": "YBprXfjCX0f1",
        "outputId": "a26f1847-22c4-4d7a-ba55-7259a238e9e6"
      },
      "source": [
        "for c in 'string':\n",
        "    print(c)"
      ],
      "execution_count": 22,
      "outputs": [
        {
          "output_type": "stream",
          "name": "stdout",
          "text": [
            "s\n",
            "t\n",
            "r\n",
            "i\n",
            "n\n",
            "g\n"
          ]
        }
      ]
    },
    {
      "cell_type": "code",
      "metadata": {
        "id": "pZi31cSFX7qs"
      },
      "source": [
        ""
      ],
      "execution_count": null,
      "outputs": []
    }
  ]
}