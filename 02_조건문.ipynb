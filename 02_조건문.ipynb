{
  "nbformat": 4,
  "nbformat_minor": 0,
  "metadata": {
    "colab": {
      "name": "02_조건문.ipynb",
      "provenance": [],
      "collapsed_sections": []
    },
    "kernelspec": {
      "name": "python3",
      "display_name": "Python 3"
    },
    "language_info": {
      "name": "python"
    }
  },
  "cells": [
    {
      "cell_type": "markdown",
      "metadata": {
        "id": "NSIo9aIiI-nq"
      },
      "source": [
        "# 조건문"
      ]
    },
    {
      "cell_type": "code",
      "metadata": {
        "colab": {
          "base_uri": "https://localhost:8080/"
        },
        "id": "jhM59ixaIeY4",
        "outputId": "e1d6ce7d-f6c7-4857-be1b-dc968dddb66e"
      },
      "source": [
        "x = int(input())"
      ],
      "execution_count": 6,
      "outputs": [
        {
          "name": "stdout",
          "output_type": "stream",
          "text": [
            "9\n"
          ]
        }
      ]
    },
    {
      "cell_type": "code",
      "metadata": {
        "colab": {
          "base_uri": "https://localhost:8080/"
        },
        "id": "TvS4mbjGJTLg",
        "outputId": "e9540d38-852c-4928-b173-d99ee3d7bcdd"
      },
      "source": [
        "if x == 10:\n",
        "    print('x값은')\n",
        "    print('10입니다.')\n",
        "print('언제나 출력됩니다.')"
      ],
      "execution_count": 8,
      "outputs": [
        {
          "output_type": "stream",
          "name": "stdout",
          "text": [
            "언제나 출력됩니다.\n"
          ]
        }
      ]
    },
    {
      "cell_type": "code",
      "metadata": {
        "colab": {
          "base_uri": "https://localhost:8080/"
        },
        "id": "3ZW4CjiWJWoP",
        "outputId": "5b4570b9-388e-41fc-9e55-5c75e02ed629"
      },
      "source": [
        "if x > 8 and x < 12:\n",
        "    print('x값은 8보다는 크고 12보다는 작습니다.')"
      ],
      "execution_count": 9,
      "outputs": [
        {
          "output_type": "stream",
          "name": "stdout",
          "text": [
            "x값은 8보다는 크고 12보다는 작습니다.\n"
          ]
        }
      ]
    },
    {
      "cell_type": "code",
      "metadata": {
        "colab": {
          "base_uri": "https://localhost:8080/"
        },
        "id": "_BEqfc4gKhF6",
        "outputId": "f5ac5ba6-b325-4bd0-8ab1-b84dc899f33c"
      },
      "source": [
        "if 8 < x < 12:\n",
        "    print('x값은 8보다는 크고 12보다는 작습니다.')"
      ],
      "execution_count": 10,
      "outputs": [
        {
          "output_type": "stream",
          "name": "stdout",
          "text": [
            "x값은 8보다는 크고 12보다는 작습니다.\n"
          ]
        }
      ]
    },
    {
      "cell_type": "markdown",
      "metadata": {
        "id": "ZH8LO96nK053"
      },
      "source": [
        "### if ~ else"
      ]
    },
    {
      "cell_type": "code",
      "metadata": {
        "colab": {
          "base_uri": "https://localhost:8080/"
        },
        "id": "TeYFLkjzKpdw",
        "outputId": "d34465dd-6ca8-4baa-f9cf-1fa10deff883"
      },
      "source": [
        "x = int(input())\n",
        "\n",
        "if x % 2 == 0:\n",
        "    y = 'even'\n",
        "else:\n",
        "    y = 'odd'\n",
        "print(y)"
      ],
      "execution_count": 11,
      "outputs": [
        {
          "output_type": "stream",
          "name": "stdout",
          "text": [
            "3\n",
            "odd\n"
          ]
        }
      ]
    },
    {
      "cell_type": "markdown",
      "metadata": {
        "id": "jJv3zICeOgp2"
      },
      "source": [
        "### 3항 연산자"
      ]
    },
    {
      "cell_type": "code",
      "metadata": {
        "colab": {
          "base_uri": "https://localhost:8080/"
        },
        "id": "agl1tV3FLJoY",
        "outputId": "1ae65fc0-61fa-41f9-8e43-c049dde236cb"
      },
      "source": [
        "x = int(input())\n",
        "y = 'even' if x % 2 == 0 else 'odd'\n",
        "print(y)"
      ],
      "execution_count": 12,
      "outputs": [
        {
          "output_type": "stream",
          "name": "stdout",
          "text": [
            "4\n",
            "even\n"
          ]
        }
      ]
    },
    {
      "cell_type": "markdown",
      "metadata": {
        "id": "esU8Yi6UO6My"
      },
      "source": [
        "### if ~ elif ~ elif ~ else ~"
      ]
    },
    {
      "cell_type": "code",
      "metadata": {
        "colab": {
          "base_uri": "https://localhost:8080/"
        },
        "id": "ZKxMQODjOyR4",
        "outputId": "943b20d2-0909-4180-d2c1-47f95ce4938c"
      },
      "source": [
        "# Fizz-Buzz : 3의 배수면 Fizz, 5의 배수면 Buzz, 15의 배수면 FizzBuzz, 아니면 숫자를 출력\n",
        "x = int(input())\n",
        "if x % 3 == 0:\n",
        "    print('Fizz')\n",
        "elif x % 5 == 0:\n",
        "    print('Buzz')\n",
        "elif x % 15 == 0:\n",
        "    print('FizzBuzz')\n",
        "else:\n",
        "    print(x)"
      ],
      "execution_count": 15,
      "outputs": [
        {
          "output_type": "stream",
          "name": "stdout",
          "text": [
            "15\n",
            "Fizz\n"
          ]
        }
      ]
    },
    {
      "cell_type": "code",
      "metadata": {
        "colab": {
          "base_uri": "https://localhost:8080/"
        },
        "id": "Vl5MpxEYPjR3",
        "outputId": "7f159cac-8a27-429c-90ca-b6a026802b24"
      },
      "source": [
        "x = int(input())\n",
        "if x % 15 == 0:\n",
        "    print('FizzBuzz')\n",
        "elif x % 5 == 0:\n",
        "    print('Buzz')\n",
        "elif x % 3 == 0:\n",
        "    print('Fizz')\n",
        "else:\n",
        "    print(x)"
      ],
      "execution_count": 16,
      "outputs": [
        {
          "output_type": "stream",
          "name": "stdout",
          "text": [
            "15\n",
            "FizzBuzz\n"
          ]
        }
      ]
    },
    {
      "cell_type": "code",
      "metadata": {
        "colab": {
          "base_uri": "https://localhost:8080/"
        },
        "id": "jGXxX4AbP3qS",
        "outputId": "a606ff58-ab57-4c99-8eb5-5a58b9fdc398"
      },
      "source": [
        "x = int(input())\n",
        "print('Fizz'*(x % 3 == 0) + 'Buzz'*(x % 5 == 0) or x)"
      ],
      "execution_count": 20,
      "outputs": [
        {
          "output_type": "stream",
          "name": "stdout",
          "text": [
            "4\n",
            "4\n"
          ]
        }
      ]
    },
    {
      "cell_type": "code",
      "metadata": {
        "id": "rT2YrBNTQXM_"
      },
      "source": [
        ""
      ],
      "execution_count": null,
      "outputs": []
    }
  ]
}