{
  "nbformat": 4,
  "nbformat_minor": 0,
  "metadata": {
    "colab": {
      "name": "06_함수.ipynb",
      "provenance": [],
      "collapsed_sections": []
    },
    "kernelspec": {
      "name": "python3",
      "display_name": "Python 3"
    },
    "language_info": {
      "name": "python"
    }
  },
  "cells": [
    {
      "cell_type": "markdown",
      "metadata": {
        "id": "agMSKVs3H3jg"
      },
      "source": [
        "# 함수"
      ]
    },
    {
      "cell_type": "code",
      "metadata": {
        "id": "NXAWq1vbH2wN"
      },
      "source": [
        "def hello():\n",
        "    print('Hello')"
      ],
      "execution_count": 1,
      "outputs": []
    },
    {
      "cell_type": "code",
      "metadata": {
        "colab": {
          "base_uri": "https://localhost:8080/"
        },
        "id": "H-PcCWs1MJxU",
        "outputId": "d7125c22-3280-41f1-9f42-65665c814a1f"
      },
      "source": [
        "hello()"
      ],
      "execution_count": 2,
      "outputs": [
        {
          "output_type": "stream",
          "name": "stdout",
          "text": [
            "Hello\n"
          ]
        }
      ]
    },
    {
      "cell_type": "code",
      "metadata": {
        "colab": {
          "base_uri": "https://localhost:8080/"
        },
        "id": "x5Z_KI0KMOoW",
        "outputId": "fb141044-b361-464d-efc0-73519a9cce60"
      },
      "source": [
        "import math\n",
        "math.sqrt(4)"
      ],
      "execution_count": 3,
      "outputs": [
        {
          "output_type": "execute_result",
          "data": {
            "text/plain": [
              "2.0"
            ]
          },
          "metadata": {},
          "execution_count": 3
        }
      ]
    },
    {
      "cell_type": "code",
      "metadata": {
        "id": "fgy1cVbmMYR8"
      },
      "source": [
        "def hello2():\n",
        "    print('안녕하세요')"
      ],
      "execution_count": 4,
      "outputs": []
    },
    {
      "cell_type": "code",
      "metadata": {
        "colab": {
          "base_uri": "https://localhost:8080/"
        },
        "id": "uPdd-AKXMzFP",
        "outputId": "7e295c16-1644-4253-e482-ef9a50b20884"
      },
      "source": [
        "hello2()"
      ],
      "execution_count": 5,
      "outputs": [
        {
          "output_type": "stream",
          "name": "stdout",
          "text": [
            "안녕하세요\n"
          ]
        }
      ]
    },
    {
      "cell_type": "code",
      "metadata": {
        "colab": {
          "base_uri": "https://localhost:8080/"
        },
        "id": "PVZB9Bm9M0bA",
        "outputId": "61aa679b-01ff-4def-cdfa-8a498269c649"
      },
      "source": [
        "hello()\n",
        "hello2()"
      ],
      "execution_count": 6,
      "outputs": [
        {
          "output_type": "stream",
          "name": "stdout",
          "text": [
            "Hello\n",
            "안녕하세요\n"
          ]
        }
      ]
    },
    {
      "cell_type": "markdown",
      "metadata": {
        "id": "BjGsa4_3OVqS"
      },
      "source": [
        "### 매개변수(Argument, Parameter)"
      ]
    },
    {
      "cell_type": "code",
      "metadata": {
        "id": "73m66bHaM3bp"
      },
      "source": [
        "def new_hello(lang):\n",
        "    if lang == 'en':\n",
        "        print('Hello')\n",
        "    elif lang == 'ko':\n",
        "        print('안녕하세요')\n",
        "    else:\n",
        "        print('Not implemented yet!')"
      ],
      "execution_count": 7,
      "outputs": []
    },
    {
      "cell_type": "code",
      "metadata": {
        "colab": {
          "base_uri": "https://localhost:8080/"
        },
        "id": "djclyJpRNSHh",
        "outputId": "7fabda85-023d-4b27-e28c-72d4ca9b7453"
      },
      "source": [
        "new_hello('en')"
      ],
      "execution_count": 8,
      "outputs": [
        {
          "output_type": "stream",
          "name": "stdout",
          "text": [
            "Hello\n"
          ]
        }
      ]
    },
    {
      "cell_type": "code",
      "metadata": {
        "colab": {
          "base_uri": "https://localhost:8080/"
        },
        "id": "bT5h-lJBNU4F",
        "outputId": "ad65b729-56f5-4b1e-8773-01f5f1301df7"
      },
      "source": [
        "new_hello('ko')"
      ],
      "execution_count": 9,
      "outputs": [
        {
          "output_type": "stream",
          "name": "stdout",
          "text": [
            "안녕하세요\n"
          ]
        }
      ]
    },
    {
      "cell_type": "code",
      "metadata": {
        "colab": {
          "base_uri": "https://localhost:8080/"
        },
        "id": "Pxee6qWiNXES",
        "outputId": "0485e3f3-6a6c-4e48-c8a9-7a77c9a47098"
      },
      "source": [
        "new_hello('fr')"
      ],
      "execution_count": 10,
      "outputs": [
        {
          "output_type": "stream",
          "name": "stdout",
          "text": [
            "Not implemented yet!\n"
          ]
        }
      ]
    },
    {
      "cell_type": "code",
      "metadata": {
        "colab": {
          "base_uri": "https://localhost:8080/"
        },
        "id": "HxjXp66gNZ6g",
        "outputId": "cb21d3b7-a55c-41ac-94e2-a168938f6dfe"
      },
      "source": [
        "print(1,2,3,4,5,6, sep=', ')"
      ],
      "execution_count": 12,
      "outputs": [
        {
          "output_type": "stream",
          "name": "stdout",
          "text": [
            "1, 2, 3, 4, 5, 6\n"
          ]
        }
      ]
    },
    {
      "cell_type": "markdown",
      "metadata": {
        "id": "qT3c9LViOSZT"
      },
      "source": [
        "### 함수값의 반환"
      ]
    },
    {
      "cell_type": "code",
      "metadata": {
        "id": "DwxWfhfrNyq9"
      },
      "source": [
        "def circle_area(radius):\n",
        "    area = math.pi * radius * radius\n",
        "    return area"
      ],
      "execution_count": 13,
      "outputs": []
    },
    {
      "cell_type": "code",
      "metadata": {
        "colab": {
          "base_uri": "https://localhost:8080/"
        },
        "id": "xdW67JkTOur5",
        "outputId": "18d8678d-0886-4815-9efb-b2a04b5fc6e6"
      },
      "source": [
        "radius = int(input('원의 반지름을 입력하세요> '))\n",
        "result = circle_area(radius)\n",
        "print(f'반지름: {radius}, 원의 면적: {result:.2f}')"
      ],
      "execution_count": 16,
      "outputs": [
        {
          "output_type": "stream",
          "name": "stdout",
          "text": [
            "원의 반지름을 입력하세요> 4\n",
            "반지름: 4, 원의 면적: 50.27\n"
          ]
        }
      ]
    },
    {
      "cell_type": "code",
      "metadata": {
        "id": "bD2FEj-NO4Uh"
      },
      "source": [
        "def circle_info(r):\n",
        "    area = r * r * math.pi\n",
        "    circumference = 2 * r * math.pi\n",
        "    return area, circumference"
      ],
      "execution_count": 17,
      "outputs": []
    },
    {
      "cell_type": "code",
      "metadata": {
        "colab": {
          "base_uri": "https://localhost:8080/"
        },
        "id": "c3-ROXr6PeDS",
        "outputId": "b74de03f-e35b-4270-9cd6-e48e2db5217f"
      },
      "source": [
        "radius = int(input('원의 반지름을 입력하세요> '))\n",
        "a, b = circle_info(radius)\n",
        "print(f'반지름: {radius}, 원의 면적: {a:.2f}, 원의 둘레: {b:.2f}')"
      ],
      "execution_count": 18,
      "outputs": [
        {
          "output_type": "stream",
          "name": "stdout",
          "text": [
            "원의 반지름을 입력하세요> 10\n",
            "반지름: 10, 원의 면적: 314.16, 원의 둘레: 62.83\n"
          ]
        }
      ]
    },
    {
      "cell_type": "markdown",
      "metadata": {
        "id": "bPKzB83LQFRg"
      },
      "source": [
        "### 익명 함수(lambda function)"
      ]
    },
    {
      "cell_type": "code",
      "metadata": {
        "colab": {
          "base_uri": "https://localhost:8080/"
        },
        "id": "Ln-xCp09PlTx",
        "outputId": "6b0ad8f4-6224-4085-87f8-f68830b832df"
      },
      "source": [
        "sq = lambda x: x**2\n",
        "sq(5)"
      ],
      "execution_count": 19,
      "outputs": [
        {
          "output_type": "execute_result",
          "data": {
            "text/plain": [
              "25"
            ]
          },
          "metadata": {},
          "execution_count": 19
        }
      ]
    },
    {
      "cell_type": "code",
      "metadata": {
        "colab": {
          "base_uri": "https://localhost:8080/"
        },
        "id": "PGf0xPfsQaeF",
        "outputId": "61c1a231-f8c0-4e3b-b712-654ccc14fa0f"
      },
      "source": [
        "list(map(lambda x: x**3, [1,2,3]))"
      ],
      "execution_count": 20,
      "outputs": [
        {
          "output_type": "execute_result",
          "data": {
            "text/plain": [
              "[1, 8, 27]"
            ]
          },
          "metadata": {},
          "execution_count": 20
        }
      ]
    },
    {
      "cell_type": "code",
      "metadata": {
        "id": "o-iDpgArQltq"
      },
      "source": [
        "def triple(x):\n",
        "    return x**3"
      ],
      "execution_count": 21,
      "outputs": []
    },
    {
      "cell_type": "code",
      "metadata": {
        "colab": {
          "base_uri": "https://localhost:8080/"
        },
        "id": "qmySmlmXQvRi",
        "outputId": "d026bbd0-abb8-483a-ca3e-2fc35b360ad1"
      },
      "source": [
        "list(map(triple, [1,2,3]))"
      ],
      "execution_count": 22,
      "outputs": [
        {
          "output_type": "execute_result",
          "data": {
            "text/plain": [
              "[1, 8, 27]"
            ]
          },
          "metadata": {},
          "execution_count": 22
        }
      ]
    },
    {
      "cell_type": "markdown",
      "metadata": {
        "id": "DwBXlXzZRHMV"
      },
      "source": [
        "### 재귀 호출(Recursive call)"
      ]
    },
    {
      "cell_type": "code",
      "metadata": {
        "id": "mOrkT9KrQzvC"
      },
      "source": [
        "def factorial(n):\n",
        "    if n == 0:\n",
        "        return 1\n",
        "    return n * factorial(n-1)"
      ],
      "execution_count": 23,
      "outputs": []
    },
    {
      "cell_type": "code",
      "metadata": {
        "colab": {
          "base_uri": "https://localhost:8080/"
        },
        "id": "JvbUDej6Rknv",
        "outputId": "c43bfcee-5f55-4411-ddc4-239b045573b4"
      },
      "source": [
        "factorial(5)"
      ],
      "execution_count": 24,
      "outputs": [
        {
          "output_type": "execute_result",
          "data": {
            "text/plain": [
              "120"
            ]
          },
          "metadata": {},
          "execution_count": 24
        }
      ]
    },
    {
      "cell_type": "code",
      "metadata": {
        "id": "bG0UphWSRnqP"
      },
      "source": [
        "def fibo(n):\n",
        "    if n == 0 or n == 1:\n",
        "        return 1\n",
        "    return fibo(n-1) + fibo(n-2)"
      ],
      "execution_count": 25,
      "outputs": []
    },
    {
      "cell_type": "code",
      "metadata": {
        "colab": {
          "base_uri": "https://localhost:8080/"
        },
        "id": "MiR_HG7CSOAe",
        "outputId": "8668f074-7153-4c9b-cfd1-d9ed354accef"
      },
      "source": [
        "for i in range(10):\n",
        "    print(f'fibo({i}) = {fibo(i)}')"
      ],
      "execution_count": 27,
      "outputs": [
        {
          "output_type": "stream",
          "name": "stdout",
          "text": [
            "fibo(0) = 1\n",
            "fibo(1) = 1\n",
            "fibo(2) = 2\n",
            "fibo(3) = 3\n",
            "fibo(4) = 5\n",
            "fibo(5) = 8\n",
            "fibo(6) = 13\n",
            "fibo(7) = 21\n",
            "fibo(8) = 34\n",
            "fibo(9) = 55\n"
          ]
        }
      ]
    },
    {
      "cell_type": "markdown",
      "metadata": {
        "id": "Gs3kZDBeS8wb"
      },
      "source": [
        "### 지역변수, 전역변수"
      ]
    },
    {
      "cell_type": "code",
      "metadata": {
        "id": "r2HITFuTTDiT"
      },
      "source": [
        "# 함수내에 x 변수를 만들지 않았으므로, x는 전역변수\n",
        "def gl():\n",
        "    print(x)"
      ],
      "execution_count": 29,
      "outputs": []
    },
    {
      "cell_type": "code",
      "metadata": {
        "colab": {
          "base_uri": "https://localhost:8080/"
        },
        "id": "yu4faJqVSZbM",
        "outputId": "25a05cbe-9e39-4a92-8f08-96a3bd666c41"
      },
      "source": [
        "x = 10\n",
        "gl()"
      ],
      "execution_count": 30,
      "outputs": [
        {
          "output_type": "stream",
          "name": "stdout",
          "text": [
            "10\n"
          ]
        }
      ]
    },
    {
      "cell_type": "code",
      "metadata": {
        "id": "QHW7Le7sTNdl"
      },
      "source": [
        "# 함수내에 x 변수를 만들었으므로, x는 지역변수\n",
        "def gl2():\n",
        "    x = 5\n",
        "    print(x)"
      ],
      "execution_count": 31,
      "outputs": []
    },
    {
      "cell_type": "code",
      "metadata": {
        "colab": {
          "base_uri": "https://localhost:8080/"
        },
        "id": "aJkJupk8TWX5",
        "outputId": "18c5d8aa-43e5-4db8-e9da-ac39cc3db2c5"
      },
      "source": [
        "x = 10\n",
        "gl2()\n",
        "print(x)"
      ],
      "execution_count": 32,
      "outputs": [
        {
          "output_type": "stream",
          "name": "stdout",
          "text": [
            "5\n",
            "10\n"
          ]
        }
      ]
    },
    {
      "cell_type": "markdown",
      "metadata": {
        "id": "AsP95MMWT8DO"
      },
      "source": [
        "### 3자리 숫자 두개를 곱해서 만든 수 중에서 최대 대칭수(Palindrome)를 찾으세요."
      ]
    },
    {
      "cell_type": "code",
      "metadata": {
        "id": "eFafvWFATjZ5"
      },
      "source": [
        "def is_palindrome(s):\n",
        "    return s == s[::-1]"
      ],
      "execution_count": 33,
      "outputs": []
    },
    {
      "cell_type": "code",
      "metadata": {
        "colab": {
          "base_uri": "https://localhost:8080/"
        },
        "id": "oZtL7eFkUQYg",
        "outputId": "ac8aa5d6-cd39-4958-b28c-2ebb0a0e9354"
      },
      "source": [
        "max_pal, max_x, max_y = 0, 0, 0\n",
        "for i in range(100, 1000):\n",
        "    for k in range(i, 1000):\n",
        "        mul = i * k\n",
        "        if is_palindrome(str(mul)):\n",
        "            if mul > max_pal:\n",
        "                max_pal, max_x, max_y = mul, i, k\n",
        "\n",
        "print(max_pal, max_x, max_y)"
      ],
      "execution_count": 36,
      "outputs": [
        {
          "output_type": "stream",
          "name": "stdout",
          "text": [
            "906609 913 993\n"
          ]
        }
      ]
    },
    {
      "cell_type": "code",
      "metadata": {
        "id": "DtAL5lO8VFvl"
      },
      "source": [
        ""
      ],
      "execution_count": null,
      "outputs": []
    }
  ]
}